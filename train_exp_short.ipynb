{
 "cells": [
  {
   "cell_type": "code",
   "execution_count": 1,
   "id": "80845a45-ad38-46f2-a0d7-51da95847c0a",
   "metadata": {},
   "outputs": [],
   "source": [
    "import tensorflow as tf\n",
    "import numpy as np\n",
    "from tensorflow import keras\n",
    "from tensorflow.keras import layers\n",
    "from tensorflow.keras.datasets import mnist\n",
    "from PIL import Image\n",
    "import matplotlib.pyplot as plt"
   ]
  },
  {
   "cell_type": "code",
   "execution_count": 5,
   "id": "20e4da3a-1bb5-459e-848c-f0e264df0cc4",
   "metadata": {},
   "outputs": [],
   "source": [
    "BATCH_SIZE = 200\n",
    "IMG_SIZE = (28, 28)\n",
    "IMG_SHAPE = IMG_SIZE + (1,)\n",
    "EPOCHS = 30\n",
    "NUM_CLASS = 10"
   ]
  },
  {
   "cell_type": "code",
   "execution_count": 3,
   "id": "94c66fa8-fc3b-4cf1-a077-dd926a941e2a",
   "metadata": {},
   "outputs": [],
   "source": [
    "(x_train, y_train), (x_test, y_test) = mnist.load_data()"
   ]
  },
  {
   "cell_type": "code",
   "execution_count": 4,
   "id": "ecb3c9f9-e84f-45b9-9a9b-2d66432de949",
   "metadata": {},
   "outputs": [],
   "source": [
    "data_augm = tf.keras.Sequential([\n",
    "    layers.experimental.preprocessing.RandomRotation(0.04, \n",
    "                                                     interpolation='bilinear', \n",
    "                                                     seed=42), # 15°  2pi * 0.04 -> rad\n",
    "    layers.experimental.preprocessing.RandomTranslation(height_factor=0.1,  # %\n",
    "                                                        width_factor=0.2,\n",
    "                                                        interpolation='nearest'),\n",
    "    layers.experimental.preprocessing.RandomZoom(height_factor=0.1,\n",
    "                                                 width_factor=0.1,\n",
    "                                                 interpolation='nearest')\n",
    "])"
   ]
  },
  {
   "cell_type": "code",
   "execution_count": 7,
   "id": "46ffff1d-ccaa-4b1f-9956-f8d58c94a885",
   "metadata": {},
   "outputs": [],
   "source": [
    "inputs = tf.keras.Input(shape=IMG_SHAPE) \n",
    "x = data_augm(inputs)\n",
    "x = tf.keras.layers.Conv2D(32, (3,3))(x)\n",
    "x = tf.keras.layers.Activation('relu')(x)\n",
    "x = tf.keras.layers.Conv2D(32, (3,3))(x)\n",
    "x = tf.keras.layers.Activation('relu')(x)\n",
    "x = tf.keras.layers.MaxPool2D(pool_size=(2,2))(x)\n",
    "x = tf.keras.layers.Conv2D(64, (3,3))(x)\n",
    "x = tf.keras.layers.Activation('relu')(x)\n",
    "x = tf.keras.layers.Conv2D(64, (3,3))(x)\n",
    "x = tf.keras.layers.Activation('relu')(x)\n",
    "x = tf.keras.layers.MaxPool2D(pool_size=(2,2))(x)\n",
    "x = tf.keras.layers.Flatten()(x)\n",
    "x = tf.keras.layers.Dense(512)(x)\n",
    "x = tf.keras.layers.Activation('relu')(x)\n",
    "x = tf.keras.layers.Dropout(0.2)(x)\n",
    "x = tf.keras.layers.Dense(NUM_CLASS)(x)\n",
    "x = tf.keras.layers.Activation('softmax')(x)\n",
    "model = tf.keras.Model(inputs, x)"
   ]
  },
  {
   "cell_type": "code",
   "execution_count": 8,
   "id": "11d339ab-c4ad-441c-919e-8e6440f2f60e",
   "metadata": {},
   "outputs": [
    {
     "name": "stdout",
     "output_type": "stream",
     "text": [
      "Model: \"model\"\n",
      "_________________________________________________________________\n",
      "Layer (type)                 Output Shape              Param #   \n",
      "=================================================================\n",
      "input_2 (InputLayer)         [(None, 28, 28, 1)]       0         \n",
      "_________________________________________________________________\n",
      "sequential (Sequential)      (None, 28, 28, 1)         0         \n",
      "_________________________________________________________________\n",
      "conv2d (Conv2D)              (None, 26, 26, 32)        320       \n",
      "_________________________________________________________________\n",
      "activation (Activation)      (None, 26, 26, 32)        0         \n",
      "_________________________________________________________________\n",
      "conv2d_1 (Conv2D)            (None, 24, 24, 32)        9248      \n",
      "_________________________________________________________________\n",
      "activation_1 (Activation)    (None, 24, 24, 32)        0         \n",
      "_________________________________________________________________\n",
      "max_pooling2d (MaxPooling2D) (None, 12, 12, 32)        0         \n",
      "_________________________________________________________________\n",
      "conv2d_2 (Conv2D)            (None, 10, 10, 64)        18496     \n",
      "_________________________________________________________________\n",
      "activation_2 (Activation)    (None, 10, 10, 64)        0         \n",
      "_________________________________________________________________\n",
      "conv2d_3 (Conv2D)            (None, 8, 8, 64)          36928     \n",
      "_________________________________________________________________\n",
      "activation_3 (Activation)    (None, 8, 8, 64)          0         \n",
      "_________________________________________________________________\n",
      "max_pooling2d_1 (MaxPooling2 (None, 4, 4, 64)          0         \n",
      "_________________________________________________________________\n",
      "flatten (Flatten)            (None, 1024)              0         \n",
      "_________________________________________________________________\n",
      "dense (Dense)                (None, 512)               524800    \n",
      "_________________________________________________________________\n",
      "activation_4 (Activation)    (None, 512)               0         \n",
      "_________________________________________________________________\n",
      "dropout (Dropout)            (None, 512)               0         \n",
      "_________________________________________________________________\n",
      "dense_1 (Dense)              (None, 10)                5130      \n",
      "_________________________________________________________________\n",
      "activation_5 (Activation)    (None, 10)                0         \n",
      "=================================================================\n",
      "Total params: 594,922\n",
      "Trainable params: 594,922\n",
      "Non-trainable params: 0\n",
      "_________________________________________________________________\n"
     ]
    }
   ],
   "source": [
    "model.summary()"
   ]
  },
  {
   "cell_type": "code",
   "execution_count": 9,
   "id": "c0cf8303-fc4d-4102-b93d-421d62fcf240",
   "metadata": {},
   "outputs": [],
   "source": [
    "model.compile(optimizer='adam', \n",
    "              loss=keras.losses.SparseCategoricalCrossentropy(),\n",
    "              metrics=[keras.metrics.SparseCategoricalAccuracy()])"
   ]
  },
  {
   "cell_type": "code",
   "execution_count": 10,
   "id": "b860b6d5-ff9c-41ff-9db4-68190de0f53a",
   "metadata": {},
   "outputs": [
    {
     "data": {
      "text/plain": [
       "{'reduction': 'auto',\n",
       " 'name': 'sparse_categorical_crossentropy',\n",
       " 'from_logits': False}"
      ]
     },
     "execution_count": 10,
     "metadata": {},
     "output_type": "execute_result"
    }
   ],
   "source": [
    "model.loss.get_config()"
   ]
  },
  {
   "cell_type": "code",
   "execution_count": 11,
   "id": "c0ca44cf-a609-48f4-af47-465bb2d19b3c",
   "metadata": {},
   "outputs": [
    {
     "data": {
      "text/plain": [
       "{'name': 'Adam',\n",
       " 'learning_rate': 0.001,\n",
       " 'decay': 0.0,\n",
       " 'beta_1': 0.9,\n",
       " 'beta_2': 0.999,\n",
       " 'epsilon': 1e-07,\n",
       " 'amsgrad': False}"
      ]
     },
     "execution_count": 11,
     "metadata": {},
     "output_type": "execute_result"
    }
   ],
   "source": [
    "model.optimizer.get_config()"
   ]
  },
  {
   "cell_type": "code",
   "execution_count": 12,
   "id": "5aa9eb0b-ee96-4d7f-a165-efd3068a5568",
   "metadata": {},
   "outputs": [
    {
     "name": "stdout",
     "output_type": "stream",
     "text": [
      "Epoch 1/30\n",
      "300/300 [==============================] - 31s 101ms/step - loss: 0.7619 - sparse_categorical_accuracy: 0.8235\n",
      "Epoch 2/30\n",
      "300/300 [==============================] - 30s 101ms/step - loss: 0.1329 - sparse_categorical_accuracy: 0.9594\n",
      "Epoch 3/30\n",
      "300/300 [==============================] - 31s 103ms/step - loss: 0.1063 - sparse_categorical_accuracy: 0.9675\n",
      "Epoch 4/30\n",
      "300/300 [==============================] - 32s 107ms/step - loss: 0.0863 - sparse_categorical_accuracy: 0.9739\n",
      "Epoch 5/30\n",
      "300/300 [==============================] - 38s 126ms/step - loss: 0.0741 - sparse_categorical_accuracy: 0.9774\n",
      "Epoch 6/30\n",
      "300/300 [==============================] - 35s 117ms/step - loss: 0.0707 - sparse_categorical_accuracy: 0.9783\n",
      "Epoch 7/30\n",
      "300/300 [==============================] - 37s 124ms/step - loss: 0.0642 - sparse_categorical_accuracy: 0.9803\n",
      "Epoch 8/30\n",
      "300/300 [==============================] - 39s 129ms/step - loss: 0.0573 - sparse_categorical_accuracy: 0.9824\n",
      "Epoch 9/30\n",
      "300/300 [==============================] - 45s 150ms/step - loss: 0.0541 - sparse_categorical_accuracy: 0.9829\n",
      "Epoch 10/30\n",
      "300/300 [==============================] - 43s 142ms/step - loss: 0.0493 - sparse_categorical_accuracy: 0.9853\n",
      "Epoch 11/30\n",
      "300/300 [==============================] - 37s 123ms/step - loss: 0.0489 - sparse_categorical_accuracy: 0.9854\n",
      "Epoch 12/30\n",
      "300/300 [==============================] - 31s 102ms/step - loss: 0.0467 - sparse_categorical_accuracy: 0.9860\n",
      "Epoch 13/30\n",
      "300/300 [==============================] - 32s 105ms/step - loss: 0.0447 - sparse_categorical_accuracy: 0.9863\n",
      "Epoch 14/30\n",
      "300/300 [==============================] - 30s 99ms/step - loss: 0.0447 - sparse_categorical_accuracy: 0.9860\n",
      "Epoch 15/30\n",
      "300/300 [==============================] - 30s 98ms/step - loss: 0.0417 - sparse_categorical_accuracy: 0.9876\n",
      "Epoch 16/30\n",
      "300/300 [==============================] - 30s 100ms/step - loss: 0.0426 - sparse_categorical_accuracy: 0.9872\n",
      "Epoch 17/30\n",
      "300/300 [==============================] - 30s 100ms/step - loss: 0.0411 - sparse_categorical_accuracy: 0.9874\n",
      "Epoch 18/30\n",
      "300/300 [==============================] - 30s 101ms/step - loss: 0.0419 - sparse_categorical_accuracy: 0.9871\n",
      "Epoch 19/30\n",
      "300/300 [==============================] - 30s 100ms/step - loss: 0.0408 - sparse_categorical_accuracy: 0.9880\n",
      "Epoch 20/30\n",
      "300/300 [==============================] - 30s 100ms/step - loss: 0.0393 - sparse_categorical_accuracy: 0.9879\n",
      "Epoch 21/30\n",
      "300/300 [==============================] - 30s 100ms/step - loss: 0.0369 - sparse_categorical_accuracy: 0.9891\n",
      "Epoch 22/30\n",
      "300/300 [==============================] - 30s 101ms/step - loss: 0.0370 - sparse_categorical_accuracy: 0.9888\n",
      "Epoch 23/30\n",
      "300/300 [==============================] - 30s 99ms/step - loss: 0.0382 - sparse_categorical_accuracy: 0.9881\n",
      "Epoch 24/30\n",
      "300/300 [==============================] - 31s 105ms/step - loss: 0.0378 - sparse_categorical_accuracy: 0.9889\n",
      "Epoch 25/30\n",
      "300/300 [==============================] - 33s 111ms/step - loss: 0.0364 - sparse_categorical_accuracy: 0.9892\n",
      "Epoch 26/30\n",
      "300/300 [==============================] - 31s 102ms/step - loss: 0.0350 - sparse_categorical_accuracy: 0.9891\n",
      "Epoch 27/30\n",
      "300/300 [==============================] - 31s 103ms/step - loss: 0.0331 - sparse_categorical_accuracy: 0.9900\n",
      "Epoch 28/30\n",
      "300/300 [==============================] - 31s 104ms/step - loss: 0.0322 - sparse_categorical_accuracy: 0.9903\n",
      "Epoch 29/30\n",
      "300/300 [==============================] - 31s 105ms/step - loss: 0.0335 - sparse_categorical_accuracy: 0.9898\n",
      "Epoch 30/30\n",
      "300/300 [==============================] - 32s 108ms/step - loss: 0.0306 - sparse_categorical_accuracy: 0.99101s - loss: 0.0309 - sparse_categorical_\n"
     ]
    }
   ],
   "source": [
    "history = model.fit(x_train,\n",
    "                    y_train,\n",
    "                    batch_size=BATCH_SIZE,\n",
    "                    epochs=EPOCHS)"
   ]
  },
  {
   "cell_type": "code",
   "execution_count": 16,
   "id": "ba003255-864f-48bb-a303-f621eba99e4a",
   "metadata": {},
   "outputs": [
    {
     "name": "stdout",
     "output_type": "stream",
     "text": [
      "313/313 [==============================] - 1s 4ms/step - loss: 0.0209 - sparse_categorical_accuracy: 0.9938\n"
     ]
    },
    {
     "data": {
      "text/plain": [
       "[0.020894015207886696, 0.9937999844551086]"
      ]
     },
     "execution_count": 16,
     "metadata": {},
     "output_type": "execute_result"
    }
   ],
   "source": [
    "model.evaluate(x_test, y_test)"
   ]
  },
  {
   "cell_type": "code",
   "execution_count": 15,
   "id": "42356b9c-e508-4ec0-84c1-f510a77f6448",
   "metadata": {},
   "outputs": [],
   "source": [
    "model.save('exp_short.h5')"
   ]
  },
  {
   "cell_type": "code",
   "execution_count": null,
   "id": "745a8646-1ab0-4e21-88b4-738ca404b2af",
   "metadata": {},
   "outputs": [],
   "source": []
  }
 ],
 "metadata": {
  "kernelspec": {
   "display_name": "Python 3",
   "language": "python",
   "name": "python3"
  },
  "language_info": {
   "codemirror_mode": {
    "name": "ipython",
    "version": 3
   },
   "file_extension": ".py",
   "mimetype": "text/x-python",
   "name": "python",
   "nbconvert_exporter": "python",
   "pygments_lexer": "ipython3",
   "version": "3.9.6"
  }
 },
 "nbformat": 4,
 "nbformat_minor": 5
}
