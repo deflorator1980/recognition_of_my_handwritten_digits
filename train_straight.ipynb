{
 "cells": [
  {
   "cell_type": "code",
   "execution_count": 1,
   "metadata": {
    "colab": {},
    "colab_type": "code",
    "id": "zn8uyP0Rb3LQ"
   },
   "outputs": [],
   "source": [
    "import tensorflow as tf\n",
    "import numpy as np\n",
    "from tensorflow.keras.models import Sequential\n",
    "from tensorflow.keras.layers import Dense, Dropout, Activation, Flatten,\\\n",
    "      MaxPool2D, Conv2D, BatchNormalization\n",
    "from keras.utils import np_utils\n",
    "from tensorflow.keras.preprocessing.image import ImageDataGenerator\n",
    "from matplotlib import pyplot as plt\n",
    "from tensorflow.keras.datasets import mnist\n",
    "from tensorflow.keras.callbacks import ModelCheckpoint "
   ]
  },
  {
   "cell_type": "code",
   "execution_count": 2,
   "metadata": {
    "colab": {},
    "colab_type": "code",
    "id": "nuLa3TrtkhaA"
   },
   "outputs": [],
   "source": [
    "IMG_SIZE=28\n",
    "batch_size=200\n",
    "epochs=30"
   ]
  },
  {
   "cell_type": "code",
   "execution_count": 3,
   "metadata": {
    "colab": {
     "base_uri": "https://localhost:8080/",
     "height": 52
    },
    "colab_type": "code",
    "id": "dMyh9mByb3La",
    "outputId": "e7311b70-bccd-4aae-ceae-9c8746a2841a"
   },
   "outputs": [
    {
     "name": "stdout",
     "output_type": "stream",
     "text": [
      "Downloading data from https://storage.googleapis.com/tensorflow/tf-keras-datasets/mnist.npz\n",
      "11493376/11490434 [==============================] - 0s 0us/step\n"
     ]
    }
   ],
   "source": [
    "(x_train, y_train), (x_test, y_test) = mnist.load_data()"
   ]
  },
  {
   "cell_type": "code",
   "execution_count": 4,
   "metadata": {
    "colab": {},
    "colab_type": "code",
    "id": "GFJn-TVIb3Lj"
   },
   "outputs": [],
   "source": [
    "x_train = x_train.reshape(x_train.shape[0],IMG_SIZE,IMG_SIZE,1).astype('float32')\n",
    "x_test = x_test.reshape(x_test.shape[0],IMG_SIZE,IMG_SIZE,1).astype('float32')\n",
    "x_train /= 255\n",
    "x_test /= 255\n",
    "y_train = np_utils.to_categorical(y_train) \n",
    "y_test = np_utils.to_categorical(y_test)"
   ]
  },
  {
   "cell_type": "code",
   "execution_count": 5,
   "metadata": {
    "colab": {},
    "colab_type": "code",
    "id": "cCOEGBtsb3Lq"
   },
   "outputs": [],
   "source": [
    "classifier = Sequential()\n",
    "classifier.add(Conv2D(32, (3,3), input_shape=(IMG_SIZE,IMG_SIZE,1)))\n",
    "# classifier.add(BatchNormalization(axis=-1))  \n",
    "classifier.add(Activation('relu'))\n",
    "\n",
    "classifier.add(Conv2D(32, (3,3)))\n",
    "# classifier.add(BatchNormalization(axis=-1))\n",
    "classifier.add(Activation('relu'))\n",
    "\n",
    "classifier.add(MaxPool2D(pool_size=(2,2)))\n",
    "# classifier.add(BatchNormalization(axis=-1))\n",
    "\n",
    "classifier.add(Conv2D(64, (3,3)))\n",
    "# classifier.add(BatchNormalization(axis=-1))\n",
    "classifier.add(Activation('relu'))\n",
    "\n",
    "classifier.add(Conv2D(64, (3,3)))\n",
    "classifier.add(Activation('relu'))\n",
    "classifier.add(MaxPool2D(pool_size=(2,2)))\n",
    "\n",
    "classifier.add(Flatten())\n",
    "# classifier.add(BatchNormalization())\n",
    "\n",
    "classifier.add(Dense(512))\n",
    "# classifier.add(BatchNormalization())\n",
    "classifier.add(Activation('relu'))\n",
    "\n",
    "classifier.add(Dropout(0.2))\n",
    "classifier.add(Dense(10))\n",
    "classifier.add(Activation('softmax'))"
   ]
  },
  {
   "cell_type": "code",
   "execution_count": 7,
   "metadata": {
    "colab": {},
    "colab_type": "code",
    "id": "e7ffaoy2b3Lv"
   },
   "outputs": [],
   "source": [
    "classifier.compile(optimizer='adam', loss='categorical_crossentropy', metrics=['accuracy'])"
   ]
  },
  {
   "cell_type": "code",
   "execution_count": 8,
   "metadata": {
    "colab": {},
    "colab_type": "code",
    "id": "UBkFo7Xqb3L1"
   },
   "outputs": [],
   "source": [
    "train_gen = ImageDataGenerator(rotation_range=10,\n",
    "                               width_shift_range=0.1,\n",
    "                               shear_range=0.3,\n",
    "                               height_shift_range=0.1,\n",
    "                               zoom_range=0.1)\n",
    "test_gen = ImageDataGenerator()"
   ]
  },
  {
   "cell_type": "code",
   "execution_count": 9,
   "metadata": {
    "colab": {},
    "colab_type": "code",
    "id": "W9ivXPgab3L5"
   },
   "outputs": [],
   "source": [
    "training_set = train_gen.flow(x_train,y_train,batch_size=batch_size)\n",
    "test_set = train_gen.flow(x_test,y_test,batch_size=batch_size)"
   ]
  },
  {
   "cell_type": "code",
   "execution_count": 10,
   "metadata": {
    "colab": {},
    "colab_type": "code",
    "id": "I9iJoF13b3L-"
   },
   "outputs": [],
   "source": [
    "model_save_path = 'straight_bs200e30_tf23.h5'\n",
    "checkpoint_callback = ModelCheckpoint(model_save_path,\n",
    "                                      monitor='val_accuracy',\n",
    "                                      save_best_only=True,\n",
    "                                      verbose=1)"
   ]
  },
  {
   "cell_type": "code",
   "execution_count": 14,
   "metadata": {
    "colab": {
     "base_uri": "https://localhost:8080/",
     "height": 1000
    },
    "colab_type": "code",
    "id": "FD6EVciUb3MB",
    "outputId": "679525b2-588e-47d4-c8b0-2e7690099d95"
   },
   "outputs": [
    {
     "name": "stdout",
     "output_type": "stream",
     "text": [
      "Epoch 1/30\n",
      "300/300 [==============================] - ETA: 0s - loss: 0.3581 - accuracy: 0.8839\n",
      "Epoch 00001: val_accuracy improved from -inf to 0.97020, saving model to straight_bs200e30_tf23.h5\n",
      "300/300 [==============================] - 17s 57ms/step - loss: 0.3581 - accuracy: 0.8839 - val_loss: 0.0907 - val_accuracy: 0.9702\n",
      "Epoch 2/30\n",
      "299/300 [============================>.] - ETA: 0s - loss: 0.0871 - accuracy: 0.9729\n",
      "Epoch 00002: val_accuracy improved from 0.97020 to 0.98240, saving model to straight_bs200e30_tf23.h5\n",
      "300/300 [==============================] - 17s 57ms/step - loss: 0.0869 - accuracy: 0.9729 - val_loss: 0.0528 - val_accuracy: 0.9824\n",
      "Epoch 3/30\n",
      "300/300 [==============================] - ETA: 0s - loss: 0.0667 - accuracy: 0.9797\n",
      "Epoch 00003: val_accuracy improved from 0.98240 to 0.98260, saving model to straight_bs200e30_tf23.h5\n",
      "300/300 [==============================] - 17s 58ms/step - loss: 0.0667 - accuracy: 0.9797 - val_loss: 0.0522 - val_accuracy: 0.9826\n",
      "Epoch 4/30\n",
      "300/300 [==============================] - ETA: 0s - loss: 0.0505 - accuracy: 0.9842\n",
      "Epoch 00004: val_accuracy improved from 0.98260 to 0.98850, saving model to straight_bs200e30_tf23.h5\n",
      "300/300 [==============================] - 17s 56ms/step - loss: 0.0505 - accuracy: 0.9842 - val_loss: 0.0395 - val_accuracy: 0.9885\n",
      "Epoch 5/30\n",
      "299/300 [============================>.] - ETA: 0s - loss: 0.0439 - accuracy: 0.9866\n",
      "Epoch 00005: val_accuracy improved from 0.98850 to 0.98980, saving model to straight_bs200e30_tf23.h5\n",
      "300/300 [==============================] - 17s 57ms/step - loss: 0.0438 - accuracy: 0.9866 - val_loss: 0.0330 - val_accuracy: 0.9898\n",
      "Epoch 6/30\n",
      "300/300 [==============================] - ETA: 0s - loss: 0.0409 - accuracy: 0.9877\n",
      "Epoch 00006: val_accuracy did not improve from 0.98980\n",
      "300/300 [==============================] - 17s 56ms/step - loss: 0.0409 - accuracy: 0.9877 - val_loss: 0.0327 - val_accuracy: 0.9895\n",
      "Epoch 7/30\n",
      "299/300 [============================>.] - ETA: 0s - loss: 0.0352 - accuracy: 0.9894\n",
      "Epoch 00007: val_accuracy did not improve from 0.98980\n",
      "300/300 [==============================] - 17s 57ms/step - loss: 0.0353 - accuracy: 0.9894 - val_loss: 0.0318 - val_accuracy: 0.9887\n",
      "Epoch 8/30\n",
      "299/300 [============================>.] - ETA: 0s - loss: 0.0337 - accuracy: 0.9901\n",
      "Epoch 00008: val_accuracy improved from 0.98980 to 0.99090, saving model to straight_bs200e30_tf23.h5\n",
      "300/300 [==============================] - 17s 57ms/step - loss: 0.0338 - accuracy: 0.9901 - val_loss: 0.0291 - val_accuracy: 0.9909\n",
      "Epoch 9/30\n",
      "299/300 [============================>.] - ETA: 0s - loss: 0.0294 - accuracy: 0.9907\n",
      "Epoch 00009: val_accuracy improved from 0.99090 to 0.99150, saving model to straight_bs200e30_tf23.h5\n",
      "300/300 [==============================] - 17s 56ms/step - loss: 0.0294 - accuracy: 0.9907 - val_loss: 0.0275 - val_accuracy: 0.9915\n",
      "Epoch 10/30\n",
      "300/300 [==============================] - ETA: 0s - loss: 0.0291 - accuracy: 0.9908\n",
      "Epoch 00010: val_accuracy improved from 0.99150 to 0.99170, saving model to straight_bs200e30_tf23.h5\n",
      "300/300 [==============================] - 17s 56ms/step - loss: 0.0291 - accuracy: 0.9908 - val_loss: 0.0250 - val_accuracy: 0.9917\n",
      "Epoch 11/30\n",
      "299/300 [============================>.] - ETA: 0s - loss: 0.0273 - accuracy: 0.9919\n",
      "Epoch 00011: val_accuracy improved from 0.99170 to 0.99230, saving model to straight_bs200e30_tf23.h5\n",
      "300/300 [==============================] - 17s 56ms/step - loss: 0.0273 - accuracy: 0.9919 - val_loss: 0.0222 - val_accuracy: 0.9923\n",
      "Epoch 12/30\n",
      "300/300 [==============================] - ETA: 0s - loss: 0.0256 - accuracy: 0.9923\n",
      "Epoch 00012: val_accuracy did not improve from 0.99230\n",
      "300/300 [==============================] - 17s 56ms/step - loss: 0.0256 - accuracy: 0.9923 - val_loss: 0.0242 - val_accuracy: 0.9917\n",
      "Epoch 13/30\n",
      "299/300 [============================>.] - ETA: 0s - loss: 0.0231 - accuracy: 0.9927\n",
      "Epoch 00013: val_accuracy did not improve from 0.99230\n",
      "300/300 [==============================] - 17s 56ms/step - loss: 0.0231 - accuracy: 0.9926 - val_loss: 0.0265 - val_accuracy: 0.9920\n",
      "Epoch 14/30\n",
      "299/300 [============================>.] - ETA: 0s - loss: 0.0251 - accuracy: 0.9921\n",
      "Epoch 00014: val_accuracy did not improve from 0.99230\n",
      "300/300 [==============================] - 17s 56ms/step - loss: 0.0251 - accuracy: 0.9922 - val_loss: 0.0249 - val_accuracy: 0.9913\n",
      "Epoch 15/30\n",
      "300/300 [==============================] - ETA: 0s - loss: 0.0221 - accuracy: 0.9931\n",
      "Epoch 00015: val_accuracy improved from 0.99230 to 0.99280, saving model to straight_bs200e30_tf23.h5\n",
      "300/300 [==============================] - 17s 56ms/step - loss: 0.0221 - accuracy: 0.9931 - val_loss: 0.0214 - val_accuracy: 0.9928\n",
      "Epoch 16/30\n",
      "299/300 [============================>.] - ETA: 0s - loss: 0.0222 - accuracy: 0.9930\n",
      "Epoch 00016: val_accuracy did not improve from 0.99280\n",
      "300/300 [==============================] - 17s 56ms/step - loss: 0.0223 - accuracy: 0.9930 - val_loss: 0.0197 - val_accuracy: 0.9926\n",
      "Epoch 17/30\n",
      "300/300 [==============================] - ETA: 0s - loss: 0.0207 - accuracy: 0.9938\n",
      "Epoch 00017: val_accuracy improved from 0.99280 to 0.99410, saving model to straight_bs200e30_tf23.h5\n",
      "300/300 [==============================] - 17s 56ms/step - loss: 0.0207 - accuracy: 0.9938 - val_loss: 0.0209 - val_accuracy: 0.9941\n",
      "Epoch 18/30\n",
      "300/300 [==============================] - ETA: 0s - loss: 0.0208 - accuracy: 0.9935\n",
      "Epoch 00018: val_accuracy did not improve from 0.99410\n",
      "300/300 [==============================] - 17s 57ms/step - loss: 0.0208 - accuracy: 0.9935 - val_loss: 0.0217 - val_accuracy: 0.9929\n",
      "Epoch 19/30\n",
      "300/300 [==============================] - ETA: 0s - loss: 0.0194 - accuracy: 0.9939\n",
      "Epoch 00019: val_accuracy did not improve from 0.99410\n",
      "300/300 [==============================] - 17s 56ms/step - loss: 0.0194 - accuracy: 0.9939 - val_loss: 0.0206 - val_accuracy: 0.9933\n",
      "Epoch 20/30\n",
      "299/300 [============================>.] - ETA: 0s - loss: 0.0181 - accuracy: 0.9946\n",
      "Epoch 00020: val_accuracy did not improve from 0.99410\n",
      "300/300 [==============================] - 17s 57ms/step - loss: 0.0181 - accuracy: 0.9947 - val_loss: 0.0218 - val_accuracy: 0.9933\n",
      "Epoch 21/30\n",
      "300/300 [==============================] - ETA: 0s - loss: 0.0187 - accuracy: 0.9940\n",
      "Epoch 00021: val_accuracy did not improve from 0.99410\n",
      "300/300 [==============================] - 17s 58ms/step - loss: 0.0187 - accuracy: 0.9940 - val_loss: 0.0211 - val_accuracy: 0.9941\n",
      "Epoch 22/30\n",
      "300/300 [==============================] - ETA: 0s - loss: 0.0183 - accuracy: 0.9945\n",
      "Epoch 00022: val_accuracy did not improve from 0.99410\n",
      "300/300 [==============================] - 17s 57ms/step - loss: 0.0183 - accuracy: 0.9945 - val_loss: 0.0194 - val_accuracy: 0.9935\n",
      "Epoch 23/30\n",
      "300/300 [==============================] - ETA: 0s - loss: 0.0165 - accuracy: 0.9945\n",
      "Epoch 00023: val_accuracy did not improve from 0.99410\n",
      "300/300 [==============================] - 17s 57ms/step - loss: 0.0165 - accuracy: 0.9945 - val_loss: 0.0190 - val_accuracy: 0.9933\n",
      "Epoch 24/30\n",
      "299/300 [============================>.] - ETA: 0s - loss: 0.0181 - accuracy: 0.9945\n",
      "Epoch 00024: val_accuracy did not improve from 0.99410\n",
      "300/300 [==============================] - 17s 56ms/step - loss: 0.0181 - accuracy: 0.9945 - val_loss: 0.0219 - val_accuracy: 0.9936\n",
      "Epoch 25/30\n",
      "300/300 [==============================] - ETA: 0s - loss: 0.0159 - accuracy: 0.9950\n",
      "Epoch 00025: val_accuracy did not improve from 0.99410\n",
      "300/300 [==============================] - 17s 56ms/step - loss: 0.0159 - accuracy: 0.9950 - val_loss: 0.0207 - val_accuracy: 0.9936\n",
      "Epoch 26/30\n",
      "300/300 [==============================] - ETA: 0s - loss: 0.0161 - accuracy: 0.9949\n",
      "Epoch 00026: val_accuracy did not improve from 0.99410\n",
      "300/300 [==============================] - 17s 56ms/step - loss: 0.0161 - accuracy: 0.9949 - val_loss: 0.0188 - val_accuracy: 0.9938\n",
      "Epoch 27/30\n",
      "300/300 [==============================] - ETA: 0s - loss: 0.0150 - accuracy: 0.9950\n",
      "Epoch 00027: val_accuracy did not improve from 0.99410\n",
      "300/300 [==============================] - 17s 57ms/step - loss: 0.0150 - accuracy: 0.9950 - val_loss: 0.0243 - val_accuracy: 0.9930\n",
      "Epoch 28/30\n",
      "300/300 [==============================] - ETA: 0s - loss: 0.0146 - accuracy: 0.9952\n",
      "Epoch 00028: val_accuracy did not improve from 0.99410\n",
      "300/300 [==============================] - 17s 57ms/step - loss: 0.0146 - accuracy: 0.9952 - val_loss: 0.0242 - val_accuracy: 0.9921\n",
      "Epoch 29/30\n",
      "300/300 [==============================] - ETA: 0s - loss: 0.0143 - accuracy: 0.9954\n",
      "Epoch 00029: val_accuracy did not improve from 0.99410\n",
      "300/300 [==============================] - 17s 56ms/step - loss: 0.0143 - accuracy: 0.9954 - val_loss: 0.0244 - val_accuracy: 0.9933\n",
      "Epoch 30/30\n",
      "300/300 [==============================] - ETA: 0s - loss: 0.0149 - accuracy: 0.9955\n",
      "Epoch 00030: val_accuracy improved from 0.99410 to 0.99470, saving model to straight_bs200e30_tf23.h5\n",
      "300/300 [==============================] - 17s 57ms/step - loss: 0.0149 - accuracy: 0.9955 - val_loss: 0.0195 - val_accuracy: 0.9947\n"
     ]
    }
   ],
   "source": [
    "history = classifier.fit(training_set,\n",
    "                         steps_per_epoch=len(x_train)//batch_size, # 300\n",
    "                         validation_data=test_set,\n",
    "                         validation_steps=len(x_test)//batch_size, # 50\n",
    "                         epochs=epochs,\n",
    "                         callbacks=[checkpoint_callback])"
   ]
  },
  {
   "cell_type": "code",
   "execution_count": 15,
   "metadata": {
    "colab": {
     "base_uri": "https://localhost:8080/",
     "height": 281
    },
    "colab_type": "code",
    "id": "-XJyEsVzb3MH",
    "outputId": "bcb72c24-f554-4acb-eea7-6f11b78b70a9"
   },
   "outputs": [
    {
     "data": {
      "image/png": "[encoded data removed]",
      "text/plain": [
       "<Figure size 432x288 with 1 Axes>"
      ]
     },
     "metadata": {
      "needs_background": "light",
      "tags": []
     },
     "output_type": "display_data"
    }
   ],
   "source": [
    "plt.plot(history.history['accuracy'],\n",
    "         label='accuracy')\n",
    "plt.plot(history.history['val_accuracy'],\n",
    "         label='val_accuracy')\n",
    "plt.xlabel('epoch')\n",
    "plt.ylabel('correct responses %')\n",
    "plt.legend()\n",
    "plt.show()"
   ]
  },
  {
   "cell_type": "code",
   "execution_count": 16,
   "metadata": {
    "colab": {
     "base_uri": "https://localhost:8080/",
     "height": 17
    },
    "colab_type": "code",
    "id": "io5rLhVzb3MN",
    "outputId": "a4577799-6ec4-430f-fa18-a7d422662792"
   },
   "outputs": [
    {
     "data": {
      "application/javascript": [
       "\n",
       "    async function download(id, filename, size) {\n",
       "      if (!google.colab.kernel.accessAllowed) {\n",
       "        return;\n",
       "      }\n",
       "      const div = document.createElement('div');\n",
       "      const label = document.createElement('label');\n",
       "      label.textContent = `Downloading \"${filename}\": `;\n",
       "      div.appendChild(label);\n",
       "      const progress = document.createElement('progress');\n",
       "      progress.max = size;\n",
       "      div.appendChild(progress);\n",
       "      document.body.appendChild(div);\n",
       "\n",
       "      const buffers = [];\n",
       "      let downloaded = 0;\n",
       "\n",
       "      const channel = await google.colab.kernel.comms.open(id);\n",
       "      // Send a message to notify the kernel that we're ready.\n",
       "      channel.send({})\n",
       "\n",
       "      for await (const message of channel.messages) {\n",
       "        // Send a message to notify the kernel that we're ready.\n",
       "        channel.send({})\n",
       "        if (message.buffers) {\n",
       "          for (const buffer of message.buffers) {\n",
       "            buffers.push(buffer);\n",
       "            downloaded += buffer.byteLength;\n",
       "            progress.value = downloaded;\n",
       "          }\n",
       "        }\n",
       "      }\n",
       "      const blob = new Blob(buffers, {type: 'application/binary'});\n",
       "      const a = document.createElement('a');\n",
       "      a.href = window.URL.createObjectURL(blob);\n",
       "      a.download = filename;\n",
       "      div.appendChild(a);\n",
       "      a.click();\n",
       "      div.remove();\n",
       "    }\n",
       "  "
      ],
      "text/plain": [
       "<IPython.core.display.Javascript object>"
      ]
     },
     "metadata": {
      "tags": []
     },
     "output_type": "display_data"
    },
    {
     "data": {
      "application/javascript": [
       "download(\"download_46832dec-8fb5-496d-9fe2-c078f2ab0846\", \"straight_bs200e30_tf23.h5\", 7204712)"
      ],
      "text/plain": [
       "<IPython.core.display.Javascript object>"
      ]
     },
     "metadata": {
      "tags": []
     },
     "output_type": "display_data"
    }
   ],
   "source": [
    "# from google.colab import files\n",
    "# files.download('straight_bs200e30.h5')  "
   ]
  },
  {
   "cell_type": "code",
   "execution_count": 16,
   "metadata": {
    "colab": {},
    "colab_type": "code",
    "id": "xaeMjpk2tJI3"
   },
   "outputs": [],
   "source": []
  }
 ],
 "metadata": {
  "accelerator": "GPU",
  "colab": {
   "machine_shape": "hm",
   "name": "train_straight_tf23.ipynb",
   "provenance": []
  },
  "kernelspec": {
   "display_name": "Python 3",
   "language": "python",
   "name": "python3"
  },
  "language_info": {
   "codemirror_mode": {
    "name": "ipython",
    "version": 3
   },
   "file_extension": ".py",
   "mimetype": "text/x-python",
   "name": "python",
   "nbconvert_exporter": "python",
   "pygments_lexer": "ipython3",
   "version": "3.8.2"
  }
 },
 "nbformat": 4,
 "nbformat_minor": 4
}
