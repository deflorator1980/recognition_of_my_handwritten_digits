{
  "nbformat": 4,
  "nbformat_minor": 0,
  "metadata": {
    "accelerator": "GPU",
    "colab": {
      "name": "train_straight.ipynb",
      "provenance": []
    },
    "kernelspec": {
      "display_name": "Python 3",
      "language": "python",
      "name": "python3"
    },
    "language_info": {
      "codemirror_mode": {
        "name": "ipython",
        "version": 3
      },
      "file_extension": ".py",
      "mimetype": "text/x-python",
      "name": "python",
      "nbconvert_exporter": "python",
      "pygments_lexer": "ipython3",
      "version": "3.8.2"
    }
  },
  "cells": [
    {
      "cell_type": "code",
      "metadata": {
        "colab_type": "code",
        "id": "zn8uyP0Rb3LQ",
        "colab": {}
      },
      "source": [
        "import tensorflow as tf\n",
        "import numpy as np\n",
        "from tensorflow.keras.models import Sequential\n",
        "from tensorflow.keras.layers import Dense, Dropout, Activation, Flatten,\\\n",
        "      MaxPool2D, Conv2D, BatchNormalization\n",
        "from keras.utils import np_utils\n",
        "from tensorflow.keras.preprocessing.image import ImageDataGenerator\n",
        "from matplotlib import pyplot as plt\n",
        "from tensorflow.keras.datasets import mnist\n",
        "from tensorflow.keras.callbacks import ModelCheckpoint "
      ],
      "execution_count": 1,
      "outputs": []
    },
    {
      "cell_type": "code",
      "metadata": {
        "colab_type": "code",
        "id": "nuLa3TrtkhaA",
        "colab": {}
      },
      "source": [
        "IMG_SIZE=28\n",
        "batch_size=200\n",
        "epochs=30"
      ],
      "execution_count": 2,
      "outputs": []
    },
    {
      "cell_type": "code",
      "metadata": {
        "colab_type": "code",
        "id": "dMyh9mByb3La",
        "colab": {
          "base_uri": "https://localhost:8080/",
          "height": 52
        },
        "outputId": "23a73383-05ec-4761-ee03-de1821d00bea"
      },
      "source": [
        "(x_train, y_train), (x_test, y_test) = mnist.load_data()"
      ],
      "execution_count": 3,
      "outputs": [
        {
          "output_type": "stream",
          "text": [
            "Downloading data from https://storage.googleapis.com/tensorflow/tf-keras-datasets/mnist.npz\n",
            "11493376/11490434 [==============================] - 0s 0us/step\n"
          ],
          "name": "stdout"
        }
      ]
    },
    {
      "cell_type": "code",
      "metadata": {
        "colab_type": "code",
        "id": "GFJn-TVIb3Lj",
        "colab": {}
      },
      "source": [
        "x_train = x_train.reshape(x_train.shape[0],IMG_SIZE,IMG_SIZE,1).astype('float32')\n",
        "x_test = x_test.reshape(x_test.shape[0],IMG_SIZE,IMG_SIZE,1).astype('float32')\n",
        "x_train /= 255\n",
        "x_test /= 255\n",
        "y_train = np_utils.to_categorical(y_train) \n",
        "y_test = np_utils.to_categorical(y_test)"
      ],
      "execution_count": 4,
      "outputs": []
    },
    {
      "cell_type": "code",
      "metadata": {
        "colab_type": "code",
        "id": "cCOEGBtsb3Lq",
        "colab": {}
      },
      "source": [
        "classifier = Sequential()\n",
        "classifier.add(Conv2D(32, (3,3), input_shape=(IMG_SIZE,IMG_SIZE,1)))\n",
        "# classifier.add(BatchNormalization(axis=-1))  \n",
        "classifier.add(Activation('relu'))\n",
        "\n",
        "classifier.add(Conv2D(32, (3,3)))\n",
        "# classifier.add(BatchNormalization(axis=-1))\n",
        "classifier.add(Activation('relu'))\n",
        "\n",
        "classifier.add(MaxPool2D(pool_size=(2,2)))\n",
        "# classifier.add(BatchNormalization(axis=-1))\n",
        "\n",
        "classifier.add(Conv2D(64, (3,3)))\n",
        "# classifier.add(BatchNormalization(axis=-1))\n",
        "classifier.add(Activation('relu'))\n",
        "\n",
        "classifier.add(Conv2D(64, (3,3)))\n",
        "classifier.add(Activation('relu'))\n",
        "classifier.add(MaxPool2D(pool_size=(2,2)))\n",
        "\n",
        "classifier.add(Flatten())\n",
        "# classifier.add(BatchNormalization())\n",
        "\n",
        "classifier.add(Dense(512))\n",
        "# classifier.add(BatchNormalization())\n",
        "classifier.add(Activation('relu'))\n",
        "\n",
        "classifier.add(Dropout(0.2))\n",
        "classifier.add(Dense(10))\n",
        "classifier.add(Activation('softmax'))"
      ],
      "execution_count": 5,
      "outputs": []
    },
    {
      "cell_type": "code",
      "metadata": {
        "colab_type": "code",
        "id": "e7ffaoy2b3Lv",
        "colab": {}
      },
      "source": [
        "classifier.compile(optimizer='adam', loss='categorical_crossentropy', metrics=['accuracy'])"
      ],
      "execution_count": 6,
      "outputs": []
    },
    {
      "cell_type": "code",
      "metadata": {
        "colab_type": "code",
        "id": "UBkFo7Xqb3L1",
        "colab": {}
      },
      "source": [
        "train_gen = ImageDataGenerator(rotation_range=10,\n",
        "                               width_shift_range=0.1,\n",
        "                               shear_range=0.3,\n",
        "                               height_shift_range=0.1,\n",
        "                               zoom_range=0.1)\n",
        "test_gen = ImageDataGenerator()"
      ],
      "execution_count": 7,
      "outputs": []
    },
    {
      "cell_type": "code",
      "metadata": {
        "colab_type": "code",
        "id": "W9ivXPgab3L5",
        "colab": {}
      },
      "source": [
        "training_set = train_gen.flow(x_train,y_train,batch_size=batch_size)\n",
        "test_set = train_gen.flow(x_test,y_test,batch_size=batch_size)"
      ],
      "execution_count": 8,
      "outputs": []
    },
    {
      "cell_type": "code",
      "metadata": {
        "colab_type": "code",
        "id": "I9iJoF13b3L-",
        "colab": {}
      },
      "source": [
        "model_save_path = 'straight_bs200e30_tf23.h5'\n",
        "checkpoint_callback = ModelCheckpoint(model_save_path,\n",
        "                                      monitor='val_accuracy',\n",
        "                                      save_best_only=True,\n",
        "                                      verbose=1)"
      ],
      "execution_count": 9,
      "outputs": []
    },
    {
      "cell_type": "code",
      "metadata": {
        "colab_type": "code",
        "id": "FD6EVciUb3MB",
        "colab": {
          "base_uri": "https://localhost:8080/",
          "height": 1000
        },
        "outputId": "3a566346-b32b-428f-cf51-30a00e277ccf"
      },
      "source": [
        "history = classifier.fit(training_set,\n",
        "                         steps_per_epoch=len(x_train)//batch_size, # 300\n",
        "                         validation_data=test_set,\n",
        "                         validation_steps=len(x_test)//batch_size, # 50\n",
        "                         epochs=epochs,\n",
        "                         callbacks=[checkpoint_callback])"
      ],
      "execution_count": 10,
      "outputs": [
        {
          "output_type": "stream",
          "text": [
            "Epoch 1/30\n",
            "299/300 [============================>.] - ETA: 0s - loss: 0.3399 - accuracy: 0.8924\n",
            "Epoch 00001: val_accuracy improved from -inf to 0.97320, saving model to straight_bs200e30_tf23.h5\n",
            "300/300 [==============================] - 16s 53ms/step - loss: 0.3391 - accuracy: 0.8927 - val_loss: 0.0871 - val_accuracy: 0.9732\n",
            "Epoch 2/30\n",
            "300/300 [==============================] - ETA: 0s - loss: 0.0922 - accuracy: 0.9715\n",
            "Epoch 00002: val_accuracy improved from 0.97320 to 0.98440, saving model to straight_bs200e30_tf23.h5\n",
            "300/300 [==============================] - 16s 53ms/step - loss: 0.0922 - accuracy: 0.9715 - val_loss: 0.0502 - val_accuracy: 0.9844\n",
            "Epoch 3/30\n",
            "299/300 [============================>.] - ETA: 0s - loss: 0.0636 - accuracy: 0.9808\n",
            "Epoch 00003: val_accuracy improved from 0.98440 to 0.98510, saving model to straight_bs200e30_tf23.h5\n",
            "300/300 [==============================] - 16s 54ms/step - loss: 0.0635 - accuracy: 0.9808 - val_loss: 0.0463 - val_accuracy: 0.9851\n",
            "Epoch 4/30\n",
            "300/300 [==============================] - ETA: 0s - loss: 0.0533 - accuracy: 0.9834\n",
            "Epoch 00004: val_accuracy improved from 0.98510 to 0.98610, saving model to straight_bs200e30_tf23.h5\n",
            "300/300 [==============================] - 16s 53ms/step - loss: 0.0533 - accuracy: 0.9834 - val_loss: 0.0412 - val_accuracy: 0.9861\n",
            "Epoch 5/30\n",
            "300/300 [==============================] - ETA: 0s - loss: 0.0454 - accuracy: 0.9862\n",
            "Epoch 00005: val_accuracy improved from 0.98610 to 0.98910, saving model to straight_bs200e30_tf23.h5\n",
            "300/300 [==============================] - 16s 53ms/step - loss: 0.0454 - accuracy: 0.9862 - val_loss: 0.0351 - val_accuracy: 0.9891\n",
            "Epoch 6/30\n",
            "300/300 [==============================] - ETA: 0s - loss: 0.0408 - accuracy: 0.9875\n",
            "Epoch 00006: val_accuracy did not improve from 0.98910\n",
            "300/300 [==============================] - 16s 52ms/step - loss: 0.0408 - accuracy: 0.9875 - val_loss: 0.0353 - val_accuracy: 0.9888\n",
            "Epoch 7/30\n",
            "299/300 [============================>.] - ETA: 0s - loss: 0.0357 - accuracy: 0.9891\n",
            "Epoch 00007: val_accuracy improved from 0.98910 to 0.99190, saving model to straight_bs200e30_tf23.h5\n",
            "300/300 [==============================] - 16s 53ms/step - loss: 0.0357 - accuracy: 0.9891 - val_loss: 0.0263 - val_accuracy: 0.9919\n",
            "Epoch 8/30\n",
            "299/300 [============================>.] - ETA: 0s - loss: 0.0357 - accuracy: 0.9889\n",
            "Epoch 00008: val_accuracy did not improve from 0.99190\n",
            "300/300 [==============================] - 16s 53ms/step - loss: 0.0357 - accuracy: 0.9889 - val_loss: 0.0284 - val_accuracy: 0.9901\n",
            "Epoch 9/30\n",
            "300/300 [==============================] - ETA: 0s - loss: 0.0307 - accuracy: 0.9905\n",
            "Epoch 00009: val_accuracy did not improve from 0.99190\n",
            "300/300 [==============================] - 16s 53ms/step - loss: 0.0307 - accuracy: 0.9905 - val_loss: 0.0284 - val_accuracy: 0.9908\n",
            "Epoch 10/30\n",
            "300/300 [==============================] - ETA: 0s - loss: 0.0303 - accuracy: 0.9906\n",
            "Epoch 00010: val_accuracy improved from 0.99190 to 0.99300, saving model to straight_bs200e30_tf23.h5\n",
            "300/300 [==============================] - 16s 53ms/step - loss: 0.0303 - accuracy: 0.9906 - val_loss: 0.0214 - val_accuracy: 0.9930\n",
            "Epoch 11/30\n",
            "300/300 [==============================] - ETA: 0s - loss: 0.0269 - accuracy: 0.9916\n",
            "Epoch 00011: val_accuracy did not improve from 0.99300\n",
            "300/300 [==============================] - 16s 53ms/step - loss: 0.0269 - accuracy: 0.9916 - val_loss: 0.0232 - val_accuracy: 0.9928\n",
            "Epoch 12/30\n",
            "300/300 [==============================] - ETA: 0s - loss: 0.0270 - accuracy: 0.9917\n",
            "Epoch 00012: val_accuracy did not improve from 0.99300\n",
            "300/300 [==============================] - 16s 52ms/step - loss: 0.0270 - accuracy: 0.9917 - val_loss: 0.0270 - val_accuracy: 0.9903\n",
            "Epoch 13/30\n",
            "299/300 [============================>.] - ETA: 0s - loss: 0.0253 - accuracy: 0.9922\n",
            "Epoch 00013: val_accuracy did not improve from 0.99300\n",
            "300/300 [==============================] - 16s 53ms/step - loss: 0.0252 - accuracy: 0.9922 - val_loss: 0.0230 - val_accuracy: 0.9925\n",
            "Epoch 14/30\n",
            "300/300 [==============================] - ETA: 0s - loss: 0.0254 - accuracy: 0.9923\n",
            "Epoch 00014: val_accuracy improved from 0.99300 to 0.99310, saving model to straight_bs200e30_tf23.h5\n",
            "300/300 [==============================] - 16s 54ms/step - loss: 0.0254 - accuracy: 0.9923 - val_loss: 0.0228 - val_accuracy: 0.9931\n",
            "Epoch 15/30\n",
            "300/300 [==============================] - ETA: 0s - loss: 0.0235 - accuracy: 0.9926\n",
            "Epoch 00015: val_accuracy did not improve from 0.99310\n",
            "300/300 [==============================] - 16s 53ms/step - loss: 0.0235 - accuracy: 0.9926 - val_loss: 0.0238 - val_accuracy: 0.9928\n",
            "Epoch 16/30\n",
            "300/300 [==============================] - ETA: 0s - loss: 0.0220 - accuracy: 0.9930\n",
            "Epoch 00016: val_accuracy did not improve from 0.99310\n",
            "300/300 [==============================] - 16s 53ms/step - loss: 0.0220 - accuracy: 0.9930 - val_loss: 0.0218 - val_accuracy: 0.9930\n",
            "Epoch 17/30\n",
            "300/300 [==============================] - ETA: 0s - loss: 0.0226 - accuracy: 0.9927\n",
            "Epoch 00017: val_accuracy did not improve from 0.99310\n",
            "300/300 [==============================] - 16s 52ms/step - loss: 0.0226 - accuracy: 0.9927 - val_loss: 0.0255 - val_accuracy: 0.9921\n",
            "Epoch 18/30\n",
            "300/300 [==============================] - ETA: 0s - loss: 0.0230 - accuracy: 0.9926\n",
            "Epoch 00018: val_accuracy improved from 0.99310 to 0.99320, saving model to straight_bs200e30_tf23.h5\n",
            "300/300 [==============================] - 16s 53ms/step - loss: 0.0230 - accuracy: 0.9926 - val_loss: 0.0210 - val_accuracy: 0.9932\n",
            "Epoch 19/30\n",
            "299/300 [============================>.] - ETA: 0s - loss: 0.0207 - accuracy: 0.9935\n",
            "Epoch 00019: val_accuracy did not improve from 0.99320\n",
            "300/300 [==============================] - 16s 53ms/step - loss: 0.0208 - accuracy: 0.9935 - val_loss: 0.0271 - val_accuracy: 0.9915\n",
            "Epoch 20/30\n",
            "299/300 [============================>.] - ETA: 0s - loss: 0.0196 - accuracy: 0.9938\n",
            "Epoch 00020: val_accuracy did not improve from 0.99320\n",
            "300/300 [==============================] - 16s 53ms/step - loss: 0.0196 - accuracy: 0.9938 - val_loss: 0.0250 - val_accuracy: 0.9923\n",
            "Epoch 21/30\n",
            "300/300 [==============================] - ETA: 0s - loss: 0.0192 - accuracy: 0.9941\n",
            "Epoch 00021: val_accuracy improved from 0.99320 to 0.99460, saving model to straight_bs200e30_tf23.h5\n",
            "300/300 [==============================] - 16s 53ms/step - loss: 0.0192 - accuracy: 0.9941 - val_loss: 0.0178 - val_accuracy: 0.9946\n",
            "Epoch 22/30\n",
            "300/300 [==============================] - ETA: 0s - loss: 0.0181 - accuracy: 0.9944\n",
            "Epoch 00022: val_accuracy did not improve from 0.99460\n",
            "300/300 [==============================] - 17s 55ms/step - loss: 0.0181 - accuracy: 0.9944 - val_loss: 0.0245 - val_accuracy: 0.9931\n",
            "Epoch 23/30\n",
            "299/300 [============================>.] - ETA: 0s - loss: 0.0181 - accuracy: 0.9942\n",
            "Epoch 00023: val_accuracy did not improve from 0.99460\n",
            "300/300 [==============================] - 16s 53ms/step - loss: 0.0181 - accuracy: 0.9942 - val_loss: 0.0231 - val_accuracy: 0.9934\n",
            "Epoch 24/30\n",
            "300/300 [==============================] - ETA: 0s - loss: 0.0176 - accuracy: 0.9942\n",
            "Epoch 00024: val_accuracy did not improve from 0.99460\n",
            "300/300 [==============================] - 16s 53ms/step - loss: 0.0176 - accuracy: 0.9942 - val_loss: 0.0210 - val_accuracy: 0.9936\n",
            "Epoch 25/30\n",
            "299/300 [============================>.] - ETA: 0s - loss: 0.0170 - accuracy: 0.9948\n",
            "Epoch 00025: val_accuracy did not improve from 0.99460\n",
            "300/300 [==============================] - 16s 54ms/step - loss: 0.0170 - accuracy: 0.9948 - val_loss: 0.0206 - val_accuracy: 0.9934\n",
            "Epoch 26/30\n",
            "300/300 [==============================] - ETA: 0s - loss: 0.0163 - accuracy: 0.9950\n",
            "Epoch 00026: val_accuracy did not improve from 0.99460\n",
            "300/300 [==============================] - 16s 54ms/step - loss: 0.0163 - accuracy: 0.9950 - val_loss: 0.0230 - val_accuracy: 0.9934\n",
            "Epoch 27/30\n",
            "300/300 [==============================] - ETA: 0s - loss: 0.0161 - accuracy: 0.9947\n",
            "Epoch 00027: val_accuracy did not improve from 0.99460\n",
            "300/300 [==============================] - 16s 54ms/step - loss: 0.0161 - accuracy: 0.9947 - val_loss: 0.0200 - val_accuracy: 0.9937\n",
            "Epoch 28/30\n",
            "300/300 [==============================] - ETA: 0s - loss: 0.0155 - accuracy: 0.9952\n",
            "Epoch 00028: val_accuracy did not improve from 0.99460\n",
            "300/300 [==============================] - 16s 54ms/step - loss: 0.0155 - accuracy: 0.9952 - val_loss: 0.0174 - val_accuracy: 0.9939\n",
            "Epoch 29/30\n",
            "300/300 [==============================] - ETA: 0s - loss: 0.0159 - accuracy: 0.9951\n",
            "Epoch 00029: val_accuracy did not improve from 0.99460\n",
            "300/300 [==============================] - 16s 54ms/step - loss: 0.0159 - accuracy: 0.9951 - val_loss: 0.0195 - val_accuracy: 0.9934\n",
            "Epoch 30/30\n",
            "299/300 [============================>.] - ETA: 0s - loss: 0.0152 - accuracy: 0.9953\n",
            "Epoch 00030: val_accuracy improved from 0.99460 to 0.99480, saving model to straight_bs200e30_tf23.h5\n",
            "300/300 [==============================] - 16s 54ms/step - loss: 0.0152 - accuracy: 0.9954 - val_loss: 0.0196 - val_accuracy: 0.9948\n"
          ],
          "name": "stdout"
        }
      ]
    },
    {
      "cell_type": "code",
      "metadata": {
        "colab_type": "code",
        "id": "-XJyEsVzb3MH",
        "colab": {
          "base_uri": "https://localhost:8080/",
          "height": 282
        },
        "outputId": "d6815a3f-23ac-48f3-b29b-d26c5336615c"
      },
      "source": [
        "plt.plot(history.history['accuracy'],\n",
        "         label='accuracy')\n",
        "plt.plot(history.history['val_accuracy'],\n",
        "         label='val_accuracy')\n",
        "plt.xlabel('epoch')\n",
        "plt.ylabel('correct responses %')\n",
        "plt.legend()\n",
        "plt.show()"
      ],
      "execution_count": 11,
      "outputs": [
        {
          "output_type": "display_data",
          "data": {
            "image/png": "[encoded data removed]",
            "text/plain": [
              "<Figure size 432x288 with 1 Axes>"
            ]
          },
          "metadata": {
            "tags": [],
            "needs_background": "light"
          }
        }
      ]
    },
    {
      "cell_type": "code",
      "metadata": {
        "id": "h14F9N3UIYx_",
        "colab_type": "code",
        "colab": {
          "base_uri": "https://localhost:8080/",
          "height": 280
        },
        "outputId": "acdbafa7-7de3-45a5-bd42-e9bc832f0ad5"
      },
      "source": [
        "plt.plot(history.history['loss'],\n",
        "         label='loss')\n",
        "plt.plot(history.history['val_loss'],\n",
        "         label='val_loss')\n",
        "plt.xlabel('epoch')\n",
        "plt.ylabel('correct responses %')\n",
        "plt.legend()\n",
        "plt.show()"
      ],
      "execution_count": 13,
      "outputs": [
        {
          "output_type": "display_data",
          "data": {
            "image/png": "[encoded data removed]",
            "text/plain": [
              "<Figure size 432x288 with 1 Axes>"
            ]
          },
          "metadata": {
            "tags": [],
            "needs_background": "light"
          }
        }
      ]
    },
    {
      "cell_type": "code",
      "metadata": {
        "colab_type": "code",
        "id": "io5rLhVzb3MN",
        "colab": {}
      },
      "source": [
        "# from google.colab import files\n",
        "# files.download('straight_bs200e30.h5')  "
      ],
      "execution_count": 12,
      "outputs": []
    },
    {
      "cell_type": "code",
      "metadata": {
        "colab_type": "code",
        "id": "xaeMjpk2tJI3",
        "colab": {}
      },
      "source": [
        ""
      ],
      "execution_count": 12,
      "outputs": []
    }
  ]
}