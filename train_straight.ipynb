{
 "cells": [
  {
   "cell_type": "code",
   "execution_count": 1,
   "metadata": {
    "execution": {
     "iopub.execute_input": "2021-06-29T17:05:48.770375Z",
     "iopub.status.busy": "2021-06-29T17:05:48.770088Z",
     "iopub.status.idle": "2021-06-29T17:05:53.566334Z",
     "shell.execute_reply": "2021-06-29T17:05:53.565507Z",
     "shell.execute_reply.started": "2021-06-29T17:05:48.770309Z"
    },
    "id": "zn8uyP0Rb3LQ"
   },
   "outputs": [],
   "source": [
    "import tensorflow as tf\n",
    "import numpy as np\n",
    "from tensorflow.keras.models import Sequential\n",
    "from tensorflow.keras.layers import Dense, Dropout, Activation, Flatten,\\\n",
    "      MaxPool2D, Conv2D, BatchNormalization\n",
    "from keras.utils import np_utils\n",
    "from tensorflow.keras.preprocessing.image import ImageDataGenerator\n",
    "import matplotlib.pyplot as plt\n",
    "from tensorflow.keras.datasets import mnist\n",
    "from tensorflow.keras.callbacks import ModelCheckpoint "
   ]
  },
  {
   "cell_type": "code",
   "execution_count": 2,
   "metadata": {
    "execution": {
     "iopub.execute_input": "2021-06-29T17:05:53.569773Z",
     "iopub.status.busy": "2021-06-29T17:05:53.569495Z",
     "iopub.status.idle": "2021-06-29T17:05:53.575706Z",
     "shell.execute_reply": "2021-06-29T17:05:53.574935Z",
     "shell.execute_reply.started": "2021-06-29T17:05:53.569747Z"
    },
    "id": "nuLa3TrtkhaA"
   },
   "outputs": [],
   "source": [
    "IMG_SIZE=28\n",
    "batch_size=200\n",
    "epochs=30"
   ]
  },
  {
   "cell_type": "code",
   "execution_count": 3,
   "metadata": {
    "execution": {
     "iopub.execute_input": "2021-06-29T17:05:53.579663Z",
     "iopub.status.busy": "2021-06-29T17:05:53.579375Z",
     "iopub.status.idle": "2021-06-29T17:05:54.212172Z",
     "shell.execute_reply": "2021-06-29T17:05:54.211328Z",
     "shell.execute_reply.started": "2021-06-29T17:05:53.579630Z"
    },
    "id": "dMyh9mByb3La"
   },
   "outputs": [
    {
     "name": "stdout",
     "output_type": "stream",
     "text": [
      "Downloading data from https://storage.googleapis.com/tensorflow/tf-keras-datasets/mnist.npz\n",
      "11493376/11490434 [==============================] - 0s 0us/step\n"
     ]
    }
   ],
   "source": [
    "(x_train, y_train), (x_test, y_test) = mnist.load_data()"
   ]
  },
  {
   "cell_type": "code",
   "execution_count": 4,
   "metadata": {
    "execution": {
     "iopub.execute_input": "2021-06-29T17:05:54.213963Z",
     "iopub.status.busy": "2021-06-29T17:05:54.213625Z",
     "iopub.status.idle": "2021-06-29T17:05:54.296169Z",
     "shell.execute_reply": "2021-06-29T17:05:54.295307Z",
     "shell.execute_reply.started": "2021-06-29T17:05:54.213926Z"
    },
    "id": "GFJn-TVIb3Lj"
   },
   "outputs": [],
   "source": [
    "x_train = x_train[..., tf.newaxis].astype('float32')\n",
    "x_test = x_test[..., tf.newaxis].astype('float32')\n",
    "x_train /= 255\n",
    "x_test /= 255\n",
    "y_train = np_utils.to_categorical(y_train) \n",
    "y_test = np_utils.to_categorical(y_test)"
   ]
  },
  {
   "cell_type": "code",
   "execution_count": 5,
   "metadata": {
    "execution": {
     "iopub.execute_input": "2021-06-29T17:05:54.297901Z",
     "iopub.status.busy": "2021-06-29T17:05:54.297392Z",
     "iopub.status.idle": "2021-06-29T17:05:56.540243Z",
     "shell.execute_reply": "2021-06-29T17:05:56.539450Z",
     "shell.execute_reply.started": "2021-06-29T17:05:54.297863Z"
    },
    "id": "cCOEGBtsb3Lq"
   },
   "outputs": [],
   "source": [
    "classifier = Sequential()\n",
    "classifier.add(Conv2D(32, (3,3), input_shape=(IMG_SIZE,IMG_SIZE,1)))\n",
    "# classifier.add(BatchNormalization(axis=-1))  \n",
    "classifier.add(Activation('relu'))\n",
    "\n",
    "classifier.add(Conv2D(32, (3,3)))\n",
    "# classifier.add(BatchNormalization(axis=-1))\n",
    "classifier.add(Activation('relu'))\n",
    "\n",
    "classifier.add(MaxPool2D(pool_size=(2,2)))\n",
    "# classifier.add(BatchNormalization(axis=-1))\n",
    "\n",
    "classifier.add(Conv2D(64, (3,3)))\n",
    "# classifier.add(BatchNormalization(axis=-1))\n",
    "classifier.add(Activation('relu'))\n",
    "\n",
    "classifier.add(Conv2D(64, (3,3)))\n",
    "classifier.add(Activation('relu'))\n",
    "classifier.add(MaxPool2D(pool_size=(2,2)))\n",
    "\n",
    "classifier.add(Flatten())\n",
    "# classifier.add(BatchNormalization())\n",
    "\n",
    "classifier.add(Dense(512))\n",
    "# classifier.add(BatchNormalization())\n",
    "classifier.add(Activation('relu'))\n",
    "\n",
    "classifier.add(Dropout(0.2))\n",
    "classifier.add(Dense(10))\n",
    "classifier.add(Activation('softmax'))"
   ]
  },
  {
   "cell_type": "code",
   "execution_count": 6,
   "metadata": {
    "execution": {
     "iopub.execute_input": "2021-06-29T17:05:56.541725Z",
     "iopub.status.busy": "2021-06-29T17:05:56.541379Z",
     "iopub.status.idle": "2021-06-29T17:05:56.557134Z",
     "shell.execute_reply": "2021-06-29T17:05:56.556378Z",
     "shell.execute_reply.started": "2021-06-29T17:05:56.541691Z"
    },
    "id": "e7ffaoy2b3Lv"
   },
   "outputs": [],
   "source": [
    "classifier.compile(optimizer='adam', loss='categorical_crossentropy', metrics=['accuracy'])"
   ]
  },
  {
   "cell_type": "code",
   "execution_count": 7,
   "metadata": {
    "execution": {
     "iopub.execute_input": "2021-06-29T17:05:56.558899Z",
     "iopub.status.busy": "2021-06-29T17:05:56.558493Z",
     "iopub.status.idle": "2021-06-29T17:05:56.568444Z",
     "shell.execute_reply": "2021-06-29T17:05:56.567427Z",
     "shell.execute_reply.started": "2021-06-29T17:05:56.558862Z"
    },
    "id": "qOPo6wLqwekz",
    "outputId": "eb5b2285-b9af-4e19-fd64-ee7eb8e6cbf1"
   },
   "outputs": [
    {
     "data": {
      "text/plain": [
       "{'name': 'Adam',\n",
       " 'learning_rate': 0.001,\n",
       " 'decay': 0.0,\n",
       " 'beta_1': 0.9,\n",
       " 'beta_2': 0.999,\n",
       " 'epsilon': 1e-07,\n",
       " 'amsgrad': False}"
      ]
     },
     "execution_count": 7,
     "metadata": {},
     "output_type": "execute_result"
    }
   ],
   "source": [
    "classifier.optimizer.get_config()"
   ]
  },
  {
   "cell_type": "code",
   "execution_count": 8,
   "metadata": {
    "execution": {
     "iopub.execute_input": "2021-06-29T17:05:56.571505Z",
     "iopub.status.busy": "2021-06-29T17:05:56.571112Z",
     "iopub.status.idle": "2021-06-29T17:05:56.577501Z",
     "shell.execute_reply": "2021-06-29T17:05:56.576721Z",
     "shell.execute_reply.started": "2021-06-29T17:05:56.571441Z"
    },
    "id": "UBkFo7Xqb3L1"
   },
   "outputs": [],
   "source": [
    "train_gen = ImageDataGenerator(rotation_range=15,\n",
    "#                                rotation_range=10\n",
    "                               width_shift_range=0.2,\n",
    "#                                width_shift_range=0.1\n",
    "#                                shear_range=0.3,  # useless?\n",
    "                               height_shift_range=0.1,\n",
    "#                                zoom_range=[1.3, 0.6]) # looks better, acc worce\n",
    "                               zoom_range=0.1)"
   ]
  },
  {
   "cell_type": "code",
   "execution_count": 9,
   "metadata": {
    "execution": {
     "iopub.execute_input": "2021-06-29T17:05:56.579430Z",
     "iopub.status.busy": "2021-06-29T17:05:56.579013Z",
     "iopub.status.idle": "2021-06-29T17:05:56.589674Z",
     "shell.execute_reply": "2021-06-29T17:05:56.588905Z",
     "shell.execute_reply.started": "2021-06-29T17:05:56.579397Z"
    },
    "id": "W9ivXPgab3L5"
   },
   "outputs": [],
   "source": [
    "training_set = train_gen.flow(x_train,y_train,batch_size=batch_size)\n",
    "test_set = train_gen.flow(x_test,y_test,batch_size=batch_size)"
   ]
  },
  {
   "cell_type": "code",
   "execution_count": 10,
   "metadata": {
    "execution": {
     "iopub.execute_input": "2021-06-29T17:05:56.591094Z",
     "iopub.status.busy": "2021-06-29T17:05:56.590694Z",
     "iopub.status.idle": "2021-06-29T17:05:57.721249Z",
     "shell.execute_reply": "2021-06-29T17:05:57.720476Z",
     "shell.execute_reply.started": "2021-06-29T17:05:56.591059Z"
    },
    "id": "r0Psi06feh0X",
    "outputId": "e2b4435a-4ec4-47bd-d084-6af90d84ebcc"
   },
   "outputs": [
    {
     "data": {
      "image/png": "[encoded data removed]",
      "text/plain": [
       "<Figure size 432x288 with 9 Axes>"
      ]
     },
     "metadata": {
      "needs_background": "light"
     },
     "output_type": "display_data"
    }
   ],
   "source": [
    "for i in range(9):\n",
    "    img, lab = training_set.next()\n",
    "    plt.subplot(3,3,i+1)\n",
    "    plt.imshow(img[0])\n",
    "    plt.subplots_adjust(hspace=0.8)\n",
    "    plt.title(np.argmax(lab[0]))"
   ]
  },
  {
   "cell_type": "code",
   "execution_count": 11,
   "metadata": {
    "execution": {
     "iopub.execute_input": "2021-06-29T17:05:57.722894Z",
     "iopub.status.busy": "2021-06-29T17:05:57.722544Z",
     "iopub.status.idle": "2021-06-29T17:05:57.728413Z",
     "shell.execute_reply": "2021-06-29T17:05:57.727488Z",
     "shell.execute_reply.started": "2021-06-29T17:05:57.722858Z"
    },
    "id": "I9iJoF13b3L-"
   },
   "outputs": [],
   "source": [
    "# model_save_path = 'straight_bs200e30_tf25.h5'\n",
    "# checkpoint_callback = ModelCheckpoint(model_save_path,\n",
    "#                                       monitor='val_accuracy',\n",
    "#                                       save_best_only=True,\n",
    "#                                       verbose=1)\n",
    "es_callback = tf.keras.callbacks.EarlyStopping(monitor='val_loss', # better than val_acc\n",
    "                                               patience=3, \n",
    "                                               mode='auto', # default\n",
    "                                               verbose=1)"
   ]
  },
  {
   "cell_type": "code",
   "execution_count": 12,
   "metadata": {
    "execution": {
     "iopub.execute_input": "2021-06-29T17:05:57.730307Z",
     "iopub.status.busy": "2021-06-29T17:05:57.729907Z",
     "iopub.status.idle": "2021-06-29T17:11:30.596038Z",
     "shell.execute_reply": "2021-06-29T17:11:30.595175Z",
     "shell.execute_reply.started": "2021-06-29T17:05:57.730272Z"
    },
    "id": "FD6EVciUb3MB",
    "outputId": "ffdf5940-39c9-492f-f900-0233ce03b26d"
   },
   "outputs": [
    {
     "name": "stdout",
     "output_type": "stream",
     "text": [
      "Epoch 1/30\n",
      "300/300 [==============================] - 25s 69ms/step - loss: 0.9103 - accuracy: 0.6928 - val_loss: 0.1440 - val_accuracy: 0.9544\n",
      "Epoch 2/30\n",
      "300/300 [==============================] - 21s 68ms/step - loss: 0.1449 - accuracy: 0.9563 - val_loss: 0.0733 - val_accuracy: 0.9760\n",
      "Epoch 3/30\n",
      "300/300 [==============================] - 20s 67ms/step - loss: 0.0915 - accuracy: 0.9719 - val_loss: 0.0580 - val_accuracy: 0.9815\n",
      "Epoch 4/30\n",
      "300/300 [==============================] - 22s 74ms/step - loss: 0.0766 - accuracy: 0.9760 - val_loss: 0.0500 - val_accuracy: 0.9842\n",
      "Epoch 5/30\n",
      "300/300 [==============================] - 21s 70ms/step - loss: 0.0627 - accuracy: 0.9813 - val_loss: 0.0445 - val_accuracy: 0.9853\n",
      "Epoch 6/30\n",
      "300/300 [==============================] - 21s 70ms/step - loss: 0.0546 - accuracy: 0.9824 - val_loss: 0.0496 - val_accuracy: 0.9846\n",
      "Epoch 7/30\n",
      "300/300 [==============================] - 21s 71ms/step - loss: 0.0465 - accuracy: 0.9858 - val_loss: 0.0357 - val_accuracy: 0.9885\n",
      "Epoch 8/30\n",
      "300/300 [==============================] - 21s 69ms/step - loss: 0.0471 - accuracy: 0.9847 - val_loss: 0.0313 - val_accuracy: 0.9910\n",
      "Epoch 9/30\n",
      "300/300 [==============================] - 20s 68ms/step - loss: 0.0384 - accuracy: 0.9883 - val_loss: 0.0359 - val_accuracy: 0.9879\n",
      "Epoch 10/30\n",
      "300/300 [==============================] - 20s 68ms/step - loss: 0.0376 - accuracy: 0.9882 - val_loss: 0.0308 - val_accuracy: 0.9905\n",
      "Epoch 11/30\n",
      "300/300 [==============================] - 20s 67ms/step - loss: 0.0388 - accuracy: 0.9883 - val_loss: 0.0341 - val_accuracy: 0.9895\n",
      "Epoch 12/30\n",
      "300/300 [==============================] - 20s 65ms/step - loss: 0.0354 - accuracy: 0.9889 - val_loss: 0.0299 - val_accuracy: 0.9905\n",
      "Epoch 13/30\n",
      "300/300 [==============================] - 20s 68ms/step - loss: 0.0334 - accuracy: 0.9897 - val_loss: 0.0286 - val_accuracy: 0.9913\n",
      "Epoch 14/30\n",
      "300/300 [==============================] - 19s 64ms/step - loss: 0.0342 - accuracy: 0.9899 - val_loss: 0.0296 - val_accuracy: 0.9906\n",
      "Epoch 15/30\n",
      "300/300 [==============================] - 20s 67ms/step - loss: 0.0324 - accuracy: 0.9898 - val_loss: 0.0293 - val_accuracy: 0.9908\n",
      "Epoch 16/30\n",
      "300/300 [==============================] - 20s 67ms/step - loss: 0.0296 - accuracy: 0.9914 - val_loss: 0.0293 - val_accuracy: 0.9900\n",
      "Epoch 00016: early stopping\n"
     ]
    }
   ],
   "source": [
    "history = classifier.fit(training_set,\n",
    "                         steps_per_epoch=len(x_train)//batch_size, # 300\n",
    "                         validation_data=test_set,\n",
    "                         validation_steps=len(x_test)//batch_size, # 50\n",
    "                         epochs=epochs,\n",
    "                        #  callbacks=[checkpoint_callback])\n",
    "                         callbacks=[es_callback])"
   ]
  },
  {
   "cell_type": "code",
   "execution_count": 13,
   "metadata": {
    "execution": {
     "iopub.execute_input": "2021-06-29T17:11:30.597970Z",
     "iopub.status.busy": "2021-06-29T17:11:30.597625Z",
     "iopub.status.idle": "2021-06-29T17:11:30.753779Z",
     "shell.execute_reply": "2021-06-29T17:11:30.752826Z",
     "shell.execute_reply.started": "2021-06-29T17:11:30.597934Z"
    },
    "id": "-XJyEsVzb3MH",
    "outputId": "49d8aa1d-667c-4ee7-a432-4f3a60e21e3c"
   },
   "outputs": [
    {
     "data": {
      "image/png": "[encoded data removed]",
      "text/plain": [
       "<Figure size 432x288 with 1 Axes>"
      ]
     },
     "metadata": {
      "needs_background": "light"
     },
     "output_type": "display_data"
    }
   ],
   "source": [
    "plt.plot(history.history['accuracy'],\n",
    "         label='accuracy')\n",
    "plt.plot(history.history['val_accuracy'],\n",
    "         label='val_accuracy')\n",
    "plt.xlabel('epoch')\n",
    "plt.ylabel('correct responses %')\n",
    "plt.legend()\n",
    "plt.show()"
   ]
  },
  {
   "cell_type": "code",
   "execution_count": 14,
   "metadata": {
    "execution": {
     "iopub.execute_input": "2021-06-29T17:11:30.755495Z",
     "iopub.status.busy": "2021-06-29T17:11:30.755031Z",
     "iopub.status.idle": "2021-06-29T17:11:30.896312Z",
     "shell.execute_reply": "2021-06-29T17:11:30.895389Z",
     "shell.execute_reply.started": "2021-06-29T17:11:30.755456Z"
    },
    "id": "h14F9N3UIYx_",
    "outputId": "66f614a0-3f9a-40b1-9258-2b5295e7c489"
   },
   "outputs": [
    {
     "data": {
      "image/png": "[encoded data removed]",
      "text/plain": [
       "<Figure size 432x288 with 1 Axes>"
      ]
     },
     "metadata": {
      "needs_background": "light"
     },
     "output_type": "display_data"
    }
   ],
   "source": [
    "plt.plot(history.history['loss'],\n",
    "         label='loss')\n",
    "plt.plot(history.history['val_loss'],\n",
    "         label='val_loss')\n",
    "plt.xlabel('epoch')\n",
    "plt.ylabel('correct responses %')\n",
    "plt.legend()\n",
    "plt.show()"
   ]
  },
  {
   "cell_type": "code",
   "execution_count": 15,
   "metadata": {
    "execution": {
     "iopub.execute_input": "2021-06-29T17:11:30.898036Z",
     "iopub.status.busy": "2021-06-29T17:11:30.897670Z",
     "iopub.status.idle": "2021-06-29T17:11:30.951640Z",
     "shell.execute_reply": "2021-06-29T17:11:30.950885Z",
     "shell.execute_reply.started": "2021-06-29T17:11:30.898002Z"
    },
    "id": "p_bvo29xqFJH"
   },
   "outputs": [],
   "source": [
    "classifier.save('es.h5')"
   ]
  },
  {
   "cell_type": "code",
   "execution_count": null,
   "metadata": {
    "id": "RsZ5YXb3XNRa"
   },
   "outputs": [],
   "source": []
  }
 ],
 "metadata": {
  "kernelspec": {
   "display_name": "Python 3",
   "language": "python",
   "name": "python3"
  },
  "language_info": {
   "codemirror_mode": {
    "name": "ipython",
    "version": 3
   },
   "file_extension": ".py",
   "mimetype": "text/x-python",
   "name": "python",
   "nbconvert_exporter": "python",
   "pygments_lexer": "ipython3",
   "version": "3.9.5"
  }
 },
 "nbformat": 4,
 "nbformat_minor": 4
}
