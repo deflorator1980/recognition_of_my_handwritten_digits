{
 "cells": [
  {
   "cell_type": "code",
   "execution_count": 1,
   "metadata": {
    "id": "zn8uyP0Rb3LQ"
   },
   "outputs": [],
   "source": [
    "import tensorflow as tf\n",
    "import numpy as np\n",
    "from tensorflow.keras.models import Sequential\n",
    "from tensorflow.keras.layers import Dense, Dropout, Activation, Flatten,\\\n",
    "      MaxPool2D, Conv2D, BatchNormalization\n",
    "from keras.utils import np_utils\n",
    "from tensorflow.keras.preprocessing.image import ImageDataGenerator\n",
    "import matplotlib.pyplot as plt\n",
    "from tensorflow.keras.datasets import mnist\n",
    "from tensorflow.keras.callbacks import ModelCheckpoint "
   ]
  },
  {
   "cell_type": "code",
   "execution_count": 2,
   "metadata": {
    "id": "nuLa3TrtkhaA"
   },
   "outputs": [],
   "source": [
    "IMG_SIZE=28\n",
    "batch_size=200\n",
    "epochs=30"
   ]
  },
  {
   "cell_type": "code",
   "execution_count": 3,
   "metadata": {
    "id": "dMyh9mByb3La"
   },
   "outputs": [],
   "source": [
    "(x_train, y_train), (x_test, y_test) = mnist.load_data()"
   ]
  },
  {
   "cell_type": "code",
   "execution_count": 4,
   "metadata": {
    "id": "GFJn-TVIb3Lj"
   },
   "outputs": [],
   "source": [
    "x_train = x_train[..., tf.newaxis].astype('float32')\n",
    "x_test = x_test[..., tf.newaxis].astype('float32')\n",
    "# x_train /= 255                         # if without data augmentation\n",
    "# x_test /= 255\n",
    "y_train = np_utils.to_categorical(y_train) \n",
    "y_test = np_utils.to_categorical(y_test)"
   ]
  },
  {
   "cell_type": "code",
   "execution_count": 5,
   "metadata": {
    "id": "cCOEGBtsb3Lq"
   },
   "outputs": [],
   "source": [
    "classifier = Sequential()\n",
    "classifier.add(Conv2D(32, (3,3), input_shape=(IMG_SIZE,IMG_SIZE,1)))\n",
    "# classifier.add(BatchNormalization(axis=-1))  \n",
    "classifier.add(Activation('relu'))\n",
    "\n",
    "classifier.add(Conv2D(32, (3,3)))\n",
    "# classifier.add(BatchNormalization(axis=-1))\n",
    "classifier.add(Activation('relu'))\n",
    "\n",
    "classifier.add(MaxPool2D(pool_size=(2,2)))\n",
    "# classifier.add(BatchNormalization(axis=-1))\n",
    "\n",
    "classifier.add(Conv2D(64, (3,3)))\n",
    "# classifier.add(BatchNormalization(axis=-1))\n",
    "classifier.add(Activation('relu'))\n",
    "\n",
    "classifier.add(Conv2D(64, (3,3)))\n",
    "classifier.add(Activation('relu'))\n",
    "classifier.add(MaxPool2D(pool_size=(2,2)))\n",
    "\n",
    "classifier.add(Flatten())\n",
    "# classifier.add(BatchNormalization())\n",
    "\n",
    "classifier.add(Dense(512))\n",
    "# classifier.add(BatchNormalization())\n",
    "classifier.add(Activation('relu'))\n",
    "\n",
    "classifier.add(Dropout(0.2))\n",
    "classifier.add(Dense(10))\n",
    "classifier.add(Activation('softmax'))"
   ]
  },
  {
   "cell_type": "code",
   "execution_count": 6,
   "metadata": {
    "id": "e7ffaoy2b3Lv"
   },
   "outputs": [],
   "source": [
    "classifier.compile(optimizer='adam', loss='categorical_crossentropy', metrics=['accuracy'])"
   ]
  },
  {
   "cell_type": "code",
   "execution_count": 7,
   "metadata": {
    "id": "qOPo6wLqwekz",
    "outputId": "eb5b2285-b9af-4e19-fd64-ee7eb8e6cbf1"
   },
   "outputs": [
    {
     "data": {
      "text/plain": [
       "{'name': 'Adam',\n",
       " 'learning_rate': 0.001,\n",
       " 'decay': 0.0,\n",
       " 'beta_1': 0.9,\n",
       " 'beta_2': 0.999,\n",
       " 'epsilon': 1e-07,\n",
       " 'amsgrad': False}"
      ]
     },
     "execution_count": 7,
     "metadata": {},
     "output_type": "execute_result"
    }
   ],
   "source": [
    "classifier.optimizer.get_config()"
   ]
  },
  {
   "cell_type": "code",
   "execution_count": 8,
   "metadata": {
    "id": "UBkFo7Xqb3L1"
   },
   "outputs": [],
   "source": [
    "train_gen = ImageDataGenerator(rescale=1./255,\n",
    "                               rotation_range=15,\n",
    "#                                rotation_range=10\n",
    "                               width_shift_range=0.2,\n",
    "#                                width_shift_range=0.1\n",
    "#                                shear_range=0.3,  # useless?\n",
    "                               height_shift_range=0.1,\n",
    "#                                zoom_range=[1.3, 0.6]) # looks better, acc worce\n",
    "                               zoom_range=0.1)"
   ]
  },
  {
   "cell_type": "code",
   "execution_count": 9,
   "metadata": {
    "id": "W9ivXPgab3L5"
   },
   "outputs": [],
   "source": [
    "training_set = train_gen.flow(x_train,y_train,batch_size=batch_size)\n",
    "test_set = train_gen.flow(x_test,y_test,batch_size=batch_size)"
   ]
  },
  {
   "cell_type": "code",
   "execution_count": 10,
   "metadata": {
    "id": "r0Psi06feh0X",
    "outputId": "e2b4435a-4ec4-47bd-d084-6af90d84ebcc"
   },
   "outputs": [
    {
     "data": {
      "image/png": "[encoded data removed]",
      "text/plain": [
       "<Figure size 432x288 with 9 Axes>"
      ]
     },
     "metadata": {
      "needs_background": "light"
     },
     "output_type": "display_data"
    }
   ],
   "source": [
    "for i in range(9):\n",
    "    img, lab = training_set.next()\n",
    "    plt.subplot(3,3,i+1)\n",
    "    plt.imshow(img[0])\n",
    "    plt.subplots_adjust(hspace=0.8)\n",
    "    plt.title(np.argmax(lab[0]))"
   ]
  },
  {
   "cell_type": "code",
   "execution_count": 11,
   "metadata": {
    "id": "I9iJoF13b3L-"
   },
   "outputs": [],
   "source": [
    "# model_save_path = 'straight_bs200e30_tf25.h5'\n",
    "# checkpoint_callback = ModelCheckpoint(model_save_path,\n",
    "#                                       monitor='val_accuracy',\n",
    "#                                       save_best_only=True,\n",
    "#                                       verbose=1)\n",
    "es_callback = tf.keras.callbacks.EarlyStopping(monitor='val_loss', # better than val_acc\n",
    "                                               patience=3, \n",
    "                                               mode='auto', # default\n",
    "                                               verbose=1)"
   ]
  },
  {
   "cell_type": "code",
   "execution_count": 12,
   "metadata": {
    "id": "FD6EVciUb3MB",
    "outputId": "ffdf5940-39c9-492f-f900-0233ce03b26d"
   },
   "outputs": [
    {
     "name": "stdout",
     "output_type": "stream",
     "text": [
      "Epoch 1/30\n",
      "300/300 [==============================] - 48s 159ms/step - loss: 0.4396 - accuracy: 0.8587 - val_loss: 0.1276 - val_accuracy: 0.9598\n",
      "Epoch 2/30\n",
      "300/300 [==============================] - 46s 152ms/step - loss: 0.1236 - accuracy: 0.9621 - val_loss: 0.0727 - val_accuracy: 0.9773\n",
      "Epoch 3/30\n",
      "300/300 [==============================] - 44s 147ms/step - loss: 0.0868 - accuracy: 0.9727 - val_loss: 0.0569 - val_accuracy: 0.9804\n",
      "Epoch 4/30\n",
      "300/300 [==============================] - 40s 135ms/step - loss: 0.0698 - accuracy: 0.9784 - val_loss: 0.0449 - val_accuracy: 0.9866\n",
      "Epoch 5/30\n",
      "300/300 [==============================] - 43s 144ms/step - loss: 0.0607 - accuracy: 0.9813 - val_loss: 0.0378 - val_accuracy: 0.9882\n",
      "Epoch 6/30\n",
      "300/300 [==============================] - 47s 155ms/step - loss: 0.0531 - accuracy: 0.9837 - val_loss: 0.0333 - val_accuracy: 0.9906\n",
      "Epoch 7/30\n",
      "300/300 [==============================] - 45s 149ms/step - loss: 0.0482 - accuracy: 0.9853 - val_loss: 0.0328 - val_accuracy: 0.9885\n",
      "Epoch 8/30\n",
      "300/300 [==============================] - 52s 175ms/step - loss: 0.0449 - accuracy: 0.9866 - val_loss: 0.0311 - val_accuracy: 0.9896\n",
      "Epoch 9/30\n",
      "300/300 [==============================] - 42s 141ms/step - loss: 0.0395 - accuracy: 0.9885 - val_loss: 0.0267 - val_accuracy: 0.9902\n",
      "Epoch 10/30\n",
      "300/300 [==============================] - 43s 144ms/step - loss: 0.0393 - accuracy: 0.9879 - val_loss: 0.0313 - val_accuracy: 0.9897\n",
      "Epoch 11/30\n",
      "300/300 [==============================] - 49s 164ms/step - loss: 0.0368 - accuracy: 0.9889 - val_loss: 0.0280 - val_accuracy: 0.9910\n",
      "Epoch 12/30\n",
      "300/300 [==============================] - 46s 154ms/step - loss: 0.0334 - accuracy: 0.9900 - val_loss: 0.0291 - val_accuracy: 0.9900\n",
      "Epoch 00012: early stopping\n"
     ]
    }
   ],
   "source": [
    "history = classifier.fit(training_set,\n",
    "                         steps_per_epoch=len(x_train)//batch_size, # 300\n",
    "                         validation_data=test_set,\n",
    "                         validation_steps=len(x_test)//batch_size, # 50\n",
    "                         epochs=epochs,\n",
    "                        #  callbacks=[checkpoint_callback])\n",
    "                         callbacks=[es_callback])"
   ]
  },
  {
   "cell_type": "code",
   "execution_count": 13,
   "metadata": {
    "id": "-XJyEsVzb3MH",
    "outputId": "49d8aa1d-667c-4ee7-a432-4f3a60e21e3c"
   },
   "outputs": [
    {
     "data": {
      "image/png": "[encoded data removed]",
      "text/plain": [
       "<Figure size 432x288 with 1 Axes>"
      ]
     },
     "metadata": {
      "needs_background": "light"
     },
     "output_type": "display_data"
    }
   ],
   "source": [
    "plt.plot(history.history['accuracy'],\n",
    "         label='accuracy')\n",
    "plt.plot(history.history['val_accuracy'],\n",
    "         label='val_accuracy')\n",
    "plt.xlabel('epoch')\n",
    "plt.ylabel('correct responses %')\n",
    "plt.legend()\n",
    "plt.show()"
   ]
  },
  {
   "cell_type": "code",
   "execution_count": 14,
   "metadata": {
    "id": "h14F9N3UIYx_",
    "outputId": "66f614a0-3f9a-40b1-9258-2b5295e7c489"
   },
   "outputs": [
    {
     "data": {
      "image/png": "[encoded data removed]",
      "text/plain": [
       "<Figure size 432x288 with 1 Axes>"
      ]
     },
     "metadata": {
      "needs_background": "light"
     },
     "output_type": "display_data"
    }
   ],
   "source": [
    "plt.plot(history.history['loss'],\n",
    "         label='loss')\n",
    "plt.plot(history.history['val_loss'],\n",
    "         label='val_loss')\n",
    "plt.xlabel('epoch')\n",
    "plt.ylabel('loss')\n",
    "plt.legend()\n",
    "plt.show()"
   ]
  },
  {
   "cell_type": "code",
   "execution_count": 15,
   "metadata": {
    "id": "p_bvo29xqFJH",
    "tags": []
   },
   "outputs": [],
   "source": [
    "classifier.save('es.h5')"
   ]
  }
 ],
 "metadata": {
  "kernelspec": {
   "display_name": "Python 3",
   "language": "python",
   "name": "python3"
  },
  "language_info": {
   "codemirror_mode": {
    "name": "ipython",
    "version": 3
   },
   "file_extension": ".py",
   "mimetype": "text/x-python",
   "name": "python",
   "nbconvert_exporter": "python",
   "pygments_lexer": "ipython3",
   "version": "3.9.6"
  }
 },
 "nbformat": 4,
 "nbformat_minor": 4
}
