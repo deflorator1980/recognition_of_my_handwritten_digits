{
  "nbformat": 4,
  "nbformat_minor": 0,
  "metadata": {
    "accelerator": "GPU",
    "colab": {
      "name": "train_straight.ipynb",
      "provenance": [],
      "collapsed_sections": []
    },
    "kernelspec": {
      "display_name": "Python 3",
      "language": "python",
      "name": "python3"
    },
    "language_info": {
      "codemirror_mode": {
        "name": "ipython",
        "version": 3
      },
      "file_extension": ".py",
      "mimetype": "text/x-python",
      "name": "python",
      "nbconvert_exporter": "python",
      "pygments_lexer": "ipython3",
      "version": "3.8.2"
    }
  },
  "cells": [
    {
      "cell_type": "code",
      "metadata": {
        "id": "zn8uyP0Rb3LQ"
      },
      "source": [
        "import tensorflow as tf\n",
        "import numpy as np\n",
        "from tensorflow.keras.models import Sequential\n",
        "from tensorflow.keras.layers import Dense, Dropout, Activation, Flatten,\\\n",
        "      MaxPool2D, Conv2D, BatchNormalization\n",
        "from keras.utils import np_utils\n",
        "from tensorflow.keras.preprocessing.image import ImageDataGenerator\n",
        "from matplotlib import pyplot as plt\n",
        "from tensorflow.keras.datasets import mnist\n",
        "from tensorflow.keras.callbacks import ModelCheckpoint "
      ],
      "execution_count": 1,
      "outputs": []
    },
    {
      "cell_type": "code",
      "metadata": {
        "id": "nuLa3TrtkhaA"
      },
      "source": [
        "IMG_SIZE=28\n",
        "batch_size=200\n",
        "epochs=30"
      ],
      "execution_count": 2,
      "outputs": []
    },
    {
      "cell_type": "code",
      "metadata": {
        "id": "dMyh9mByb3La"
      },
      "source": [
        "(x_train, y_train), (x_test, y_test) = mnist.load_data()"
      ],
      "execution_count": 3,
      "outputs": []
    },
    {
      "cell_type": "code",
      "metadata": {
        "id": "GFJn-TVIb3Lj"
      },
      "source": [
        "x_train = x_train.reshape(x_train.shape[0],IMG_SIZE,IMG_SIZE,1).astype('float32')\n",
        "x_test = x_test.reshape(x_test.shape[0],IMG_SIZE,IMG_SIZE,1).astype('float32')\n",
        "x_train /= 255\n",
        "x_test /= 255\n",
        "y_train = np_utils.to_categorical(y_train) \n",
        "y_test = np_utils.to_categorical(y_test)"
      ],
      "execution_count": 4,
      "outputs": []
    },
    {
      "cell_type": "code",
      "metadata": {
        "id": "cCOEGBtsb3Lq"
      },
      "source": [
        "classifier = Sequential()\n",
        "classifier.add(Conv2D(32, (3,3), input_shape=(IMG_SIZE,IMG_SIZE,1)))\n",
        "# classifier.add(BatchNormalization(axis=-1))  \n",
        "classifier.add(Activation('relu'))\n",
        "\n",
        "classifier.add(Conv2D(32, (3,3)))\n",
        "# classifier.add(BatchNormalization(axis=-1))\n",
        "classifier.add(Activation('relu'))\n",
        "\n",
        "classifier.add(MaxPool2D(pool_size=(2,2)))\n",
        "# classifier.add(BatchNormalization(axis=-1))\n",
        "\n",
        "classifier.add(Conv2D(64, (3,3)))\n",
        "# classifier.add(BatchNormalization(axis=-1))\n",
        "classifier.add(Activation('relu'))\n",
        "\n",
        "classifier.add(Conv2D(64, (3,3)))\n",
        "classifier.add(Activation('relu'))\n",
        "classifier.add(MaxPool2D(pool_size=(2,2)))\n",
        "\n",
        "classifier.add(Flatten())\n",
        "# classifier.add(BatchNormalization())\n",
        "\n",
        "classifier.add(Dense(512))\n",
        "# classifier.add(BatchNormalization())\n",
        "classifier.add(Activation('relu'))\n",
        "\n",
        "classifier.add(Dropout(0.2))\n",
        "classifier.add(Dense(10))\n",
        "classifier.add(Activation('softmax'))"
      ],
      "execution_count": 5,
      "outputs": []
    },
    {
      "cell_type": "code",
      "metadata": {
        "id": "e7ffaoy2b3Lv"
      },
      "source": [
        "classifier.compile(optimizer='adam', loss='categorical_crossentropy', metrics=['accuracy'])"
      ],
      "execution_count": 6,
      "outputs": []
    },
    {
      "cell_type": "code",
      "metadata": {
        "colab": {
          "base_uri": "https://localhost:8080/"
        },
        "id": "qOPo6wLqwekz",
        "outputId": "8a8f12f4-dfa2-4f9f-b04b-f28dd41e5461"
      },
      "source": [
        "classifier.optimizer.get_config()"
      ],
      "execution_count": 7,
      "outputs": [
        {
          "output_type": "execute_result",
          "data": {
            "text/plain": [
              "{'amsgrad': False,\n",
              " 'beta_1': 0.9,\n",
              " 'beta_2': 0.999,\n",
              " 'decay': 0.0,\n",
              " 'epsilon': 1e-07,\n",
              " 'learning_rate': 0.001,\n",
              " 'name': 'Adam'}"
            ]
          },
          "metadata": {
            "tags": []
          },
          "execution_count": 7
        }
      ]
    },
    {
      "cell_type": "code",
      "metadata": {
        "id": "UBkFo7Xqb3L1"
      },
      "source": [
        "train_gen = ImageDataGenerator(rotation_range=10,\n",
        "                               width_shift_range=0.1,\n",
        "                               shear_range=0.3,\n",
        "                               height_shift_range=0.1,\n",
        "                               zoom_range=0.1)\n",
        "test_gen = ImageDataGenerator()"
      ],
      "execution_count": 8,
      "outputs": []
    },
    {
      "cell_type": "code",
      "metadata": {
        "id": "W9ivXPgab3L5"
      },
      "source": [
        "training_set = train_gen.flow(x_train,y_train,batch_size=batch_size)\n",
        "test_set = train_gen.flow(x_test,y_test,batch_size=batch_size)"
      ],
      "execution_count": 9,
      "outputs": []
    },
    {
      "cell_type": "code",
      "metadata": {
        "id": "I9iJoF13b3L-"
      },
      "source": [
        "# model_save_path = 'straight_bs200e30_tf25.h5'\n",
        "# checkpoint_callback = ModelCheckpoint(model_save_path,\n",
        "#                                       monitor='val_accuracy',\n",
        "#                                       save_best_only=True,\n",
        "#                                       verbose=1)\n",
        "es_callback = tf.keras.callbacks.EarlyStopping(monitor='val_loss', # better than val_acc\n",
        "                                               patience=4,  # better than 3\n",
        "                                               mode='auto', # default\n",
        "                                               verbose=1)"
      ],
      "execution_count": 10,
      "outputs": []
    },
    {
      "cell_type": "code",
      "metadata": {
        "colab": {
          "base_uri": "https://localhost:8080/"
        },
        "id": "FD6EVciUb3MB",
        "outputId": "251a6466-cdf4-4bee-dc09-7374e664a6df"
      },
      "source": [
        "history = classifier.fit(training_set,\n",
        "                         steps_per_epoch=len(x_train)//batch_size, # 300\n",
        "                         validation_data=test_set,\n",
        "                         validation_steps=len(x_test)//batch_size, # 50\n",
        "                         epochs=epochs,\n",
        "                        #  callbacks=[checkpoint_callback])\n",
        "                         callbacks=[es_callback])"
      ],
      "execution_count": 11,
      "outputs": [
        {
          "output_type": "stream",
          "text": [
            "Epoch 1/30\n",
            "300/300 [==============================] - 20s 57ms/step - loss: 0.3426 - accuracy: 0.8909 - val_loss: 0.0862 - val_accuracy: 0.9740\n",
            "Epoch 2/30\n",
            "300/300 [==============================] - 17s 57ms/step - loss: 0.0910 - accuracy: 0.9728 - val_loss: 0.0806 - val_accuracy: 0.9746\n",
            "Epoch 3/30\n",
            "300/300 [==============================] - 17s 58ms/step - loss: 0.0674 - accuracy: 0.9792 - val_loss: 0.0494 - val_accuracy: 0.9852\n",
            "Epoch 4/30\n",
            "300/300 [==============================] - 18s 58ms/step - loss: 0.0540 - accuracy: 0.9834 - val_loss: 0.0358 - val_accuracy: 0.9881\n",
            "Epoch 5/30\n",
            "300/300 [==============================] - 17s 58ms/step - loss: 0.0458 - accuracy: 0.9858 - val_loss: 0.0382 - val_accuracy: 0.9875\n",
            "Epoch 6/30\n",
            "300/300 [==============================] - 17s 57ms/step - loss: 0.0401 - accuracy: 0.9880 - val_loss: 0.0325 - val_accuracy: 0.9896\n",
            "Epoch 7/30\n",
            "300/300 [==============================] - 17s 57ms/step - loss: 0.0382 - accuracy: 0.9878 - val_loss: 0.0313 - val_accuracy: 0.9899\n",
            "Epoch 8/30\n",
            "300/300 [==============================] - 18s 58ms/step - loss: 0.0325 - accuracy: 0.9902 - val_loss: 0.0296 - val_accuracy: 0.9909\n",
            "Epoch 9/30\n",
            "300/300 [==============================] - 17s 58ms/step - loss: 0.0311 - accuracy: 0.9904 - val_loss: 0.0265 - val_accuracy: 0.9912\n",
            "Epoch 10/30\n",
            "300/300 [==============================] - 17s 58ms/step - loss: 0.0297 - accuracy: 0.9912 - val_loss: 0.0233 - val_accuracy: 0.9929\n",
            "Epoch 11/30\n",
            "300/300 [==============================] - 17s 57ms/step - loss: 0.0272 - accuracy: 0.9918 - val_loss: 0.0208 - val_accuracy: 0.9940\n",
            "Epoch 12/30\n",
            "300/300 [==============================] - 17s 58ms/step - loss: 0.0269 - accuracy: 0.9913 - val_loss: 0.0209 - val_accuracy: 0.9931\n",
            "Epoch 13/30\n",
            "300/300 [==============================] - 18s 59ms/step - loss: 0.0252 - accuracy: 0.9925 - val_loss: 0.0221 - val_accuracy: 0.9928\n",
            "Epoch 14/30\n",
            "300/300 [==============================] - 17s 58ms/step - loss: 0.0238 - accuracy: 0.9924 - val_loss: 0.0270 - val_accuracy: 0.9919\n",
            "Epoch 15/30\n",
            "300/300 [==============================] - 17s 58ms/step - loss: 0.0235 - accuracy: 0.9927 - val_loss: 0.0188 - val_accuracy: 0.9948\n",
            "Epoch 16/30\n",
            "300/300 [==============================] - 17s 57ms/step - loss: 0.0222 - accuracy: 0.9931 - val_loss: 0.0214 - val_accuracy: 0.9933\n",
            "Epoch 17/30\n",
            "300/300 [==============================] - 18s 58ms/step - loss: 0.0199 - accuracy: 0.9938 - val_loss: 0.0278 - val_accuracy: 0.9906\n",
            "Epoch 18/30\n",
            "300/300 [==============================] - 18s 59ms/step - loss: 0.0203 - accuracy: 0.9940 - val_loss: 0.0221 - val_accuracy: 0.9937\n",
            "Epoch 19/30\n",
            "300/300 [==============================] - 17s 58ms/step - loss: 0.0202 - accuracy: 0.9938 - val_loss: 0.0214 - val_accuracy: 0.9939\n",
            "Epoch 00019: early stopping\n"
          ],
          "name": "stdout"
        }
      ]
    },
    {
      "cell_type": "code",
      "metadata": {
        "colab": {
          "base_uri": "https://localhost:8080/",
          "height": 279
        },
        "id": "-XJyEsVzb3MH",
        "outputId": "b15435f5-5395-43a9-c0a0-390f25c4dea9"
      },
      "source": [
        "plt.plot(history.history['accuracy'],\n",
        "         label='accuracy')\n",
        "plt.plot(history.history['val_accuracy'],\n",
        "         label='val_accuracy')\n",
        "plt.xlabel('epoch')\n",
        "plt.ylabel('correct responses %')\n",
        "plt.legend()\n",
        "plt.show()"
      ],
      "execution_count": 12,
      "outputs": [
        {
          "output_type": "display_data",
          "data": {
            "image/png": "[encoded data removed]",
            "text/plain": [
              "<Figure size 432x288 with 1 Axes>"
            ]
          },
          "metadata": {
            "tags": [],
            "needs_background": "light"
          }
        }
      ]
    },
    {
      "cell_type": "code",
      "metadata": {
        "colab": {
          "base_uri": "https://localhost:8080/",
          "height": 279
        },
        "id": "h14F9N3UIYx_",
        "outputId": "351f9002-6987-4185-8a71-2b5dc19c3d3c"
      },
      "source": [
        "plt.plot(history.history['loss'],\n",
        "         label='loss')\n",
        "plt.plot(history.history['val_loss'],\n",
        "         label='val_loss')\n",
        "plt.xlabel('epoch')\n",
        "plt.ylabel('correct responses %')\n",
        "plt.legend()\n",
        "plt.show()"
      ],
      "execution_count": 13,
      "outputs": [
        {
          "output_type": "display_data",
          "data": {
            "image/png": "[encoded data removed]",
            "text/plain": [
              "<Figure size 432x288 with 1 Axes>"
            ]
          },
          "metadata": {
            "tags": [],
            "needs_background": "light"
          }
        }
      ]
    },
    {
      "cell_type": "code",
      "metadata": {
        "id": "p_bvo29xqFJH"
      },
      "source": [
        "classifier.save('es4.h5')"
      ],
      "execution_count": 18,
      "outputs": []
    },
    {
      "cell_type": "code",
      "metadata": {
        "id": "RsZ5YXb3XNRa"
      },
      "source": [
        ""
      ],
      "execution_count": 17,
      "outputs": []
    }
  ]
}