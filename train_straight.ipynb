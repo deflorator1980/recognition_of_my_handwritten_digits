{
 "cells": [
  {
   "cell_type": "code",
   "execution_count": 20,
   "metadata": {
    "colab": {},
    "colab_type": "code",
    "id": "zn8uyP0Rb3LQ"
   },
   "outputs": [],
   "source": [
    "import tensorflow as tf\n",
    "import numpy as np\n",
    "from tensorflow.keras.models import Sequential\n",
    "from tensorflow.keras.layers import Dense, Dropout, Activation, Flatten,\\\n",
    "      MaxPool2D, Conv2D, BatchNormalization\n",
    "from keras.utils import np_utils\n",
    "from tensorflow.keras.preprocessing.image import ImageDataGenerator\n",
    "from matplotlib import pyplot as plt\n",
    "from tensorflow.keras.datasets import mnist\n",
    "from tensorflow.keras.callbacks import ModelCheckpoint "
   ]
  },
  {
   "cell_type": "code",
   "execution_count": 21,
   "metadata": {
    "colab": {},
    "colab_type": "code",
    "id": "nuLa3TrtkhaA"
   },
   "outputs": [],
   "source": [
    "IMG_SIZE=28\n",
    "batch_size=200\n",
    "epochs=30"
   ]
  },
  {
   "cell_type": "code",
   "execution_count": 22,
   "metadata": {
    "colab": {
     "base_uri": "https://localhost:8080/",
     "height": 52
    },
    "colab_type": "code",
    "id": "dMyh9mByb3La",
    "outputId": "cd78f352-0ff6-40bc-8e01-5bb1ccf7a1ab"
   },
   "outputs": [],
   "source": [
    "(x_train, y_train), (x_test, y_test) = mnist.load_data()"
   ]
  },
  {
   "cell_type": "code",
   "execution_count": 23,
   "metadata": {
    "colab": {},
    "colab_type": "code",
    "id": "GFJn-TVIb3Lj"
   },
   "outputs": [],
   "source": [
    "x_train = x_train.reshape(x_train.shape[0],IMG_SIZE,IMG_SIZE,1).astype('float32')\n",
    "x_test = x_test.reshape(x_test.shape[0],IMG_SIZE,IMG_SIZE,1).astype('float32')\n",
    "x_train /= 255\n",
    "x_test /= 255\n",
    "y_train = np_utils.to_categorical(y_train) \n",
    "y_test = np_utils.to_categorical(y_test)"
   ]
  },
  {
   "cell_type": "code",
   "execution_count": 24,
   "metadata": {
    "colab": {},
    "colab_type": "code",
    "id": "cCOEGBtsb3Lq"
   },
   "outputs": [],
   "source": [
    "classifier = Sequential()\n",
    "classifier.add(Conv2D(32, (3,3), input_shape=(IMG_SIZE,IMG_SIZE,1)))\n",
    "# classifier.add(BatchNormalization(axis=-1))  \n",
    "classifier.add(Activation('relu'))\n",
    "\n",
    "classifier.add(Conv2D(32, (3,3)))\n",
    "# classifier.add(BatchNormalization(axis=-1))\n",
    "classifier.add(Activation('relu'))\n",
    "\n",
    "classifier.add(MaxPool2D(pool_size=(2,2)))\n",
    "# classifier.add(BatchNormalization(axis=-1))\n",
    "\n",
    "classifier.add(Conv2D(64, (3,3)))\n",
    "# classifier.add(BatchNormalization(axis=-1))\n",
    "classifier.add(Activation('relu'))\n",
    "\n",
    "classifier.add(Conv2D(64, (3,3)))\n",
    "classifier.add(Activation('relu'))\n",
    "classifier.add(MaxPool2D(pool_size=(2,2)))\n",
    "\n",
    "classifier.add(Flatten())\n",
    "# classifier.add(BatchNormalization())\n",
    "\n",
    "classifier.add(Dense(512))\n",
    "# classifier.add(BatchNormalization())\n",
    "classifier.add(Activation('relu'))\n",
    "\n",
    "classifier.add(Dropout(0.2))\n",
    "classifier.add(Dense(10))\n",
    "classifier.add(Activation('softmax'))"
   ]
  },
  {
   "cell_type": "code",
   "execution_count": 25,
   "metadata": {
    "colab": {},
    "colab_type": "code",
    "id": "e7ffaoy2b3Lv"
   },
   "outputs": [],
   "source": [
    "classifier.compile(optimizer='adam', loss='categorical_crossentropy', metrics=['accuracy'])"
   ]
  },
  {
   "cell_type": "code",
   "execution_count": 31,
   "metadata": {},
   "outputs": [
    {
     "data": {
      "text/plain": [
       "{'name': 'Adam',\n",
       " 'learning_rate': 0.001,\n",
       " 'decay': 0.0,\n",
       " 'beta_1': 0.9,\n",
       " 'beta_2': 0.999,\n",
       " 'epsilon': 1e-07,\n",
       " 'amsgrad': False}"
      ]
     },
     "execution_count": 31,
     "metadata": {},
     "output_type": "execute_result"
    }
   ],
   "source": [
    "classifier.optimizer.get_config()"
   ]
  },
  {
   "cell_type": "code",
   "execution_count": 26,
   "metadata": {
    "colab": {},
    "colab_type": "code",
    "id": "UBkFo7Xqb3L1"
   },
   "outputs": [],
   "source": [
    "train_gen = ImageDataGenerator(rotation_range=10,\n",
    "                               width_shift_range=0.1,\n",
    "                               shear_range=0.3,\n",
    "                               height_shift_range=0.1,\n",
    "                               zoom_range=0.1)\n",
    "test_gen = ImageDataGenerator()"
   ]
  },
  {
   "cell_type": "code",
   "execution_count": 27,
   "metadata": {
    "colab": {},
    "colab_type": "code",
    "id": "W9ivXPgab3L5"
   },
   "outputs": [],
   "source": [
    "training_set = train_gen.flow(x_train,y_train,batch_size=batch_size)\n",
    "test_set = train_gen.flow(x_test,y_test,batch_size=batch_size)"
   ]
  },
  {
   "cell_type": "code",
   "execution_count": 29,
   "metadata": {
    "colab": {},
    "colab_type": "code",
    "id": "I9iJoF13b3L-"
   },
   "outputs": [],
   "source": [
    "# model_save_path = 'straight_bs200e30_tf23.h5'\n",
    "# checkpoint_callback = ModelCheckpoint(model_save_path,\n",
    "#                                       monitor='val_accuracy',\n",
    "#                                       save_best_only=True,\n",
    "#                                       verbose=1)\n",
    "es_callback = tf.keras.callbacks.EarlyStopping(monitor='val_loss', # better than val_acc\n",
    "                                               patience=3,\n",
    "                                               mode='auto',\n",
    "                                               verbose=1)"
   ]
  },
  {
   "cell_type": "code",
   "execution_count": 12,
   "metadata": {
    "colab": {
     "base_uri": "https://localhost:8080/",
     "height": 451
    },
    "colab_type": "code",
    "id": "FD6EVciUb3MB",
    "outputId": "28ce5d42-1c82-4628-b96c-057a840efc18"
   },
   "outputs": [
    {
     "name": "stdout",
     "output_type": "stream",
     "text": [
      "Epoch 1/30\n",
      "300/300 [==============================] - 19s 62ms/step - loss: 0.3462 - accuracy: 0.8890 - val_loss: 0.0886 - val_accuracy: 0.9703\n",
      "Epoch 2/30\n",
      "300/300 [==============================] - 18s 61ms/step - loss: 0.0916 - accuracy: 0.9720 - val_loss: 0.0544 - val_accuracy: 0.9834\n",
      "Epoch 3/30\n",
      "300/300 [==============================] - 18s 61ms/step - loss: 0.0649 - accuracy: 0.9798 - val_loss: 0.0483 - val_accuracy: 0.9842\n",
      "Epoch 4/30\n",
      "300/300 [==============================] - 18s 61ms/step - loss: 0.0541 - accuracy: 0.9836 - val_loss: 0.0299 - val_accuracy: 0.9904\n",
      "Epoch 5/30\n",
      "300/300 [==============================] - 18s 61ms/step - loss: 0.0443 - accuracy: 0.9865 - val_loss: 0.0362 - val_accuracy: 0.9888\n",
      "Epoch 6/30\n",
      "300/300 [==============================] - 18s 59ms/step - loss: 0.0397 - accuracy: 0.9876 - val_loss: 0.0331 - val_accuracy: 0.9906\n",
      "Epoch 7/30\n",
      "300/300 [==============================] - 17s 58ms/step - loss: 0.0364 - accuracy: 0.9888 - val_loss: 0.0281 - val_accuracy: 0.9917\n",
      "Epoch 8/30\n",
      "300/300 [==============================] - 17s 56ms/step - loss: 0.0327 - accuracy: 0.9896 - val_loss: 0.0306 - val_accuracy: 0.9906\n",
      "Epoch 9/30\n",
      "300/300 [==============================] - 17s 56ms/step - loss: 0.0323 - accuracy: 0.9901 - val_loss: 0.0271 - val_accuracy: 0.9914\n",
      "Epoch 10/30\n",
      "300/300 [==============================] - 17s 55ms/step - loss: 0.0307 - accuracy: 0.9904 - val_loss: 0.0339 - val_accuracy: 0.9890\n",
      "Epoch 11/30\n",
      "300/300 [==============================] - 16s 54ms/step - loss: 0.0279 - accuracy: 0.9915 - val_loss: 0.0278 - val_accuracy: 0.9908\n",
      "Epoch 12/30\n",
      "300/300 [==============================] - 16s 54ms/step - loss: 0.0254 - accuracy: 0.9922 - val_loss: 0.0274 - val_accuracy: 0.9909\n",
      "Epoch 00012: early stopping\n"
     ]
    }
   ],
   "source": [
    "history = classifier.fit(training_set,\n",
    "                         steps_per_epoch=len(x_train)//batch_size, # 300\n",
    "                         validation_data=test_set,\n",
    "                         validation_steps=len(x_test)//batch_size, # 50\n",
    "                         epochs=epochs,\n",
    "                        #  callbacks=[checkpoint_callback])\n",
    "                         callbacks=[es_callback])"
   ]
  },
  {
   "cell_type": "code",
   "execution_count": 16,
   "metadata": {
    "colab": {
     "base_uri": "https://localhost:8080/",
     "height": 279
    },
    "colab_type": "code",
    "id": "-XJyEsVzb3MH",
    "outputId": "6ab24ce4-ebb1-4ddd-b801-80ded3879a18"
   },
   "outputs": [
    {
     "data": {
      "image/png": "[encoded data removed]",
      "text/plain": [
       "<Figure size 432x288 with 1 Axes>"
      ]
     },
     "metadata": {
      "needs_background": "light",
      "tags": []
     },
     "output_type": "display_data"
    }
   ],
   "source": [
    "plt.plot(history.history['accuracy'],\n",
    "         label='accuracy')\n",
    "plt.plot(history.history['val_accuracy'],\n",
    "         label='val_accuracy')\n",
    "plt.xlabel('epoch')\n",
    "plt.ylabel('correct responses %')\n",
    "plt.legend()\n",
    "plt.show()"
   ]
  },
  {
   "cell_type": "code",
   "execution_count": 17,
   "metadata": {
    "colab": {
     "base_uri": "https://localhost:8080/",
     "height": 279
    },
    "colab_type": "code",
    "id": "h14F9N3UIYx_",
    "outputId": "6a755b7a-0c92-4d84-8624-e13d317647fc"
   },
   "outputs": [
    {
     "data": {
      "image/png": "[encoded data removed]",
      "text/plain": [
       "<Figure size 432x288 with 1 Axes>"
      ]
     },
     "metadata": {
      "needs_background": "light",
      "tags": []
     },
     "output_type": "display_data"
    }
   ],
   "source": [
    "plt.plot(history.history['loss'],\n",
    "         label='loss')\n",
    "plt.plot(history.history['val_loss'],\n",
    "         label='val_loss')\n",
    "plt.xlabel('epoch')\n",
    "plt.ylabel('correct responses %')\n",
    "plt.legend()\n",
    "plt.show()"
   ]
  },
  {
   "cell_type": "code",
   "execution_count": 21,
   "metadata": {
    "colab": {},
    "colab_type": "code",
    "id": "p_bvo29xqFJH"
   },
   "outputs": [],
   "source": [
    "classifier.save('es.h5')"
   ]
  },
  {
   "cell_type": "code",
   "execution_count": 22,
   "metadata": {
    "colab": {
     "base_uri": "https://localhost:8080/",
     "height": 17
    },
    "colab_type": "code",
    "id": "io5rLhVzb3MN",
    "outputId": "235152cb-13dd-4a09-a01c-8b787b4c0e0c"
   },
   "outputs": [
    {
     "data": {
      "application/javascript": [
       "\n",
       "    async function download(id, filename, size) {\n",
       "      if (!google.colab.kernel.accessAllowed) {\n",
       "        return;\n",
       "      }\n",
       "      const div = document.createElement('div');\n",
       "      const label = document.createElement('label');\n",
       "      label.textContent = `Downloading \"${filename}\": `;\n",
       "      div.appendChild(label);\n",
       "      const progress = document.createElement('progress');\n",
       "      progress.max = size;\n",
       "      div.appendChild(progress);\n",
       "      document.body.appendChild(div);\n",
       "\n",
       "      const buffers = [];\n",
       "      let downloaded = 0;\n",
       "\n",
       "      const channel = await google.colab.kernel.comms.open(id);\n",
       "      // Send a message to notify the kernel that we're ready.\n",
       "      channel.send({})\n",
       "\n",
       "      for await (const message of channel.messages) {\n",
       "        // Send a message to notify the kernel that we're ready.\n",
       "        channel.send({})\n",
       "        if (message.buffers) {\n",
       "          for (const buffer of message.buffers) {\n",
       "            buffers.push(buffer);\n",
       "            downloaded += buffer.byteLength;\n",
       "            progress.value = downloaded;\n",
       "          }\n",
       "        }\n",
       "      }\n",
       "      const blob = new Blob(buffers, {type: 'application/binary'});\n",
       "      const a = document.createElement('a');\n",
       "      a.href = window.URL.createObjectURL(blob);\n",
       "      a.download = filename;\n",
       "      div.appendChild(a);\n",
       "      a.click();\n",
       "      div.remove();\n",
       "    }\n",
       "  "
      ],
      "text/plain": [
       "<IPython.core.display.Javascript object>"
      ]
     },
     "metadata": {
      "tags": []
     },
     "output_type": "display_data"
    },
    {
     "data": {
      "application/javascript": [
       "download(\"download_c289eb7d-125d-4ae9-919a-96469ad1797e\", \"es.h5\", 7204712)"
      ],
      "text/plain": [
       "<IPython.core.display.Javascript object>"
      ]
     },
     "metadata": {
      "tags": []
     },
     "output_type": "display_data"
    }
   ],
   "source": [
    "# from google.colab import files\n",
    "# files.download('es.h5')  "
   ]
  },
  {
   "cell_type": "code",
   "execution_count": null,
   "metadata": {
    "colab": {},
    "colab_type": "code",
    "id": "MUUB4IUXt2J-"
   },
   "outputs": [],
   "source": []
  }
 ],
 "metadata": {
  "accelerator": "GPU",
  "colab": {
   "name": "train_straight.ipynb",
   "provenance": []
  },
  "kernelspec": {
   "display_name": "Python 3",
   "language": "python",
   "name": "python3"
  },
  "language_info": {
   "codemirror_mode": {
    "name": "ipython",
    "version": 3
   },
   "file_extension": ".py",
   "mimetype": "text/x-python",
   "name": "python",
   "nbconvert_exporter": "python",
   "pygments_lexer": "ipython3",
   "version": "3.8.2"
  }
 },
 "nbformat": 4,
 "nbformat_minor": 4
}
