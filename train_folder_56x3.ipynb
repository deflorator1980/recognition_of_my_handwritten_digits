{
 "cells": [
  {
   "cell_type": "code",
   "execution_count": null,
   "metadata": {},
   "outputs": [],
   "source": [
    "# from google.colab import drive\n",
    "# drive.mount('/content/gdrive')"
   ]
  },
  {
   "cell_type": "code",
   "execution_count": 1,
   "metadata": {},
   "outputs": [],
   "source": [
    "# ! wget https://www.dropbox.com/s/1dg81oamm10pigm/mnist_png_56x3.tar.bz2?dl=0 -O mnist_png_56x3.tar.bz2\n",
    "# ! tar -jxvf mnist_png_56x3.tar.bz2"
   ]
  },
  {
   "cell_type": "code",
   "execution_count": 2,
   "metadata": {
    "tags": []
   },
   "outputs": [],
   "source": [
    "import tensorflow as tf\n",
    "import numpy as np\n",
    "from keras.utils import np_utils\n",
    "from tensorflow.keras.preprocessing.image import ImageDataGenerator\n",
    "import matplotlib.pyplot as plt"
   ]
  },
  {
   "cell_type": "code",
   "execution_count": 3,
   "metadata": {},
   "outputs": [],
   "source": [
    "EPOCHS=30\n",
    "BATCH_SIZE=200\n",
    "IMG_SIZE=(56,56)\n",
    "IMG_SHAPE = IMG_SIZE + (3,)"
   ]
  },
  {
   "cell_type": "code",
   "execution_count": 4,
   "metadata": {},
   "outputs": [],
   "source": [
    "# train_dir = 'mnist_png_56x3/training'\n",
    "# test_dir = 'mnist_png_56x3/testing'\n",
    "\n",
    "train_dir = '/home/a/datasets/mnist_png_56x3/training'\n",
    "test_dir = '/home/a/datasets/mnist_png_56x3/testing'"
   ]
  },
  {
   "cell_type": "code",
   "execution_count": 5,
   "metadata": {},
   "outputs": [],
   "source": [
    "inputs = tf.keras.Input(shape=IMG_SHAPE)\n",
    "x = tf.keras.layers.Conv2D(32, (3,3))(inputs)\n",
    "x = tf.keras.layers.Activation('relu')(x)\n",
    "x = tf.keras.layers.Conv2D(32, (3,3))(x)\n",
    "x = tf.keras.layers.Activation('relu')(x)\n",
    "x = tf.keras.layers.MaxPool2D(pool_size=(2,2))(x)\n",
    "x = tf.keras.layers.Conv2D(64, (3,3))(x)\n",
    "x = tf.keras.layers.Activation('relu')(x)\n",
    "x = tf.keras.layers.Conv2D(64, (3,3))(x)\n",
    "x = tf.keras.layers.Activation('relu')(x)\n",
    "x = tf.keras.layers.MaxPool2D(pool_size=(2,2))(x)\n",
    "x = tf.keras.layers.Flatten()(x)\n",
    "x = tf.keras.layers.Dense(512)(x)\n",
    "x = tf.keras.layers.Activation('relu')(x)\n",
    "x = tf.keras.layers.Dropout(0.2)(x)\n",
    "x = tf.keras.layers.Dense(10)(x)\n",
    "x = tf.keras.layers.Activation('softmax')(x)"
   ]
  },
  {
   "cell_type": "code",
   "execution_count": 6,
   "metadata": {},
   "outputs": [],
   "source": [
    "model = tf.keras.Model(inputs, x)"
   ]
  },
  {
   "cell_type": "code",
   "execution_count": 7,
   "metadata": {},
   "outputs": [],
   "source": [
    "model.compile(optimizer='adam', loss='categorical_crossentropy', metrics=['accuracy'])"
   ]
  },
  {
   "cell_type": "code",
   "execution_count": 8,
   "metadata": {},
   "outputs": [
    {
     "name": "stdout",
     "output_type": "stream",
     "text": [
      "Model: \"model\"\n",
      "_________________________________________________________________\n",
      "Layer (type)                 Output Shape              Param #   \n",
      "=================================================================\n",
      "input_1 (InputLayer)         [(None, 56, 56, 3)]       0         \n",
      "_________________________________________________________________\n",
      "conv2d (Conv2D)              (None, 54, 54, 32)        896       \n",
      "_________________________________________________________________\n",
      "activation (Activation)      (None, 54, 54, 32)        0         \n",
      "_________________________________________________________________\n",
      "conv2d_1 (Conv2D)            (None, 52, 52, 32)        9248      \n",
      "_________________________________________________________________\n",
      "activation_1 (Activation)    (None, 52, 52, 32)        0         \n",
      "_________________________________________________________________\n",
      "max_pooling2d (MaxPooling2D) (None, 26, 26, 32)        0         \n",
      "_________________________________________________________________\n",
      "conv2d_2 (Conv2D)            (None, 24, 24, 64)        18496     \n",
      "_________________________________________________________________\n",
      "activation_2 (Activation)    (None, 24, 24, 64)        0         \n",
      "_________________________________________________________________\n",
      "conv2d_3 (Conv2D)            (None, 22, 22, 64)        36928     \n",
      "_________________________________________________________________\n",
      "activation_3 (Activation)    (None, 22, 22, 64)        0         \n",
      "_________________________________________________________________\n",
      "max_pooling2d_1 (MaxPooling2 (None, 11, 11, 64)        0         \n",
      "_________________________________________________________________\n",
      "flatten (Flatten)            (None, 7744)              0         \n",
      "_________________________________________________________________\n",
      "dense (Dense)                (None, 512)               3965440   \n",
      "_________________________________________________________________\n",
      "activation_4 (Activation)    (None, 512)               0         \n",
      "_________________________________________________________________\n",
      "dropout (Dropout)            (None, 512)               0         \n",
      "_________________________________________________________________\n",
      "dense_1 (Dense)              (None, 10)                5130      \n",
      "_________________________________________________________________\n",
      "activation_5 (Activation)    (None, 10)                0         \n",
      "=================================================================\n",
      "Total params: 4,036,138\n",
      "Trainable params: 4,036,138\n",
      "Non-trainable params: 0\n",
      "_________________________________________________________________\n"
     ]
    }
   ],
   "source": [
    "model.summary()"
   ]
  },
  {
   "cell_type": "code",
   "execution_count": 9,
   "metadata": {},
   "outputs": [
    {
     "data": {
      "text/plain": [
       "{'name': 'Adam',\n",
       " 'learning_rate': 0.001,\n",
       " 'decay': 0.0,\n",
       " 'beta_1': 0.9,\n",
       " 'beta_2': 0.999,\n",
       " 'epsilon': 1e-07,\n",
       " 'amsgrad': False}"
      ]
     },
     "execution_count": 9,
     "metadata": {},
     "output_type": "execute_result"
    }
   ],
   "source": [
    "model.optimizer.get_config()"
   ]
  },
  {
   "cell_type": "code",
   "execution_count": 10,
   "metadata": {
    "id": "UBkFo7Xqb3L1",
    "tags": []
   },
   "outputs": [],
   "source": [
    "train_gen = ImageDataGenerator(rescale=1./255,\n",
    "                               rotation_range=15,\n",
    "                               width_shift_range=0.2,\n",
    "                               height_shift_range=0.1,\n",
    "                               zoom_range=0.1)"
   ]
  },
  {
   "cell_type": "code",
   "execution_count": 11,
   "metadata": {
    "id": "W9ivXPgab3L5",
    "tags": []
   },
   "outputs": [
    {
     "name": "stdout",
     "output_type": "stream",
     "text": [
      "Found 60000 images belonging to 10 classes.\n",
      "Found 10000 images belonging to 10 classes.\n"
     ]
    }
   ],
   "source": [
    "training_set = train_gen.flow_from_directory(train_dir,\n",
    "                                             target_size=IMG_SIZE,\n",
    "                                             batch_size=BATCH_SIZE,\n",
    "                                             color_mode='rgb')\n",
    "\n",
    "test_set = train_gen.flow_from_directory(test_dir,\n",
    "                                         target_size=IMG_SIZE,\n",
    "                                         batch_size=BATCH_SIZE,\n",
    "                                         color_mode='rgb')"
   ]
  },
  {
   "cell_type": "code",
   "execution_count": 12,
   "metadata": {
    "tags": []
   },
   "outputs": [],
   "source": [
    "es_callback = tf.keras.callbacks.EarlyStopping(monitor='val_loss', # better than val_acc\n",
    "                                               patience=3, \n",
    "                                               mode='auto', # default\n",
    "                                               verbose=1)"
   ]
  },
  {
   "cell_type": "code",
   "execution_count": 13,
   "metadata": {
    "tags": []
   },
   "outputs": [
    {
     "name": "stdout",
     "output_type": "stream",
     "text": [
      "Epoch 1/30\n",
      "300/300 [==============================] - 215s 717ms/step - loss: 0.3103 - accuracy: 0.9011 - val_loss: 0.0869 - val_accuracy: 0.9716\n",
      "Epoch 2/30\n",
      "300/300 [==============================] - 216s 719ms/step - loss: 0.0986 - accuracy: 0.9693 - val_loss: 0.0647 - val_accuracy: 0.9799\n",
      "Epoch 3/30\n",
      "300/300 [==============================] - 194s 648ms/step - loss: 0.0747 - accuracy: 0.9775 - val_loss: 0.0497 - val_accuracy: 0.9834\n",
      "Epoch 4/30\n",
      "300/300 [==============================] - 188s 626ms/step - loss: 0.0627 - accuracy: 0.9808 - val_loss: 0.0546 - val_accuracy: 0.9831\n",
      "Epoch 5/30\n",
      "300/300 [==============================] - 207s 690ms/step - loss: 0.0547 - accuracy: 0.9830 - val_loss: 0.0414 - val_accuracy: 0.9870\n",
      "Epoch 6/30\n",
      "300/300 [==============================] - 229s 762ms/step - loss: 0.0490 - accuracy: 0.9846 - val_loss: 0.0348 - val_accuracy: 0.9889\n",
      "Epoch 7/30\n",
      "300/300 [==============================] - 207s 689ms/step - loss: 0.0447 - accuracy: 0.9863 - val_loss: 0.0367 - val_accuracy: 0.9875\n",
      "Epoch 8/30\n",
      "300/300 [==============================] - 212s 705ms/step - loss: 0.0422 - accuracy: 0.9876 - val_loss: 0.0383 - val_accuracy: 0.9869\n",
      "Epoch 9/30\n",
      "300/300 [==============================] - 216s 720ms/step - loss: 0.0398 - accuracy: 0.9880 - val_loss: 0.0291 - val_accuracy: 0.9901\n",
      "Epoch 10/30\n",
      "300/300 [==============================] - 197s 656ms/step - loss: 0.0382 - accuracy: 0.9880 - val_loss: 0.0279 - val_accuracy: 0.9906\n",
      "Epoch 11/30\n",
      "300/300 [==============================] - 193s 641ms/step - loss: 0.0338 - accuracy: 0.9895 - val_loss: 0.0330 - val_accuracy: 0.9891\n",
      "Epoch 12/30\n",
      "300/300 [==============================] - 191s 638ms/step - loss: 0.0338 - accuracy: 0.9896 - val_loss: 0.0282 - val_accuracy: 0.9907\n",
      "Epoch 13/30\n",
      "300/300 [==============================] - 191s 635ms/step - loss: 0.0343 - accuracy: 0.9892 - val_loss: 0.0313 - val_accuracy: 0.9893\n",
      "Epoch 00013: early stopping\n"
     ]
    }
   ],
   "source": [
    "history = model.fit(training_set,\n",
    "                    validation_data=test_set,\n",
    "                    epochs=EPOCHS,\n",
    "                    callbacks=[es_callback])"
   ]
  },
  {
   "cell_type": "code",
   "execution_count": 14,
   "metadata": {},
   "outputs": [
    {
     "data": {
      "image/png": "[encoded data removed]",
      "text/plain": [
       "<Figure size 432x288 with 1 Axes>"
      ]
     },
     "metadata": {
      "needs_background": "light"
     },
     "output_type": "display_data"
    }
   ],
   "source": [
    "plt.plot(history.history['accuracy'],\n",
    "         label='accuracy')\n",
    "plt.plot(history.history['val_accuracy'],\n",
    "         label='val_accuracy')\n",
    "plt.xlabel('epoch')\n",
    "plt.ylabel('correct responses %')\n",
    "plt.legend()\n",
    "plt.show()"
   ]
  },
  {
   "cell_type": "code",
   "execution_count": 15,
   "metadata": {},
   "outputs": [
    {
     "data": {
      "image/png": "[encoded data removed]",
      "text/plain": [
       "<Figure size 432x288 with 1 Axes>"
      ]
     },
     "metadata": {
      "needs_background": "light"
     },
     "output_type": "display_data"
    }
   ],
   "source": [
    "plt.plot(history.history['loss'],\n",
    "         label='loss')\n",
    "plt.plot(history.history['val_loss'],\n",
    "         label='val_loss')\n",
    "plt.xlabel('epoch')\n",
    "plt.ylabel('loss')\n",
    "plt.legend()\n",
    "plt.show()"
   ]
  },
  {
   "cell_type": "code",
   "execution_count": 16,
   "metadata": {
    "tags": []
   },
   "outputs": [],
   "source": [
    "model.save('es_func_folder_56x3.h5')"
   ]
  },
  {
   "cell_type": "code",
   "execution_count": null,
   "metadata": {},
   "outputs": [],
   "source": [
    "# ! cp finetune_mnist_56x3_mobilenetv3-2.h5 /content/gdrive/My\\ Drive/"
   ]
  }
 ],
 "metadata": {
  "kernelspec": {
   "display_name": "Python 3",
   "language": "python",
   "name": "python3"
  },
  "language_info": {
   "codemirror_mode": {
    "name": "ipython",
    "version": 3
   },
   "file_extension": ".py",
   "mimetype": "text/x-python",
   "name": "python",
   "nbconvert_exporter": "python",
   "pygments_lexer": "ipython3",
   "version": "3.9.6"
  }
 },
 "nbformat": 4,
 "nbformat_minor": 4
}
