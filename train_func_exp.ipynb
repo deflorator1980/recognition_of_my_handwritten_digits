{
 "cells": [
  {
   "cell_type": "code",
   "execution_count": 1,
   "id": "6c622dbf-50be-4b05-8e49-1a2198c22b45",
   "metadata": {
    "id": "6c622dbf-50be-4b05-8e49-1a2198c22b45"
   },
   "outputs": [],
   "source": [
    "# ! wget https://www.dropbox.com/s/7mcxjmxt1wfzybt/mnist_png.tar.bz2?dl=0 -O mnist_png.tar.bz\n",
    "# ! tar -jxvf mnist_png.tar.bz    "
   ]
  },
  {
   "cell_type": "code",
   "execution_count": 2,
   "id": "35ccd601-901b-4195-a6ce-6f30caadf0e0",
   "metadata": {
    "id": "35ccd601-901b-4195-a6ce-6f30caadf0e0",
    "tags": []
   },
   "outputs": [],
   "source": [
    "import tensorflow as tf\n",
    "import numpy as np\n",
    "from keras.utils import np_utils\n",
    "from tensorflow.keras.preprocessing.image import ImageDataGenerator\n",
    "import matplotlib.pyplot as plt"
   ]
  },
  {
   "cell_type": "code",
   "execution_count": 3,
   "id": "031ad675-10f1-40da-bcd9-a78d0fd69e21",
   "metadata": {
    "id": "031ad675-10f1-40da-bcd9-a78d0fd69e21"
   },
   "outputs": [],
   "source": [
    "data_augmentation = tf.keras.Sequential([\n",
    "    tf.keras.layers.experimental.preprocessing.RandomRotation(0.04, interpolation='bilinear', seed=42), # 15°  2pi * 0.04 -> rad\n",
    "    tf.keras.layers.experimental.preprocessing.RandomTranslation(height_factor=0.1,  # %\n",
    "                                                                 width_factor=0.2,\n",
    "                                                                 interpolation='nearest'),\n",
    "    tf.keras.layers.experimental.preprocessing.RandomZoom(height_factor=0.1,\n",
    "                                                          width_factor=0.1,\n",
    "                                                          interpolation='nearest')\n",
    "])"
   ]
  },
  {
   "cell_type": "code",
   "execution_count": 4,
   "id": "2aab42f1-bf8f-414a-8683-2e3563a7c395",
   "metadata": {
    "id": "2aab42f1-bf8f-414a-8683-2e3563a7c395",
    "tags": []
   },
   "outputs": [],
   "source": [
    "inputs = tf.keras.Input(shape=(28,28,3)) \n",
    "x = data_augmentation(inputs)\n",
    "x = tf.keras.layers.Conv2D(32, (3,3))(x)\n",
    "x = tf.keras.layers.Activation('relu')(x)\n",
    "x = tf.keras.layers.Conv2D(32, (3,3))(x)\n",
    "x = tf.keras.layers.Activation('relu')(x)\n",
    "x = tf.keras.layers.MaxPool2D(pool_size=(2,2))(x)\n",
    "x = tf.keras.layers.Conv2D(64, (3,3))(x)\n",
    "x = tf.keras.layers.Activation('relu')(x)\n",
    "x = tf.keras.layers.Conv2D(64, (3,3))(x)\n",
    "x = tf.keras.layers.Activation('relu')(x)\n",
    "x = tf.keras.layers.MaxPool2D(pool_size=(2,2))(x)\n",
    "x = tf.keras.layers.Flatten()(x)\n",
    "x = tf.keras.layers.Dense(512)(x)\n",
    "x = tf.keras.layers.Activation('relu')(x)\n",
    "x = tf.keras.layers.Dropout(0.2)(x)\n",
    "x = tf.keras.layers.Dense(10)(x)\n",
    "x = tf.keras.layers.Activation('softmax')(x)\n",
    "model = tf.keras.Model(inputs, x)"
   ]
  },
  {
   "cell_type": "code",
   "execution_count": 5,
   "id": "e8573406-b81b-433b-ad47-d360fb31351a",
   "metadata": {
    "id": "e8573406-b81b-433b-ad47-d360fb31351a",
    "tags": []
   },
   "outputs": [],
   "source": [
    "# model.summary()"
   ]
  },
  {
   "cell_type": "code",
   "execution_count": 6,
   "id": "fcfbd243-5c4e-47aa-9fb4-9f2755ea3b93",
   "metadata": {
    "id": "fcfbd243-5c4e-47aa-9fb4-9f2755ea3b93"
   },
   "outputs": [],
   "source": [
    "# error on .fit()\n",
    "# model.compile(optimizer='adam', loss='categorical_crossentropy', metrics=['accuracy'])"
   ]
  },
  {
   "cell_type": "code",
   "execution_count": 7,
   "id": "76faff97-08d1-4cab-9833-6369077f685d",
   "metadata": {
    "id": "76faff97-08d1-4cab-9833-6369077f685d"
   },
   "outputs": [],
   "source": [
    "model.compile(optimizer=tf.keras.optimizers.Adam(learning_rate=0.001),\n",
    "#               warning\n",
    "#               loss=tf.keras.losses.SparseCategoricalCrossentropy(from_logits=True),\n",
    "              loss=tf.keras.losses.SparseCategoricalCrossentropy(),\n",
    "              metrics=['accuracy'])"
   ]
  },
  {
   "cell_type": "code",
   "execution_count": 8,
   "id": "8ccc491e-f65d-4a11-bc58-d100db8336d0",
   "metadata": {
    "colab": {
     "base_uri": "https://localhost:8080/"
    },
    "id": "8ccc491e-f65d-4a11-bc58-d100db8336d0",
    "outputId": "bcc8ab24-4d62-4c49-e406-ba37093547d7"
   },
   "outputs": [
    {
     "data": {
      "text/plain": [
       "{'amsgrad': False,\n",
       " 'beta_1': 0.9,\n",
       " 'beta_2': 0.999,\n",
       " 'decay': 0.0,\n",
       " 'epsilon': 1e-07,\n",
       " 'learning_rate': 0.001,\n",
       " 'name': 'Adam'}"
      ]
     },
     "execution_count": 8,
     "metadata": {
      "tags": []
     },
     "output_type": "execute_result"
    }
   ],
   "source": [
    "model.optimizer.get_config()"
   ]
  },
  {
   "cell_type": "code",
   "execution_count": 9,
   "id": "2ec18481-b16e-4742-a35f-5c96de76cdbd",
   "metadata": {
    "id": "2ec18481-b16e-4742-a35f-5c96de76cdbd"
   },
   "outputs": [],
   "source": [
    "train_dir = 'mnist_png/training/'\n",
    "validation_dir = 'mnist_png/testing/'\n",
    "# train_dir = 'mnist_png/training/'\n",
    "# validation_dir = 'mnist_png/testing/'"
   ]
  },
  {
   "cell_type": "code",
   "execution_count": 10,
   "id": "604da9e0-1f72-4857-b06f-16e5d3914f59",
   "metadata": {
    "id": "604da9e0-1f72-4857-b06f-16e5d3914f59"
   },
   "outputs": [],
   "source": [
    "BATCH_SIZE = 32\n",
    "IMG_SIZE = (28, 28)"
   ]
  },
  {
   "cell_type": "code",
   "execution_count": 11,
   "id": "ab54932b-e3ca-420a-ae8b-be045bb8d221",
   "metadata": {
    "colab": {
     "base_uri": "https://localhost:8080/"
    },
    "id": "ab54932b-e3ca-420a-ae8b-be045bb8d221",
    "outputId": "d0b7180f-2f0f-4d5d-c793-dbaad488442f"
   },
   "outputs": [
    {
     "name": "stdout",
     "output_type": "stream",
     "text": [
      "Found 60000 files belonging to 10 classes.\n"
     ]
    }
   ],
   "source": [
    "train_dataset = tf.keras.preprocessing.image_dataset_from_directory(train_dir,\n",
    "                                                                    shuffle=True,\n",
    "                                                                    batch_size=BATCH_SIZE,\n",
    "                                                                    image_size=IMG_SIZE)"
   ]
  },
  {
   "cell_type": "code",
   "execution_count": 12,
   "id": "a72452cc-710a-47b4-b1d8-423f38d5e82c",
   "metadata": {
    "colab": {
     "base_uri": "https://localhost:8080/"
    },
    "id": "a72452cc-710a-47b4-b1d8-423f38d5e82c",
    "outputId": "929b8c18-3baf-4cf1-b577-8854a91a6a30"
   },
   "outputs": [
    {
     "name": "stdout",
     "output_type": "stream",
     "text": [
      "Found 10000 files belonging to 10 classes.\n"
     ]
    }
   ],
   "source": [
    "validation_dataset = tf.keras.preprocessing.image_dataset_from_directory(validation_dir,\n",
    "                                                                         shuffle=True,\n",
    "                                                                         batch_size=BATCH_SIZE,\n",
    "                                                                         image_size=IMG_SIZE)"
   ]
  },
  {
   "cell_type": "code",
   "execution_count": 13,
   "id": "d0f3b14e-d1a5-4024-ac68-68b90fe5b601",
   "metadata": {
    "id": "d0f3b14e-d1a5-4024-ac68-68b90fe5b601"
   },
   "outputs": [],
   "source": [
    "es_callback = tf.keras.callbacks.EarlyStopping(monitor='val_loss', # better than val_acc\n",
    "                                               patience=3, \n",
    "                                               verbose=2)"
   ]
  },
  {
   "cell_type": "code",
   "execution_count": 14,
   "id": "930f64e9-bd6c-4a92-b42b-96a5a0063c91",
   "metadata": {
    "id": "930f64e9-bd6c-4a92-b42b-96a5a0063c91"
   },
   "outputs": [],
   "source": [
    "class_names = train_dataset.class_names"
   ]
  },
  {
   "cell_type": "code",
   "execution_count": 15,
   "id": "e132f538-7a44-46af-ac81-0d942a6a1c28",
   "metadata": {
    "colab": {
     "base_uri": "https://localhost:8080/",
     "height": 802
    },
    "id": "e132f538-7a44-46af-ac81-0d942a6a1c28",
    "outputId": "7059ca43-6322-49f0-a848-066ae7f459b3"
   },
   "outputs": [
    {
     "data": {
      "image/png": "[encoded data removed]",
      "text/plain": [
       "<Figure size 288x216 with 1 Axes>"
      ]
     },
     "metadata": {
      "needs_background": "light",
      "tags": []
     },
     "output_type": "display_data"
    },
    {
     "data": {
      "image/png": "[encoded data removed]",
      "text/plain": [
       "<Figure size 720x720 with 9 Axes>"
      ]
     },
     "metadata": {
      "needs_background": "light",
      "tags": []
     },
     "output_type": "display_data"
    }
   ],
   "source": [
    "for image, labs in train_dataset.take(1): # image.shape=32\n",
    "    first_img = image[0]\n",
    "    plt.figure(figsize=(4,3))\n",
    "    plt.imshow(first_img / 255)\n",
    "    plt.figure(figsize=(10,10))\n",
    "    for i in range(9):\n",
    "        plt.subplot(3, 3, i + 1)\n",
    "        augm_img = data_augmentation(np.expand_dims(first_img, 0))\n",
    "        plt.imshow(augm_img[0] / 255)\n",
    "        plt.title(class_names[labs[0]])"
   ]
  },
  {
   "cell_type": "code",
   "execution_count": 16,
   "id": "ca38810d-4d7c-48e7-9439-9916a093836d",
   "metadata": {
    "colab": {
     "base_uri": "https://localhost:8080/"
    },
    "id": "ca38810d-4d7c-48e7-9439-9916a093836d",
    "outputId": "e845ae4e-136e-4c54-9f14-0c849c78a1ed"
   },
   "outputs": [
    {
     "data": {
      "text/plain": [
       "313"
      ]
     },
     "execution_count": 16,
     "metadata": {
      "tags": []
     },
     "output_type": "execute_result"
    }
   ],
   "source": [
    "len(validation_dataset)"
   ]
  },
  {
   "cell_type": "code",
   "execution_count": 17,
   "id": "35c43a22-a50a-4d26-b0af-5a6b3e8cecb6",
   "metadata": {
    "colab": {
     "base_uri": "https://localhost:8080/"
    },
    "id": "35c43a22-a50a-4d26-b0af-5a6b3e8cecb6",
    "outputId": "15a9fec8-84e8-4631-f977-88ca38d842e7"
   },
   "outputs": [
    {
     "name": "stdout",
     "output_type": "stream",
     "text": [
      "Epoch 1/60\n",
      "1875/1875 [==============================] - 29s 14ms/step - loss: 0.3672 - accuracy: 0.8990 - val_loss: 0.0843 - val_accuracy: 0.9731\n",
      "Epoch 2/60\n",
      "1875/1875 [==============================] - 25s 13ms/step - loss: 0.1197 - accuracy: 0.9641 - val_loss: 0.0382 - val_accuracy: 0.9886\n",
      "Epoch 3/60\n",
      "1875/1875 [==============================] - 26s 14ms/step - loss: 0.1029 - accuracy: 0.9700 - val_loss: 0.0410 - val_accuracy: 0.9881\n",
      "Epoch 4/60\n",
      "1875/1875 [==============================] - 25s 13ms/step - loss: 0.0955 - accuracy: 0.9724 - val_loss: 0.0504 - val_accuracy: 0.9858\n",
      "Epoch 5/60\n",
      "1875/1875 [==============================] - 26s 14ms/step - loss: 0.0863 - accuracy: 0.9744 - val_loss: 0.0433 - val_accuracy: 0.9868\n",
      "Epoch 00005: early stopping\n"
     ]
    }
   ],
   "source": [
    "history = model.fit(train_dataset,\n",
    "                 epochs=60,\n",
    "                 validation_data=validation_dataset,\n",
    "                 callbacks=[es_callback])    "
   ]
  },
  {
   "cell_type": "code",
   "execution_count": 18,
   "id": "53dc4745-7aff-4fec-bf87-af70cb7d00f9",
   "metadata": {
    "colab": {
     "base_uri": "https://localhost:8080/",
     "height": 279
    },
    "id": "53dc4745-7aff-4fec-bf87-af70cb7d00f9",
    "outputId": "83e5cfb2-3ffe-47fc-b82f-56ca5ca61206"
   },
   "outputs": [
    {
     "data": {
      "image/png": "[encoded data removed]",
      "text/plain": [
       "<Figure size 432x288 with 1 Axes>"
      ]
     },
     "metadata": {
      "needs_background": "light",
      "tags": []
     },
     "output_type": "display_data"
    }
   ],
   "source": [
    "plt.plot(history.history['accuracy'],\n",
    "         label='accuracy')\n",
    "plt.plot(history.history['val_accuracy'],\n",
    "         label='val_accuracy')\n",
    "plt.xlabel('epoch')\n",
    "plt.ylabel('correct responses %')\n",
    "plt.legend()\n",
    "plt.show()"
   ]
  },
  {
   "cell_type": "code",
   "execution_count": 19,
   "id": "4c12f272-f3dd-4b23-b08c-4d556718bae6",
   "metadata": {
    "colab": {
     "base_uri": "https://localhost:8080/",
     "height": 279
    },
    "id": "4c12f272-f3dd-4b23-b08c-4d556718bae6",
    "outputId": "8f48e512-0819-40e0-8f2f-bfd1ed6f7f90"
   },
   "outputs": [
    {
     "data": {
      "image/png": "[encoded data removed]",
      "text/plain": [
       "<Figure size 432x288 with 1 Axes>"
      ]
     },
     "metadata": {
      "needs_background": "light",
      "tags": []
     },
     "output_type": "display_data"
    }
   ],
   "source": [
    "plt.plot(history.history['loss'],\n",
    "         label='loss')\n",
    "plt.plot(history.history['val_loss'],\n",
    "         label='val_loss')\n",
    "plt.xlabel('epoch')\n",
    "plt.ylabel('loss')\n",
    "plt.legend()\n",
    "plt.show()"
   ]
  },
  {
   "cell_type": "code",
   "execution_count": 20,
   "id": "719310ce-5fb6-4224-b248-6ea4beea8510",
   "metadata": {
    "id": "719310ce-5fb6-4224-b248-6ea4beea8510"
   },
   "outputs": [],
   "source": [
    "model.save('es_func_exp.h5')"
   ]
  }
 ],
 "metadata": {
  "accelerator": "GPU",
  "colab": {
   "collapsed_sections": [],
   "name": "train_func_exp.ipynb",
   "provenance": []
  },
  "kernelspec": {
   "display_name": "Python 3",
   "language": "python",
   "name": "python3"
  },
  "language_info": {
   "codemirror_mode": {
    "name": "ipython",
    "version": 3
   },
   "file_extension": ".py",
   "mimetype": "text/x-python",
   "name": "python",
   "nbconvert_exporter": "python",
   "pygments_lexer": "ipython3",
   "version": "3.9.6"
  }
 },
 "nbformat": 4,
 "nbformat_minor": 5
}
