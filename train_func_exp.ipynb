{
 "cells": [
  {
   "cell_type": "code",
   "execution_count": 1,
   "metadata": {
    "id": "6c622dbf-50be-4b05-8e49-1a2198c22b45"
   },
   "outputs": [],
   "source": [
    "# ! wget https://www.dropbox.com/s/7mcxjmxt1wfzybt/mnist_png.tar.bz2?dl=0 -O mnist_png.tar.bz\n",
    "# ! tar -jxvf mnist_png.tar.bz    "
   ]
  },
  {
   "cell_type": "code",
   "execution_count": 2,
   "metadata": {
    "id": "35ccd601-901b-4195-a6ce-6f30caadf0e0",
    "tags": []
   },
   "outputs": [],
   "source": [
    "import tensorflow as tf\n",
    "import numpy as np\n",
    "from keras.utils import np_utils\n",
    "from tensorflow.keras.preprocessing.image import ImageDataGenerator\n",
    "import matplotlib.pyplot as plt"
   ]
  },
  {
   "cell_type": "code",
   "execution_count": 3,
   "metadata": {
    "id": "031ad675-10f1-40da-bcd9-a78d0fd69e21"
   },
   "outputs": [],
   "source": [
    "data_augmentation = tf.keras.Sequential([\n",
    "    tf.keras.layers.experimental.preprocessing.RandomRotation(0.04, interpolation='bilinear', seed=42), # 15°  2pi * 0.04 -> rad\n",
    "    tf.keras.layers.experimental.preprocessing.RandomTranslation(height_factor=0.1,  # %\n",
    "                                                                 width_factor=0.2,\n",
    "                                                                 interpolation='nearest'),\n",
    "    tf.keras.layers.experimental.preprocessing.RandomZoom(height_factor=0.1,\n",
    "                                                          width_factor=0.1,\n",
    "                                                          interpolation='nearest')\n",
    "])"
   ]
  },
  {
   "cell_type": "code",
   "execution_count": 4,
   "metadata": {
    "id": "2aab42f1-bf8f-414a-8683-2e3563a7c395",
    "tags": []
   },
   "outputs": [],
   "source": [
    "inputs = tf.keras.Input(shape=(28,28,3)) \n",
    "x = data_augmentation(inputs)\n",
    "x = tf.keras.layers.Conv2D(32, (3,3))(x)\n",
    "x = tf.keras.layers.Activation('relu')(x)\n",
    "x = tf.keras.layers.Conv2D(32, (3,3))(x)\n",
    "x = tf.keras.layers.Activation('relu')(x)\n",
    "x = tf.keras.layers.MaxPool2D(pool_size=(2,2))(x)\n",
    "x = tf.keras.layers.Conv2D(64, (3,3))(x)\n",
    "x = tf.keras.layers.Activation('relu')(x)\n",
    "x = tf.keras.layers.Conv2D(64, (3,3))(x)\n",
    "x = tf.keras.layers.Activation('relu')(x)\n",
    "x = tf.keras.layers.MaxPool2D(pool_size=(2,2))(x)\n",
    "x = tf.keras.layers.Flatten()(x)\n",
    "x = tf.keras.layers.Dense(512)(x)\n",
    "x = tf.keras.layers.Activation('relu')(x)\n",
    "x = tf.keras.layers.Dropout(0.2)(x)\n",
    "x = tf.keras.layers.Dense(10)(x)\n",
    "x = tf.keras.layers.Activation('softmax')(x)\n",
    "model = tf.keras.Model(inputs, x)"
   ]
  },
  {
   "cell_type": "code",
   "execution_count": 5,
   "metadata": {
    "id": "e8573406-b81b-433b-ad47-d360fb31351a",
    "tags": []
   },
   "outputs": [
    {
     "name": "stdout",
     "output_type": "stream",
     "text": [
      "Model: \"model\"\n",
      "_________________________________________________________________\n",
      "Layer (type)                 Output Shape              Param #   \n",
      "=================================================================\n",
      "input_1 (InputLayer)         [(None, 28, 28, 3)]       0         \n",
      "_________________________________________________________________\n",
      "sequential (Sequential)      (None, 28, 28, 3)         0         \n",
      "_________________________________________________________________\n",
      "conv2d (Conv2D)              (None, 26, 26, 32)        896       \n",
      "_________________________________________________________________\n",
      "activation (Activation)      (None, 26, 26, 32)        0         \n",
      "_________________________________________________________________\n",
      "conv2d_1 (Conv2D)            (None, 24, 24, 32)        9248      \n",
      "_________________________________________________________________\n",
      "activation_1 (Activation)    (None, 24, 24, 32)        0         \n",
      "_________________________________________________________________\n",
      "max_pooling2d (MaxPooling2D) (None, 12, 12, 32)        0         \n",
      "_________________________________________________________________\n",
      "conv2d_2 (Conv2D)            (None, 10, 10, 64)        18496     \n",
      "_________________________________________________________________\n",
      "activation_2 (Activation)    (None, 10, 10, 64)        0         \n",
      "_________________________________________________________________\n",
      "conv2d_3 (Conv2D)            (None, 8, 8, 64)          36928     \n",
      "_________________________________________________________________\n",
      "activation_3 (Activation)    (None, 8, 8, 64)          0         \n",
      "_________________________________________________________________\n",
      "max_pooling2d_1 (MaxPooling2 (None, 4, 4, 64)          0         \n",
      "_________________________________________________________________\n",
      "flatten (Flatten)            (None, 1024)              0         \n",
      "_________________________________________________________________\n",
      "dense (Dense)                (None, 512)               524800    \n",
      "_________________________________________________________________\n",
      "activation_4 (Activation)    (None, 512)               0         \n",
      "_________________________________________________________________\n",
      "dropout (Dropout)            (None, 512)               0         \n",
      "_________________________________________________________________\n",
      "dense_1 (Dense)              (None, 10)                5130      \n",
      "_________________________________________________________________\n",
      "activation_5 (Activation)    (None, 10)                0         \n",
      "=================================================================\n",
      "Total params: 595,498\n",
      "Trainable params: 595,498\n",
      "Non-trainable params: 0\n",
      "_________________________________________________________________\n"
     ]
    }
   ],
   "source": [
    "model.summary()"
   ]
  },
  {
   "cell_type": "code",
   "execution_count": 6,
   "metadata": {
    "execution": {
     "iopub.execute_input": "2021-07-28T15:29:54.309944Z",
     "iopub.status.busy": "2021-07-28T15:29:54.309414Z",
     "iopub.status.idle": "2021-07-28T15:29:54.317324Z",
     "shell.execute_reply": "2021-07-28T15:29:54.316458Z",
     "shell.execute_reply.started": "2021-07-28T15:29:54.309908Z"
    },
    "id": "fcfbd243-5c4e-47aa-9fb4-9f2755ea3b93"
   },
   "outputs": [],
   "source": [
    "# the same\n",
    "# model.compile(optimizer='adam', loss='sparse_categorical_crossentropy', metrics=['accuracy'])"
   ]
  },
  {
   "cell_type": "code",
   "execution_count": 7,
   "metadata": {
    "execution": {
     "iopub.execute_input": "2021-07-28T15:29:54.318756Z",
     "iopub.status.busy": "2021-07-28T15:29:54.318476Z",
     "iopub.status.idle": "2021-07-28T15:29:54.336813Z",
     "shell.execute_reply": "2021-07-28T15:29:54.336021Z",
     "shell.execute_reply.started": "2021-07-28T15:29:54.318729Z"
    },
    "id": "76faff97-08d1-4cab-9833-6369077f685d"
   },
   "outputs": [],
   "source": [
    "model.compile(optimizer=tf.keras.optimizers.Adam(learning_rate=0.001),  # good enaugh\n",
    "#               warning\n",
    "#               loss=tf.keras.losses.SparseCategoricalCrossentropy(from_logits=True),\n",
    "              loss=tf.keras.losses.SparseCategoricalCrossentropy(),\n",
    "              metrics=['accuracy'])"
   ]
  },
  {
   "cell_type": "code",
   "execution_count": 8,
   "metadata": {
    "execution": {
     "iopub.execute_input": "2021-07-28T15:29:54.341969Z",
     "iopub.status.busy": "2021-07-28T15:29:54.341705Z",
     "iopub.status.idle": "2021-07-28T15:29:54.352303Z",
     "shell.execute_reply": "2021-07-28T15:29:54.351341Z",
     "shell.execute_reply.started": "2021-07-28T15:29:54.341945Z"
    },
    "id": "8ccc491e-f65d-4a11-bc58-d100db8336d0",
    "outputId": "bcc8ab24-4d62-4c49-e406-ba37093547d7"
   },
   "outputs": [
    {
     "data": {
      "text/plain": [
       "{'name': 'Adam',\n",
       " 'learning_rate': 0.001,\n",
       " 'decay': 0.0,\n",
       " 'beta_1': 0.9,\n",
       " 'beta_2': 0.999,\n",
       " 'epsilon': 1e-07,\n",
       " 'amsgrad': False}"
      ]
     },
     "execution_count": 8,
     "metadata": {},
     "output_type": "execute_result"
    }
   ],
   "source": [
    "model.optimizer.get_config()"
   ]
  },
  {
   "cell_type": "code",
   "execution_count": 9,
   "metadata": {
    "execution": {
     "iopub.execute_input": "2021-07-28T15:29:54.354669Z",
     "iopub.status.busy": "2021-07-28T15:29:54.354255Z",
     "iopub.status.idle": "2021-07-28T15:29:54.361027Z",
     "shell.execute_reply": "2021-07-28T15:29:54.359677Z",
     "shell.execute_reply.started": "2021-07-28T15:29:54.354640Z"
    },
    "id": "2ec18481-b16e-4742-a35f-5c96de76cdbd"
   },
   "outputs": [],
   "source": [
    "train_dir = 'mnist_png/training/'\n",
    "validation_dir = 'mnist_png/testing/'\n",
    "# train_dir = 'mnist_png/training/'\n",
    "# validation_dir = 'mnist_png/testing/'"
   ]
  },
  {
   "cell_type": "code",
   "execution_count": 10,
   "metadata": {
    "execution": {
     "iopub.execute_input": "2021-07-28T15:29:54.363553Z",
     "iopub.status.busy": "2021-07-28T15:29:54.363050Z",
     "iopub.status.idle": "2021-07-28T15:29:54.369108Z",
     "shell.execute_reply": "2021-07-28T15:29:54.367764Z",
     "shell.execute_reply.started": "2021-07-28T15:29:54.363513Z"
    },
    "id": "604da9e0-1f72-4857-b06f-16e5d3914f59"
   },
   "outputs": [],
   "source": [
    "BATCH_SIZE = 200\n",
    "IMG_SIZE = (28, 28)"
   ]
  },
  {
   "cell_type": "code",
   "execution_count": 11,
   "metadata": {
    "execution": {
     "iopub.execute_input": "2021-07-28T15:29:54.371460Z",
     "iopub.status.busy": "2021-07-28T15:29:54.370874Z",
     "iopub.status.idle": "2021-07-28T15:29:57.937520Z",
     "shell.execute_reply": "2021-07-28T15:29:57.936570Z",
     "shell.execute_reply.started": "2021-07-28T15:29:54.371406Z"
    },
    "id": "ab54932b-e3ca-420a-ae8b-be045bb8d221",
    "outputId": "d0b7180f-2f0f-4d5d-c793-dbaad488442f"
   },
   "outputs": [
    {
     "name": "stdout",
     "output_type": "stream",
     "text": [
      "Found 60000 files belonging to 10 classes.\n"
     ]
    }
   ],
   "source": [
    "train_dataset = tf.keras.preprocessing.image_dataset_from_directory(train_dir,\n",
    "                                                                    shuffle=True,\n",
    "                                                                    batch_size=BATCH_SIZE,\n",
    "                                                                    image_size=IMG_SIZE)"
   ]
  },
  {
   "cell_type": "code",
   "execution_count": 12,
   "metadata": {
    "execution": {
     "iopub.execute_input": "2021-07-28T15:29:57.941254Z",
     "iopub.status.busy": "2021-07-28T15:29:57.940954Z",
     "iopub.status.idle": "2021-07-28T15:29:58.623181Z",
     "shell.execute_reply": "2021-07-28T15:29:58.622389Z",
     "shell.execute_reply.started": "2021-07-28T15:29:57.941225Z"
    },
    "id": "a72452cc-710a-47b4-b1d8-423f38d5e82c",
    "outputId": "929b8c18-3baf-4cf1-b577-8854a91a6a30"
   },
   "outputs": [
    {
     "name": "stdout",
     "output_type": "stream",
     "text": [
      "Found 10000 files belonging to 10 classes.\n"
     ]
    }
   ],
   "source": [
    "validation_dataset = tf.keras.preprocessing.image_dataset_from_directory(validation_dir,\n",
    "                                                                         shuffle=True,\n",
    "                                                                         batch_size=BATCH_SIZE,\n",
    "                                                                         image_size=IMG_SIZE)"
   ]
  },
  {
   "cell_type": "code",
   "execution_count": 13,
   "metadata": {
    "execution": {
     "iopub.execute_input": "2021-07-28T15:29:58.624937Z",
     "iopub.status.busy": "2021-07-28T15:29:58.624604Z",
     "iopub.status.idle": "2021-07-28T15:29:58.628964Z",
     "shell.execute_reply": "2021-07-28T15:29:58.628162Z",
     "shell.execute_reply.started": "2021-07-28T15:29:58.624899Z"
    },
    "id": "d0f3b14e-d1a5-4024-ac68-68b90fe5b601"
   },
   "outputs": [],
   "source": [
    "es_callback = tf.keras.callbacks.EarlyStopping(monitor='val_loss', # better than val_acc\n",
    "                                               patience=3, \n",
    "                                               verbose=2)"
   ]
  },
  {
   "cell_type": "code",
   "execution_count": 14,
   "metadata": {
    "execution": {
     "iopub.execute_input": "2021-07-28T15:29:58.631055Z",
     "iopub.status.busy": "2021-07-28T15:29:58.630494Z",
     "iopub.status.idle": "2021-07-28T15:29:58.646334Z",
     "shell.execute_reply": "2021-07-28T15:29:58.645522Z",
     "shell.execute_reply.started": "2021-07-28T15:29:58.631018Z"
    }
   },
   "outputs": [
    {
     "data": {
      "text/plain": [
       "300"
      ]
     },
     "execution_count": 14,
     "metadata": {},
     "output_type": "execute_result"
    }
   ],
   "source": [
    "len(train_dataset)"
   ]
  },
  {
   "cell_type": "code",
   "execution_count": 15,
   "metadata": {
    "execution": {
     "iopub.execute_input": "2021-07-28T15:29:58.648105Z",
     "iopub.status.busy": "2021-07-28T15:29:58.647620Z",
     "iopub.status.idle": "2021-07-28T15:29:58.653167Z",
     "shell.execute_reply": "2021-07-28T15:29:58.652050Z",
     "shell.execute_reply.started": "2021-07-28T15:29:58.648070Z"
    },
    "id": "930f64e9-bd6c-4a92-b42b-96a5a0063c91"
   },
   "outputs": [],
   "source": [
    "class_names = train_dataset.class_names"
   ]
  },
  {
   "cell_type": "code",
   "execution_count": 16,
   "metadata": {
    "execution": {
     "iopub.execute_input": "2021-07-28T15:29:58.655261Z",
     "iopub.status.busy": "2021-07-28T15:29:58.654831Z",
     "iopub.status.idle": "2021-07-28T15:30:00.510363Z",
     "shell.execute_reply": "2021-07-28T15:30:00.509488Z",
     "shell.execute_reply.started": "2021-07-28T15:29:58.655216Z"
    },
    "id": "e132f538-7a44-46af-ac81-0d942a6a1c28",
    "outputId": "7059ca43-6322-49f0-a848-066ae7f459b3"
   },
   "outputs": [
    {
     "data": {
      "image/png": "[encoded data removed]",
      "text/plain": [
       "<Figure size 288x216 with 1 Axes>"
      ]
     },
     "metadata": {
      "needs_background": "light"
     },
     "output_type": "display_data"
    },
    {
     "data": {
      "image/png": "[encoded data removed]",
      "text/plain": [
       "<Figure size 720x720 with 9 Axes>"
      ]
     },
     "metadata": {
      "needs_background": "light"
     },
     "output_type": "display_data"
    }
   ],
   "source": [
    "for image, labs in train_dataset.take(1): # image.shape=32\n",
    "    first_img = image[0]\n",
    "    plt.figure(figsize=(4,3))\n",
    "    plt.imshow(first_img / 255)\n",
    "    plt.figure(figsize=(10,10))\n",
    "    for i in range(9):\n",
    "        plt.subplot(3, 3, i + 1)\n",
    "        augm_img = data_augmentation(np.expand_dims(first_img, 0))\n",
    "        plt.imshow(augm_img[0] / 255)\n",
    "        plt.title(class_names[labs[0]])"
   ]
  },
  {
   "cell_type": "code",
   "execution_count": 17,
   "metadata": {
    "execution": {
     "iopub.execute_input": "2021-07-28T15:30:00.512189Z",
     "iopub.status.busy": "2021-07-28T15:30:00.511799Z",
     "iopub.status.idle": "2021-07-28T15:30:00.520370Z",
     "shell.execute_reply": "2021-07-28T15:30:00.519250Z",
     "shell.execute_reply.started": "2021-07-28T15:30:00.512148Z"
    },
    "id": "ca38810d-4d7c-48e7-9439-9916a093836d",
    "outputId": "e845ae4e-136e-4c54-9f14-0c849c78a1ed"
   },
   "outputs": [
    {
     "data": {
      "text/plain": [
       "50"
      ]
     },
     "execution_count": 17,
     "metadata": {},
     "output_type": "execute_result"
    }
   ],
   "source": [
    "len(validation_dataset)"
   ]
  },
  {
   "cell_type": "code",
   "execution_count": 18,
   "metadata": {
    "execution": {
     "iopub.execute_input": "2021-07-28T15:30:00.521881Z",
     "iopub.status.busy": "2021-07-28T15:30:00.521524Z",
     "iopub.status.idle": "2021-07-28T15:31:22.111624Z",
     "shell.execute_reply": "2021-07-28T15:31:22.110767Z",
     "shell.execute_reply.started": "2021-07-28T15:30:00.521841Z"
    },
    "id": "35c43a22-a50a-4d26-b0af-5a6b3e8cecb6",
    "outputId": "15a9fec8-84e8-4631-f977-88ca38d842e7"
   },
   "outputs": [
    {
     "name": "stdout",
     "output_type": "stream",
     "text": [
      "Epoch 1/60\n",
      "300/300 [==============================] - 16s 31ms/step - loss: 3.6064 - accuracy: 0.6040 - val_loss: 0.0750 - val_accuracy: 0.9773\n",
      "Epoch 2/60\n",
      "300/300 [==============================] - 8s 27ms/step - loss: 0.1794 - accuracy: 0.9439 - val_loss: 0.0431 - val_accuracy: 0.9858\n",
      "Epoch 3/60\n",
      "300/300 [==============================] - 8s 26ms/step - loss: 0.1260 - accuracy: 0.9621 - val_loss: 0.0461 - val_accuracy: 0.9860\n",
      "Epoch 4/60\n",
      "300/300 [==============================] - 8s 26ms/step - loss: 0.0943 - accuracy: 0.9700 - val_loss: 0.0394 - val_accuracy: 0.9871\n",
      "Epoch 5/60\n",
      "300/300 [==============================] - 8s 26ms/step - loss: 0.0846 - accuracy: 0.9743 - val_loss: 0.0324 - val_accuracy: 0.9893\n",
      "Epoch 6/60\n",
      "300/300 [==============================] - 8s 27ms/step - loss: 0.0770 - accuracy: 0.9764 - val_loss: 0.0278 - val_accuracy: 0.9908\n",
      "Epoch 7/60\n",
      "300/300 [==============================] - 8s 27ms/step - loss: 0.0715 - accuracy: 0.9792 - val_loss: 0.0303 - val_accuracy: 0.9903\n",
      "Epoch 8/60\n",
      "300/300 [==============================] - 8s 28ms/step - loss: 0.0661 - accuracy: 0.9796 - val_loss: 0.0293 - val_accuracy: 0.9910\n",
      "Epoch 9/60\n",
      "300/300 [==============================] - 8s 27ms/step - loss: 0.0611 - accuracy: 0.9818 - val_loss: 0.0321 - val_accuracy: 0.9898\n",
      "Epoch 00009: early stopping\n"
     ]
    }
   ],
   "source": [
    "history = model.fit(train_dataset,\n",
    "                 epochs=60,\n",
    "                 validation_data=validation_dataset,\n",
    "                 callbacks=[es_callback])    "
   ]
  },
  {
   "cell_type": "code",
   "execution_count": 19,
   "metadata": {
    "execution": {
     "iopub.execute_input": "2021-07-28T15:31:22.113722Z",
     "iopub.status.busy": "2021-07-28T15:31:22.113346Z",
     "iopub.status.idle": "2021-07-28T15:31:22.285413Z",
     "shell.execute_reply": "2021-07-28T15:31:22.284461Z",
     "shell.execute_reply.started": "2021-07-28T15:31:22.113685Z"
    },
    "id": "53dc4745-7aff-4fec-bf87-af70cb7d00f9",
    "outputId": "83e5cfb2-3ffe-47fc-b82f-56ca5ca61206"
   },
   "outputs": [
    {
     "data": {
      "image/png": "[encoded data removed]",
      "text/plain": [
       "<Figure size 432x288 with 1 Axes>"
      ]
     },
     "metadata": {
      "needs_background": "light"
     },
     "output_type": "display_data"
    }
   ],
   "source": [
    "plt.plot(history.history['accuracy'],\n",
    "         label='accuracy')\n",
    "plt.plot(history.history['val_accuracy'],\n",
    "         label='val_accuracy')\n",
    "plt.xlabel('epoch')\n",
    "plt.ylabel('correct responses %')\n",
    "plt.legend()\n",
    "plt.show()"
   ]
  },
  {
   "cell_type": "code",
   "execution_count": 20,
   "metadata": {
    "execution": {
     "iopub.execute_input": "2021-07-28T15:31:22.287185Z",
     "iopub.status.busy": "2021-07-28T15:31:22.286835Z",
     "iopub.status.idle": "2021-07-28T15:31:22.440510Z",
     "shell.execute_reply": "2021-07-28T15:31:22.439732Z",
     "shell.execute_reply.started": "2021-07-28T15:31:22.287146Z"
    },
    "id": "4c12f272-f3dd-4b23-b08c-4d556718bae6",
    "outputId": "8f48e512-0819-40e0-8f2f-bfd1ed6f7f90"
   },
   "outputs": [
    {
     "data": {
      "image/png": "[encoded data removed]",
      "text/plain": [
       "<Figure size 432x288 with 1 Axes>"
      ]
     },
     "metadata": {
      "needs_background": "light"
     },
     "output_type": "display_data"
    }
   ],
   "source": [
    "plt.plot(history.history['loss'],\n",
    "         label='loss')\n",
    "plt.plot(history.history['val_loss'],\n",
    "         label='val_loss')\n",
    "plt.xlabel('epoch')\n",
    "plt.ylabel('loss')\n",
    "plt.legend()\n",
    "plt.show()"
   ]
  },
  {
   "cell_type": "code",
   "execution_count": 21,
   "metadata": {
    "execution": {
     "iopub.execute_input": "2021-07-28T15:31:22.442148Z",
     "iopub.status.busy": "2021-07-28T15:31:22.441804Z",
     "iopub.status.idle": "2021-07-28T15:31:22.493720Z",
     "shell.execute_reply": "2021-07-28T15:31:22.492904Z",
     "shell.execute_reply.started": "2021-07-28T15:31:22.442113Z"
    },
    "id": "719310ce-5fb6-4224-b248-6ea4beea8510"
   },
   "outputs": [],
   "source": [
    "model.save('es_func_exp.h5')"
   ]
  }
 ],
 "metadata": {
  "kernelspec": {
   "display_name": "Python 3",
   "language": "python",
   "name": "python3"
  },
  "language_info": {
   "codemirror_mode": {
    "name": "ipython",
    "version": 3
   },
   "file_extension": ".py",
   "mimetype": "text/x-python",
   "name": "python",
   "nbconvert_exporter": "python",
   "pygments_lexer": "ipython3",
   "version": "3.9.6"
  }
 },
 "nbformat": 4,
 "nbformat_minor": 4
}
