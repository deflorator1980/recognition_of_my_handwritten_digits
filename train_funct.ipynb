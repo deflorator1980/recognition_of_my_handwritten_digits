{
 "cells": [
  {
   "cell_type": "code",
   "execution_count": 1,
   "metadata": {
    "id": "MenF_JyECBau"
   },
   "outputs": [],
   "source": [
    "import tensorflow as tf\n",
    "import numpy as np\n",
    "from keras.utils import np_utils\n",
    "from tensorflow.keras.preprocessing.image import ImageDataGenerator\n",
    "import matplotlib.pyplot as plt"
   ]
  },
  {
   "cell_type": "code",
   "execution_count": 2,
   "metadata": {},
   "outputs": [],
   "source": [
    "BATCH_SIZE=200\n",
    "EPOCHS=30"
   ]
  },
  {
   "cell_type": "code",
   "execution_count": 3,
   "metadata": {
    "id": "yr9BybegCBa0"
   },
   "outputs": [],
   "source": [
    "inputs = tf.keras.Input(shape=(28,28,1)) \n",
    "x = tf.keras.layers.Conv2D(32, (3,3), activation='relu')(inputs)\n",
    "x = tf.keras.layers.Conv2D(32, (3,3), activation='relu')(x)\n",
    "x = tf.keras.layers.MaxPool2D(pool_size=(2,2))(x)\n",
    "x = tf.keras.layers.Conv2D(64, (3,3), activation='relu')(x)\n",
    "x = tf.keras.layers.Conv2D(64, (3,3), activation='relu')(x)\n",
    "x = tf.keras.layers.MaxPool2D(pool_size=(2,2))(x)\n",
    "x = tf.keras.layers.Flatten()(x)\n",
    "x = tf.keras.layers.Dense(512, activation='relu')(x)\n",
    "x = tf.keras.layers.Dropout(0.2)(x)\n",
    "x = tf.keras.layers.Dense(10, activation='softmax')(x)"
   ]
  },
  {
   "cell_type": "code",
   "execution_count": 4,
   "metadata": {
    "id": "l62IbwzACBa2"
   },
   "outputs": [],
   "source": [
    "model = tf.keras.Model(inputs, x)"
   ]
  },
  {
   "cell_type": "code",
   "execution_count": 5,
   "metadata": {
    "id": "zowWN8n9CBa4"
   },
   "outputs": [],
   "source": [
    "model.compile(optimizer='adam', loss='categorical_crossentropy', metrics=['accuracy'])"
   ]
  },
  {
   "cell_type": "code",
   "execution_count": 6,
   "metadata": {},
   "outputs": [],
   "source": [
    "# the same\n",
    "# model.compile(optimizer=tf.keras.optimizers.Adam(learning_rate=0.001),\n",
    "#               loss=tf.keras.losses.CategoricalCrossentropy(),\n",
    "#               metrics=['accuracy'])"
   ]
  },
  {
   "cell_type": "code",
   "execution_count": 7,
   "metadata": {
    "colab": {
     "base_uri": "https://localhost:8080/"
    },
    "id": "bv0tSvALCBa6",
    "outputId": "b5cdd1f5-1e50-45c4-9894-477dd2a11f60"
   },
   "outputs": [
    {
     "name": "stdout",
     "output_type": "stream",
     "text": [
      "Model: \"model\"\n",
      "_________________________________________________________________\n",
      "Layer (type)                 Output Shape              Param #   \n",
      "=================================================================\n",
      "input_1 (InputLayer)         [(None, 28, 28, 1)]       0         \n",
      "_________________________________________________________________\n",
      "conv2d (Conv2D)              (None, 26, 26, 32)        320       \n",
      "_________________________________________________________________\n",
      "activation (Activation)      (None, 26, 26, 32)        0         \n",
      "_________________________________________________________________\n",
      "conv2d_1 (Conv2D)            (None, 24, 24, 32)        9248      \n",
      "_________________________________________________________________\n",
      "activation_1 (Activation)    (None, 24, 24, 32)        0         \n",
      "_________________________________________________________________\n",
      "max_pooling2d (MaxPooling2D) (None, 12, 12, 32)        0         \n",
      "_________________________________________________________________\n",
      "conv2d_2 (Conv2D)            (None, 10, 10, 64)        18496     \n",
      "_________________________________________________________________\n",
      "activation_2 (Activation)    (None, 10, 10, 64)        0         \n",
      "_________________________________________________________________\n",
      "conv2d_3 (Conv2D)            (None, 8, 8, 64)          36928     \n",
      "_________________________________________________________________\n",
      "activation_3 (Activation)    (None, 8, 8, 64)          0         \n",
      "_________________________________________________________________\n",
      "max_pooling2d_1 (MaxPooling2 (None, 4, 4, 64)          0         \n",
      "_________________________________________________________________\n",
      "flatten (Flatten)            (None, 1024)              0         \n",
      "_________________________________________________________________\n",
      "dense (Dense)                (None, 512)               524800    \n",
      "_________________________________________________________________\n",
      "dropout (Dropout)            (None, 512)               0         \n",
      "_________________________________________________________________\n",
      "dense_1 (Dense)              (None, 10)                5130      \n",
      "=================================================================\n",
      "Total params: 594,922\n",
      "Trainable params: 594,922\n",
      "Non-trainable params: 0\n",
      "_________________________________________________________________\n"
     ]
    }
   ],
   "source": [
    "model.summary()"
   ]
  },
  {
   "cell_type": "code",
   "execution_count": 8,
   "metadata": {
    "colab": {
     "base_uri": "https://localhost:8080/"
    },
    "id": "0zfFyK-VCBa-",
    "outputId": "337ab531-f4c5-4660-de81-f0563f20a1f3"
   },
   "outputs": [
    {
     "data": {
      "text/plain": [
       "{'name': 'Adam',\n",
       " 'learning_rate': 0.001,\n",
       " 'decay': 0.0,\n",
       " 'beta_1': 0.9,\n",
       " 'beta_2': 0.999,\n",
       " 'epsilon': 1e-07,\n",
       " 'amsgrad': False}"
      ]
     },
     "execution_count": 8,
     "metadata": {},
     "output_type": "execute_result"
    }
   ],
   "source": [
    "model.optimizer.get_config()"
   ]
  },
  {
   "cell_type": "code",
   "execution_count": 9,
   "metadata": {
    "id": "dMyh9mByb3La"
   },
   "outputs": [],
   "source": [
    "(x_train, y_train), (x_test, y_test) = tf.keras.datasets.mnist.load_data()"
   ]
  },
  {
   "cell_type": "code",
   "execution_count": 10,
   "metadata": {
    "id": "kB-IQojhCBbB"
   },
   "outputs": [],
   "source": [
    "x_train = x_train[..., tf.newaxis].astype('float32')\n",
    "x_test = x_test[..., tf.newaxis].astype('float32')\n",
    "y_train = np_utils.to_categorical(y_train) \n",
    "y_test = np_utils.to_categorical(y_test)"
   ]
  },
  {
   "cell_type": "code",
   "execution_count": 11,
   "metadata": {
    "id": "UBkFo7Xqb3L1"
   },
   "outputs": [],
   "source": [
    "train_gen = ImageDataGenerator(rescale=1./255,\n",
    "                               rotation_range=15,\n",
    "                               width_shift_range=0.2,\n",
    "                               height_shift_range=0.1,\n",
    "                               zoom_range=0.1)"
   ]
  },
  {
   "cell_type": "code",
   "execution_count": 12,
   "metadata": {
    "id": "W9ivXPgab3L5"
   },
   "outputs": [],
   "source": [
    "training_set = train_gen.flow(x_train,y_train,batch_size=BATCH_SIZE)\n",
    "test_set = train_gen.flow(x_test,y_test,batch_size=BATCH_SIZE)"
   ]
  },
  {
   "cell_type": "code",
   "execution_count": 13,
   "metadata": {
    "id": "v05j3bglCBbH"
   },
   "outputs": [],
   "source": [
    "es_callback = tf.keras.callbacks.EarlyStopping(monitor='val_loss', # better than val_acc\n",
    "                                               patience=3, \n",
    "                                               mode='auto', # default\n",
    "                                               verbose=1)"
   ]
  },
  {
   "cell_type": "code",
   "execution_count": 14,
   "metadata": {
    "colab": {
     "base_uri": "https://localhost:8080/"
    },
    "id": "oZn1-F8HCBbI",
    "outputId": "fea183fc-bf3c-4b1f-fd74-d263ea1c1f8b"
   },
   "outputs": [
    {
     "name": "stdout",
     "output_type": "stream",
     "text": [
      "Epoch 1/30\n",
      "300/300 [==============================] - 34s 110ms/step - loss: 0.4520 - accuracy: 0.8537 - val_loss: 0.1179 - val_accuracy: 0.9635\n",
      "Epoch 2/30\n",
      "300/300 [==============================] - 34s 113ms/step - loss: 0.1237 - accuracy: 0.9623 - val_loss: 0.0732 - val_accuracy: 0.9769\n",
      "Epoch 3/30\n",
      "300/300 [==============================] - 36s 119ms/step - loss: 0.0879 - accuracy: 0.9728 - val_loss: 0.0501 - val_accuracy: 0.9846\n",
      "Epoch 4/30\n",
      "300/300 [==============================] - 34s 114ms/step - loss: 0.0694 - accuracy: 0.9790 - val_loss: 0.0483 - val_accuracy: 0.9833\n",
      "Epoch 5/30\n",
      "300/300 [==============================] - 35s 117ms/step - loss: 0.0608 - accuracy: 0.9812 - val_loss: 0.0411 - val_accuracy: 0.9874\n",
      "Epoch 6/30\n",
      "300/300 [==============================] - 33s 111ms/step - loss: 0.0532 - accuracy: 0.9833 - val_loss: 0.0433 - val_accuracy: 0.9868\n",
      "Epoch 7/30\n",
      "300/300 [==============================] - 33s 111ms/step - loss: 0.0498 - accuracy: 0.9846 - val_loss: 0.0364 - val_accuracy: 0.9880\n",
      "Epoch 8/30\n",
      "300/300 [==============================] - 35s 117ms/step - loss: 0.0448 - accuracy: 0.9860 - val_loss: 0.0346 - val_accuracy: 0.9885\n",
      "Epoch 9/30\n",
      "300/300 [==============================] - 36s 119ms/step - loss: 0.0416 - accuracy: 0.9870 - val_loss: 0.0335 - val_accuracy: 0.9904\n",
      "Epoch 10/30\n",
      "300/300 [==============================] - 35s 117ms/step - loss: 0.0411 - accuracy: 0.9879 - val_loss: 0.0290 - val_accuracy: 0.9907\n",
      "Epoch 11/30\n",
      "300/300 [==============================] - 36s 120ms/step - loss: 0.0371 - accuracy: 0.9887 - val_loss: 0.0363 - val_accuracy: 0.9884\n",
      "Epoch 12/30\n",
      "300/300 [==============================] - 35s 115ms/step - loss: 0.0360 - accuracy: 0.9890 - val_loss: 0.0278 - val_accuracy: 0.9917\n",
      "Epoch 13/30\n",
      "300/300 [==============================] - 34s 113ms/step - loss: 0.0332 - accuracy: 0.9895 - val_loss: 0.0296 - val_accuracy: 0.9902\n",
      "Epoch 14/30\n",
      "300/300 [==============================] - 36s 119ms/step - loss: 0.0332 - accuracy: 0.9896 - val_loss: 0.0290 - val_accuracy: 0.9900\n",
      "Epoch 15/30\n",
      "300/300 [==============================] - 36s 121ms/step - loss: 0.0304 - accuracy: 0.9910 - val_loss: 0.0328 - val_accuracy: 0.9891\n",
      "Epoch 00015: early stopping\n"
     ]
    }
   ],
   "source": [
    "history = model.fit(training_set,\n",
    "                         steps_per_epoch=len(x_train) // BATCH_SIZE, # 300\n",
    "                         validation_data=test_set,\n",
    "                         validation_steps=len(x_test) // BATCH_SIZE, # 50\n",
    "                         epochs=EPOCHS,\n",
    "                         callbacks=[es_callback])"
   ]
  },
  {
   "cell_type": "code",
   "execution_count": 15,
   "metadata": {
    "colab": {
     "base_uri": "https://localhost:8080/",
     "height": 279
    },
    "id": "OEu5C_LTCBbK",
    "outputId": "efcf4ad3-3f42-4a93-82d8-43145dedc1aa"
   },
   "outputs": [
    {
     "data": {
      "image/png": "[encoded data removed]",
      "text/plain": [
       "<Figure size 432x288 with 1 Axes>"
      ]
     },
     "metadata": {
      "needs_background": "light"
     },
     "output_type": "display_data"
    }
   ],
   "source": [
    "plt.plot(history.history['accuracy'],\n",
    "         label='accuracy')\n",
    "plt.plot(history.history['val_accuracy'],\n",
    "         label='val_accuracy')\n",
    "plt.xlabel('epoch')\n",
    "plt.ylabel('correct responses %')\n",
    "plt.legend()\n",
    "plt.show()"
   ]
  },
  {
   "cell_type": "code",
   "execution_count": 16,
   "metadata": {
    "colab": {
     "base_uri": "https://localhost:8080/",
     "height": 279
    },
    "id": "05zlo9tUCBbL",
    "outputId": "b687b17c-1e7b-429e-b717-fdf9b5040c2d"
   },
   "outputs": [
    {
     "data": {
      "image/png": "[encoded data removed]",
      "text/plain": [
       "<Figure size 432x288 with 1 Axes>"
      ]
     },
     "metadata": {
      "needs_background": "light"
     },
     "output_type": "display_data"
    }
   ],
   "source": [
    "plt.plot(history.history['loss'],\n",
    "         label='loss')\n",
    "plt.plot(history.history['val_loss'],\n",
    "         label='val_loss')\n",
    "plt.xlabel('epoch')\n",
    "plt.ylabel('loss')\n",
    "plt.legend()\n",
    "plt.show()"
   ]
  },
  {
   "cell_type": "code",
   "execution_count": 18,
   "metadata": {
    "id": "o-2l6M3JCBbL"
   },
   "outputs": [],
   "source": [
    "model.save('es_func.h5')"
   ]
  }
 ],
 "metadata": {
  "accelerator": "GPU",
  "colab": {
   "collapsed_sections": [],
   "name": "train_functional.ipynb",
   "provenance": []
  },
  "kernelspec": {
   "display_name": "Python 3",
   "language": "python",
   "name": "python3"
  },
  "language_info": {
   "codemirror_mode": {
    "name": "ipython",
    "version": 3
   },
   "file_extension": ".py",
   "mimetype": "text/x-python",
   "name": "python",
   "nbconvert_exporter": "python",
   "pygments_lexer": "ipython3",
   "version": "3.9.6"
  }
 },
 "nbformat": 4,
 "nbformat_minor": 4
}
