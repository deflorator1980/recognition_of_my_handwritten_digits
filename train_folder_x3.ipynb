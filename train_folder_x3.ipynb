{
 "cells": [
  {
   "cell_type": "code",
   "execution_count": 1,
   "metadata": {
    "tags": []
   },
   "outputs": [],
   "source": [
    "import tensorflow as tf\n",
    "import numpy as np\n",
    "from keras.utils import np_utils\n",
    "from tensorflow.keras.preprocessing.image import ImageDataGenerator\n",
    "import matplotlib.pyplot as plt"
   ]
  },
  {
   "cell_type": "code",
   "execution_count": 3,
   "metadata": {},
   "outputs": [],
   "source": [
    "inputs = tf.keras.Input(shape=(28,28,3)) \n",
    "x = tf.keras.layers.Conv2D(32, (3,3))(inputs)\n",
    "x = tf.keras.layers.Activation('relu')(x)\n",
    "x = tf.keras.layers.Conv2D(32, (3,3))(x)\n",
    "x = tf.keras.layers.Activation('relu')(x)\n",
    "x = tf.keras.layers.MaxPool2D(pool_size=(2,2))(x)\n",
    "x = tf.keras.layers.Conv2D(64, (3,3))(x)\n",
    "x = tf.keras.layers.Activation('relu')(x)\n",
    "x = tf.keras.layers.Conv2D(64, (3,3))(x)\n",
    "x = tf.keras.layers.Activation('relu')(x)\n",
    "x = tf.keras.layers.MaxPool2D(pool_size=(2,2))(x)\n",
    "x = tf.keras.layers.Flatten()(x)\n",
    "x = tf.keras.layers.Dense(512)(x)\n",
    "x = tf.keras.layers.Activation('relu')(x)\n",
    "x = tf.keras.layers.Dropout(0.2)(x)\n",
    "x = tf.keras.layers.Dense(10)(x)\n",
    "x = tf.keras.layers.Activation('softmax')(x)"
   ]
  },
  {
   "cell_type": "code",
   "execution_count": 4,
   "metadata": {},
   "outputs": [],
   "source": [
    "model = tf.keras.Model(inputs, x)"
   ]
  },
  {
   "cell_type": "code",
   "execution_count": 5,
   "metadata": {},
   "outputs": [],
   "source": [
    "model.compile(optimizer='adam', loss='categorical_crossentropy', metrics=['accuracy'])"
   ]
  },
  {
   "cell_type": "code",
   "execution_count": 6,
   "metadata": {},
   "outputs": [
    {
     "name": "stdout",
     "output_type": "stream",
     "text": [
      "Model: \"model\"\n",
      "_________________________________________________________________\n",
      "Layer (type)                 Output Shape              Param #   \n",
      "=================================================================\n",
      "input_1 (InputLayer)         [(None, 28, 28, 3)]       0         \n",
      "_________________________________________________________________\n",
      "conv2d (Conv2D)              (None, 26, 26, 32)        896       \n",
      "_________________________________________________________________\n",
      "activation (Activation)      (None, 26, 26, 32)        0         \n",
      "_________________________________________________________________\n",
      "conv2d_1 (Conv2D)            (None, 24, 24, 32)        9248      \n",
      "_________________________________________________________________\n",
      "activation_1 (Activation)    (None, 24, 24, 32)        0         \n",
      "_________________________________________________________________\n",
      "max_pooling2d (MaxPooling2D) (None, 12, 12, 32)        0         \n",
      "_________________________________________________________________\n",
      "conv2d_2 (Conv2D)            (None, 10, 10, 64)        18496     \n",
      "_________________________________________________________________\n",
      "activation_2 (Activation)    (None, 10, 10, 64)        0         \n",
      "_________________________________________________________________\n",
      "conv2d_3 (Conv2D)            (None, 8, 8, 64)          36928     \n",
      "_________________________________________________________________\n",
      "activation_3 (Activation)    (None, 8, 8, 64)          0         \n",
      "_________________________________________________________________\n",
      "max_pooling2d_1 (MaxPooling2 (None, 4, 4, 64)          0         \n",
      "_________________________________________________________________\n",
      "flatten (Flatten)            (None, 1024)              0         \n",
      "_________________________________________________________________\n",
      "dense (Dense)                (None, 512)               524800    \n",
      "_________________________________________________________________\n",
      "activation_4 (Activation)    (None, 512)               0         \n",
      "_________________________________________________________________\n",
      "dropout (Dropout)            (None, 512)               0         \n",
      "_________________________________________________________________\n",
      "dense_1 (Dense)              (None, 10)                5130      \n",
      "_________________________________________________________________\n",
      "activation_5 (Activation)    (None, 10)                0         \n",
      "=================================================================\n",
      "Total params: 595,498\n",
      "Trainable params: 595,498\n",
      "Non-trainable params: 0\n",
      "_________________________________________________________________\n"
     ]
    }
   ],
   "source": [
    "model.summary()"
   ]
  },
  {
   "cell_type": "code",
   "execution_count": 7,
   "metadata": {},
   "outputs": [
    {
     "data": {
      "text/plain": [
       "{'name': 'Adam',\n",
       " 'learning_rate': 0.001,\n",
       " 'decay': 0.0,\n",
       " 'beta_1': 0.9,\n",
       " 'beta_2': 0.999,\n",
       " 'epsilon': 1e-07,\n",
       " 'amsgrad': False}"
      ]
     },
     "execution_count": 7,
     "metadata": {},
     "output_type": "execute_result"
    }
   ],
   "source": [
    "model.optimizer.get_config()"
   ]
  },
  {
   "cell_type": "code",
   "execution_count": 10,
   "metadata": {
    "id": "UBkFo7Xqb3L1",
    "tags": []
   },
   "outputs": [],
   "source": [
    "train_gen = ImageDataGenerator(rescale=1./255,\n",
    "                               rotation_range=15,\n",
    "                               width_shift_range=0.2,\n",
    "                               height_shift_range=0.1,\n",
    "                               zoom_range=0.1)"
   ]
  },
  {
   "cell_type": "code",
   "execution_count": 11,
   "metadata": {
    "id": "W9ivXPgab3L5",
    "tags": []
   },
   "outputs": [
    {
     "name": "stdout",
     "output_type": "stream",
     "text": [
      "Found 60000 images belonging to 10 classes.\n",
      "Found 10000 images belonging to 10 classes.\n"
     ]
    }
   ],
   "source": [
    "training_set = train_gen.flow_from_directory('/home/a/datasets/mnist_png/training',\n",
    "                                            target_size=(28,28),\n",
    "                                            color_mode='rgb')\n",
    "\n",
    "test_set = train_gen.flow_from_directory('/home/a/datasets/mnist_png/testing',\n",
    "                                            target_size=(28,28),\n",
    "                                            color_mode='rgb')"
   ]
  },
  {
   "cell_type": "code",
   "execution_count": 12,
   "metadata": {
    "tags": []
   },
   "outputs": [],
   "source": [
    "es_callback = tf.keras.callbacks.EarlyStopping(monitor='val_loss', # better than val_acc\n",
    "                                               patience=3, \n",
    "                                               mode='auto', # default\n",
    "                                               verbose=1)"
   ]
  },
  {
   "cell_type": "code",
   "execution_count": 13,
   "metadata": {
    "tags": []
   },
   "outputs": [
    {
     "name": "stdout",
     "output_type": "stream",
     "text": [
      "Epoch 1/30\n",
      "300/300 [==============================] - 9s 28ms/step - loss: 0.6792 - accuracy: 0.7769 - val_loss: 0.2389 - val_accuracy: 0.9237\n",
      "Epoch 2/30\n",
      "300/300 [==============================] - 10s 32ms/step - loss: 0.2334 - accuracy: 0.9292 - val_loss: 0.1548 - val_accuracy: 0.9494\n",
      "Epoch 3/30\n",
      "300/300 [==============================] - 11s 35ms/step - loss: 0.1705 - accuracy: 0.9494 - val_loss: 0.1281 - val_accuracy: 0.9594\n",
      "Epoch 4/30\n",
      "300/300 [==============================] - 11s 37ms/step - loss: 0.1368 - accuracy: 0.9568 - val_loss: 0.0995 - val_accuracy: 0.9681\n",
      "Epoch 5/30\n",
      "300/300 [==============================] - 11s 38ms/step - loss: 0.1250 - accuracy: 0.9626 - val_loss: 0.1128 - val_accuracy: 0.9638\n",
      "Epoch 6/30\n",
      "300/300 [==============================] - 11s 37ms/step - loss: 0.1139 - accuracy: 0.9666 - val_loss: 0.0860 - val_accuracy: 0.9731\n",
      "Epoch 7/30\n",
      "300/300 [==============================] - 10s 34ms/step - loss: 0.0961 - accuracy: 0.9720 - val_loss: 0.0728 - val_accuracy: 0.9775\n",
      "Epoch 8/30\n",
      "300/300 [==============================] - 12s 39ms/step - loss: 0.0899 - accuracy: 0.9732 - val_loss: 0.0624 - val_accuracy: 0.9775\n",
      "Epoch 9/30\n",
      "300/300 [==============================] - 11s 38ms/step - loss: 0.0900 - accuracy: 0.9730 - val_loss: 0.0693 - val_accuracy: 0.9762\n",
      "Epoch 10/30\n",
      "300/300 [==============================] - 11s 38ms/step - loss: 0.0714 - accuracy: 0.9776 - val_loss: 0.0631 - val_accuracy: 0.9819\n",
      "Epoch 11/30\n",
      "300/300 [==============================] - 11s 37ms/step - loss: 0.0730 - accuracy: 0.9769 - val_loss: 0.0548 - val_accuracy: 0.9844\n",
      "Epoch 12/30\n",
      "300/300 [==============================] - 11s 37ms/step - loss: 0.0647 - accuracy: 0.9798 - val_loss: 0.0620 - val_accuracy: 0.9775\n",
      "Epoch 13/30\n",
      "300/300 [==============================] - 11s 37ms/step - loss: 0.0672 - accuracy: 0.9801 - val_loss: 0.0611 - val_accuracy: 0.9819\n",
      "Epoch 14/30\n",
      "300/300 [==============================] - 11s 37ms/step - loss: 0.0660 - accuracy: 0.9814 - val_loss: 0.0526 - val_accuracy: 0.9787\n",
      "Epoch 15/30\n",
      "300/300 [==============================] - 11s 36ms/step - loss: 0.0736 - accuracy: 0.9768 - val_loss: 0.0443 - val_accuracy: 0.9850\n",
      "Epoch 16/30\n",
      "300/300 [==============================] - 9s 32ms/step - loss: 0.0639 - accuracy: 0.9800 - val_loss: 0.0513 - val_accuracy: 0.9806\n",
      "Epoch 17/30\n",
      "300/300 [==============================] - 9s 29ms/step - loss: 0.0611 - accuracy: 0.9815 - val_loss: 0.0514 - val_accuracy: 0.9800\n",
      "Epoch 18/30\n",
      "300/300 [==============================] - 8s 28ms/step - loss: 0.0575 - accuracy: 0.9840 - val_loss: 0.0447 - val_accuracy: 0.9869\n",
      "Epoch 00018: early stopping\n"
     ]
    }
   ],
   "source": [
    "history = model.fit(training_set,\n",
    "                         steps_per_epoch=300, # 300\n",
    "                         validation_data=test_set,\n",
    "                         validation_steps=50, # 50\n",
    "                         epochs=30,\n",
    "                         callbacks=[es_callback])"
   ]
  },
  {
   "cell_type": "code",
   "execution_count": 14,
   "metadata": {},
   "outputs": [
    {
     "data": {
      "image/png": "[encoded data removed]",
      "text/plain": [
       "<Figure size 432x288 with 1 Axes>"
      ]
     },
     "metadata": {
      "needs_background": "light"
     },
     "output_type": "display_data"
    }
   ],
   "source": [
    "plt.plot(history.history['accuracy'],\n",
    "         label='accuracy')\n",
    "plt.plot(history.history['val_accuracy'],\n",
    "         label='val_accuracy')\n",
    "plt.xlabel('epoch')\n",
    "plt.ylabel('correct responses %')\n",
    "plt.legend()\n",
    "plt.show()"
   ]
  },
  {
   "cell_type": "code",
   "execution_count": 15,
   "metadata": {},
   "outputs": [
    {
     "data": {
      "image/png": "[encoded data removed]",
      "text/plain": [
       "<Figure size 432x288 with 1 Axes>"
      ]
     },
     "metadata": {
      "needs_background": "light"
     },
     "output_type": "display_data"
    }
   ],
   "source": [
    "plt.plot(history.history['loss'],\n",
    "         label='loss')\n",
    "plt.plot(history.history['val_loss'],\n",
    "         label='val_loss')\n",
    "plt.xlabel('epoch')\n",
    "plt.ylabel('loss')\n",
    "plt.legend()\n",
    "plt.show()"
   ]
  },
  {
   "cell_type": "code",
   "execution_count": 16,
   "metadata": {},
   "outputs": [],
   "source": [
    "model.save('es_func_folder_x3.h5')"
   ]
  }
 ],
 "metadata": {
  "kernelspec": {
   "display_name": "Python 3",
   "language": "python",
   "name": "python3"
  },
  "language_info": {
   "codemirror_mode": {
    "name": "ipython",
    "version": 3
   },
   "file_extension": ".py",
   "mimetype": "text/x-python",
   "name": "python",
   "nbconvert_exporter": "python",
   "pygments_lexer": "ipython3",
   "version": "3.9.6"
  }
 },
 "nbformat": 4,
 "nbformat_minor": 4
}
