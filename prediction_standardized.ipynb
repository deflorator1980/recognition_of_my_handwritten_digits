{
 "cells": [
  {
   "cell_type": "code",
   "execution_count": 1,
   "metadata": {},
   "outputs": [],
   "source": [
    "import cv2\n",
    "import numpy as np\n",
    "import tensorflow as tf\n",
    "from tensorflow.keras.models import load_model\n",
    "import os"
   ]
  },
  {
   "cell_type": "code",
   "execution_count": 6,
   "metadata": {},
   "outputs": [],
   "source": [
    "folder = '/home/a/Documents/recognition_of_my_handwritten_digits/img_st/'\n",
    "files = [f for f in os.listdir(folder) if 'png' in f or 'jpg' in f]"
   ]
  },
  {
   "cell_type": "code",
   "execution_count": 3,
   "metadata": {},
   "outputs": [],
   "source": [
    "# model = load_model('straight_bs200e30.h5')\n",
    "model = load_model('es.h5')"
   ]
  },
  {
   "cell_type": "code",
   "execution_count": 4,
   "metadata": {},
   "outputs": [],
   "source": [
    "def predict(folder, file):\n",
    "    img = cv2.imread(folder+file, cv2.IMREAD_GRAYSCALE) \n",
    "    im = img.reshape(1,28,28,1)/255\n",
    "    return np.argmax(model.predict(im))"
   ]
  },
  {
   "cell_type": "code",
   "execution_count": 7,
   "metadata": {
    "tags": []
   },
   "outputs": [
    {
     "name": "stdout",
     "output_type": "stream",
     "text": [
      "0.png  0\n",
      "2i.png  2\n",
      "7seven.png  7\n",
      "3.png  3\n",
      "2two.png  2\n",
      "3i.png  3\n",
      "5w.png  5\n",
      "5five.png  5\n",
      "8.png  8\n",
      "9w.png  9\n",
      "1one.png  1\n",
      "5b.png  5\n",
      "6.png  6\n",
      "4.png  4\n",
      "2.png  2\n",
      "4i.png  4\n",
      "8eight.png  8\n",
      "1i.png  1\n",
      "6six.png  6\n",
      "9nine.png  9\n",
      "0zero.png  0\n",
      "77.png  7\n",
      "0i.png  0\n",
      "1.png  1\n",
      "5i.png  5\n",
      "9.png  9\n",
      "7i.png  7\n",
      "9i.png  9\n",
      "4four.png  4\n",
      "8i.png  8\n",
      "5.png  5\n",
      "1oneone.png  1\n",
      "7.png  7\n",
      "3three.png  3\n",
      "6i.png  6\n"
     ]
    }
   ],
   "source": [
    "for f in files:\n",
    "    print(f, predict(folder, f), sep='  ')"
   ]
  },
  {
   "cell_type": "code",
   "execution_count": null,
   "metadata": {},
   "outputs": [],
   "source": []
  }
 ],
 "metadata": {
  "kernelspec": {
   "display_name": "Python 3",
   "language": "python",
   "name": "python3"
  },
  "language_info": {
   "codemirror_mode": {
    "name": "ipython",
    "version": 3
   },
   "file_extension": ".py",
   "mimetype": "text/x-python",
   "name": "python",
   "nbconvert_exporter": "python",
   "pygments_lexer": "ipython3",
   "version": "3.8.5"
  }
 },
 "nbformat": 4,
 "nbformat_minor": 4
}
