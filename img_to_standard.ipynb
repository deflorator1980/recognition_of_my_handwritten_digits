{
 "cells": [
  {
   "cell_type": "code",
   "execution_count": 26,
   "id": "incredible-membrane",
   "metadata": {},
   "outputs": [],
   "source": [
    "import cv2\n",
    "from matplotlib import pyplot as plt\n",
    "import numpy as np\n",
    "import os\n",
    "from PIL import Image"
   ]
  },
  {
   "cell_type": "code",
   "execution_count": 27,
   "id": "renewable-tribe",
   "metadata": {},
   "outputs": [],
   "source": [
    "def check_reverse(img):\n",
    "    dark = light = 0\n",
    "    for x in np.nditer(img):\n",
    "        if x < 127: dark += 1\n",
    "        else: light += 1\n",
    "    if dark > light: return True\n",
    "    else: return False"
   ]
  },
  {
   "cell_type": "code",
   "execution_count": 28,
   "id": "improved-programmer",
   "metadata": {},
   "outputs": [],
   "source": [
    "def std(folder, file):\n",
    "    img = cv2.imread(folder+file, cv2.IMREAD_GRAYSCALE)  \n",
    "    if check_reverse(img): img = ~img \n",
    "    img_bin = ~cv2.adaptiveThreshold(img,255,\n",
    "                                     cv2.ADAPTIVE_THRESH_GAUSSIAN_C,\n",
    "                                     cv2.THRESH_BINARY,\n",
    "                                     19, 10)\n",
    "    img_ini = Image.fromarray(img_bin)\n",
    "    img28 = img_ini.resize((28,28), Image.ANTIALIAS)\n",
    "    return 255 - np.array(img28) "
   ]
  },
  {
   "cell_type": "code",
   "execution_count": 29,
   "id": "eligible-investment",
   "metadata": {},
   "outputs": [],
   "source": [
    "folder = 'img/'\n",
    "files = [f for f in os.listdir(folder) if 'png' in f]"
   ]
  },
  {
   "cell_type": "code",
   "execution_count": 30,
   "id": "experimental-texas",
   "metadata": {},
   "outputs": [
    {
     "data": {
      "text/plain": [
       "35"
      ]
     },
     "execution_count": 30,
     "metadata": {},
     "output_type": "execute_result"
    }
   ],
   "source": [
    "len(files)"
   ]
  },
  {
   "cell_type": "code",
   "execution_count": 37,
   "id": "young-irish",
   "metadata": {},
   "outputs": [],
   "source": [
    "for f in files:\n",
    "    im = ~std(folder,f)\n",
    "    cv2.imwrite('img_st/'+f, im)"
   ]
  },
  {
   "cell_type": "code",
   "execution_count": null,
   "id": "aboriginal-holiday",
   "metadata": {},
   "outputs": [],
   "source": []
  }
 ],
 "metadata": {
  "kernelspec": {
   "display_name": "Python 3",
   "language": "python",
   "name": "python3"
  },
  "language_info": {
   "codemirror_mode": {
    "name": "ipython",
    "version": 3
   },
   "file_extension": ".py",
   "mimetype": "text/x-python",
   "name": "python",
   "nbconvert_exporter": "python",
   "pygments_lexer": "ipython3",
   "version": "3.8.5"
  }
 },
 "nbformat": 4,
 "nbformat_minor": 5
}
