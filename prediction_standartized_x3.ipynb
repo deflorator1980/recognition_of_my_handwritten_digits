{
 "cells": [
  {
   "cell_type": "code",
   "execution_count": null,
   "id": "c7ebe593-57fc-41ae-8fb0-4adaec6416f6",
   "metadata": {},
   "outputs": [],
   "source": [
    "from tensorflow.keras.models import load_model\n",
    "import os\n",
    "from tensorflow.keras.preprocessing import image\n",
    "import numpy as np\n",
    "import pathlib\n",
    "import matplotlib.pyplot as plt\n",
    "import cv2\n",
    "from PIL import Image"
   ]
  },
  {
   "cell_type": "code",
   "execution_count": 2,
   "id": "1ae71102-28de-46d2-b380-6a20d1c27857",
   "metadata": {},
   "outputs": [],
   "source": [
    "# IMG_SIZE = (28, 28)\n",
    "IMG_SIZE = (56, 56)"
   ]
  },
  {
   "cell_type": "code",
   "execution_count": 3,
   "id": "6f386eb8-9267-4891-b311-0b84384bbd70",
   "metadata": {},
   "outputs": [],
   "source": [
    "# model = load_model('es_func_folder_x3.h5')\n",
    "# model = load_model('es_func_exp.h5')\n",
    "model = load_model('es_func_folder_56x3.h5')"
   ]
  },
  {
   "cell_type": "code",
   "execution_count": 4,
   "id": "4a8e2152-7a68-4ef1-9ab8-7876b28ed869",
   "metadata": {},
   "outputs": [],
   "source": [
    "def prediction(img_path):\n",
    "    img = Image.open(img_path).resize(IMG_SIZE, Image.ANTIALIAS).convert('RGB')\n",
    "    img = np.array(img)\n",
    "    pred = model.predict(np.expand_dims(img, axis=0))\n",
    "    return np.argmax(pred)"
   ]
  },
  {
   "cell_type": "code",
   "execution_count": 5,
   "id": "e3fa11de-4ff2-43a4-b48f-f4dd4b4c2b72",
   "metadata": {},
   "outputs": [],
   "source": [
    "folder = 'img_st/'\n",
    "files = [f for f in os.listdir(folder) if 'png' in f or 'jpg' in f]"
   ]
  },
  {
   "cell_type": "code",
   "execution_count": 6,
   "id": "501967db-830b-4e6d-a574-5494bb93a645",
   "metadata": {},
   "outputs": [],
   "source": [
    "count = 0\n",
    "for i in range(0, len(files)):\n",
    "    res = prediction(os.path.join(folder, files[i]))\n",
    "    if int(files[i][0]) == res:\n",
    "        count += 1\n",
    "    else: \n",
    "        dig = files[i]\n",
    "        print(dig)\n",
    "        plt.imshow(cv2.imread(os.path.join(folder, dig)))\n",
    "        plt.title(res)\n",
    "        plt.show()"
   ]
  },
  {
   "cell_type": "code",
   "execution_count": 7,
   "id": "d6ee801d-2eb4-48b0-aa8a-f6df086f94e4",
   "metadata": {},
   "outputs": [
    {
     "name": "stdout",
     "output_type": "stream",
     "text": [
      "100.0 %\n"
     ]
    }
   ],
   "source": [
    "print (count / len(files) * 100, '%')"
   ]
  },
  {
   "cell_type": "code",
   "execution_count": 8,
   "id": "0e46a522-aa6c-4982-9595-7296985f9fd3",
   "metadata": {},
   "outputs": [
    {
     "name": "stdout",
     "output_type": "stream",
     "text": [
      "0.png  0\n",
      "2i.png  2\n",
      "7seven.png  7\n",
      "3.png  3\n",
      "2two.png  2\n",
      "3i.png  3\n",
      "5w.png  5\n",
      "5five.png  5\n",
      "8.png  8\n",
      "9w.png  9\n",
      "1one.png  1\n",
      "5b.png  5\n",
      "6.png  6\n",
      "4.png  4\n",
      "2.png  2\n",
      "4i.png  4\n",
      "8eight.png  8\n",
      "1i.png  1\n",
      "6six.png  6\n",
      "9nine.png  9\n",
      "0zero.png  0\n",
      "77.png  7\n",
      "0i.png  0\n",
      "1.png  1\n",
      "5i.png  5\n",
      "9.png  9\n",
      "7i.png  7\n",
      "9i.png  9\n",
      "4four.png  4\n",
      "8i.png  8\n",
      "5.png  5\n",
      "1oneone.png  1\n",
      "7.png  7\n",
      "3three.png  3\n",
      "6i.png  6\n"
     ]
    }
   ],
   "source": [
    "for f in files:\n",
    "    print(f, prediction(os.path.join(folder, f)), sep='  ')"
   ]
  }
 ],
 "metadata": {
  "kernelspec": {
   "display_name": "Python 3",
   "language": "python",
   "name": "python3"
  },
  "language_info": {
   "codemirror_mode": {
    "name": "ipython",
    "version": 3
   },
   "file_extension": ".py",
   "mimetype": "text/x-python",
   "name": "python",
   "nbconvert_exporter": "python",
   "pygments_lexer": "ipython3",
   "version": "3.9.6"
  }
 },
 "nbformat": 4,
 "nbformat_minor": 5
}
