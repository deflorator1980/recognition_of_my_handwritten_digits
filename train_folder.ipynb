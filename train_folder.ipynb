{
 "cells": [
  {
   "cell_type": "code",
   "execution_count": 1,
   "metadata": {
    "tags": []
   },
   "outputs": [],
   "source": [
    "import tensorflow as tf\n",
    "import numpy as np\n",
    "from keras.utils import np_utils\n",
    "from tensorflow.keras.preprocessing.image import ImageDataGenerator\n",
    "import matplotlib.pyplot as plt"
   ]
  },
  {
   "cell_type": "code",
   "execution_count": 2,
   "metadata": {},
   "outputs": [],
   "source": [
    "preprocess_input = tf.keras.applications.mobilenet_v2.preprocess_input"
   ]
  },
  {
   "cell_type": "code",
   "execution_count": 3,
   "metadata": {},
   "outputs": [],
   "source": [
    "inputs = tf.keras.Input(shape=(28,28,1)) \n",
    "x = tf.keras.layers.Conv2D(32, (3,3))(inputs)\n",
    "x = tf.keras.layers.Activation('relu')(x)\n",
    "x = tf.keras.layers.Conv2D(32, (3,3))(x)\n",
    "x = tf.keras.layers.Activation('relu')(x)\n",
    "x = tf.keras.layers.MaxPool2D(pool_size=(2,2))(x)\n",
    "x = tf.keras.layers.Conv2D(64, (3,3))(x)\n",
    "x = tf.keras.layers.Activation('relu')(x)\n",
    "x = tf.keras.layers.Conv2D(64, (3,3))(x)\n",
    "x = tf.keras.layers.Activation('relu')(x)\n",
    "x = tf.keras.layers.MaxPool2D(pool_size=(2,2))(x)\n",
    "x = tf.keras.layers.Flatten()(x)\n",
    "x = tf.keras.layers.Dense(512)(x)\n",
    "x = tf.keras.layers.Activation('relu')(x)\n",
    "x = tf.keras.layers.Dropout(0.2)(x)\n",
    "x = tf.keras.layers.Dense(10)(x)\n",
    "x = tf.keras.layers.Activation('softmax')(x)"
   ]
  },
  {
   "cell_type": "code",
   "execution_count": 4,
   "metadata": {},
   "outputs": [],
   "source": [
    "model = tf.keras.Model(inputs, x)"
   ]
  },
  {
   "cell_type": "code",
   "execution_count": 5,
   "metadata": {},
   "outputs": [],
   "source": [
    "model.compile(optimizer='adam', loss='categorical_crossentropy', metrics=['accuracy'])"
   ]
  },
  {
   "cell_type": "code",
   "execution_count": 6,
   "metadata": {},
   "outputs": [
    {
     "name": "stdout",
     "output_type": "stream",
     "text": [
      "Model: \"model\"\n",
      "_________________________________________________________________\n",
      "Layer (type)                 Output Shape              Param #   \n",
      "=================================================================\n",
      "input_1 (InputLayer)         [(None, 28, 28, 1)]       0         \n",
      "_________________________________________________________________\n",
      "conv2d (Conv2D)              (None, 26, 26, 32)        320       \n",
      "_________________________________________________________________\n",
      "activation (Activation)      (None, 26, 26, 32)        0         \n",
      "_________________________________________________________________\n",
      "conv2d_1 (Conv2D)            (None, 24, 24, 32)        9248      \n",
      "_________________________________________________________________\n",
      "activation_1 (Activation)    (None, 24, 24, 32)        0         \n",
      "_________________________________________________________________\n",
      "max_pooling2d (MaxPooling2D) (None, 12, 12, 32)        0         \n",
      "_________________________________________________________________\n",
      "conv2d_2 (Conv2D)            (None, 10, 10, 64)        18496     \n",
      "_________________________________________________________________\n",
      "activation_2 (Activation)    (None, 10, 10, 64)        0         \n",
      "_________________________________________________________________\n",
      "conv2d_3 (Conv2D)            (None, 8, 8, 64)          36928     \n",
      "_________________________________________________________________\n",
      "activation_3 (Activation)    (None, 8, 8, 64)          0         \n",
      "_________________________________________________________________\n",
      "max_pooling2d_1 (MaxPooling2 (None, 4, 4, 64)          0         \n",
      "_________________________________________________________________\n",
      "flatten (Flatten)            (None, 1024)              0         \n",
      "_________________________________________________________________\n",
      "dense (Dense)                (None, 512)               524800    \n",
      "_________________________________________________________________\n",
      "activation_4 (Activation)    (None, 512)               0         \n",
      "_________________________________________________________________\n",
      "dropout (Dropout)            (None, 512)               0         \n",
      "_________________________________________________________________\n",
      "dense_1 (Dense)              (None, 10)                5130      \n",
      "_________________________________________________________________\n",
      "activation_5 (Activation)    (None, 10)                0         \n",
      "=================================================================\n",
      "Total params: 594,922\n",
      "Trainable params: 594,922\n",
      "Non-trainable params: 0\n",
      "_________________________________________________________________\n"
     ]
    }
   ],
   "source": [
    "model.summary()"
   ]
  },
  {
   "cell_type": "code",
   "execution_count": 7,
   "metadata": {},
   "outputs": [
    {
     "data": {
      "text/plain": [
       "{'name': 'Adam',\n",
       " 'learning_rate': 0.001,\n",
       " 'decay': 0.0,\n",
       " 'beta_1': 0.9,\n",
       " 'beta_2': 0.999,\n",
       " 'epsilon': 1e-07,\n",
       " 'amsgrad': False}"
      ]
     },
     "execution_count": 7,
     "metadata": {},
     "output_type": "execute_result"
    }
   ],
   "source": [
    "model.optimizer.get_config()"
   ]
  },
  {
   "cell_type": "code",
   "execution_count": 8,
   "metadata": {
    "id": "dMyh9mByb3La"
   },
   "outputs": [],
   "source": [
    "# (x_train, y_train), (x_test, y_test) = tf.keras.datasets.mnist.load_data()"
   ]
  },
  {
   "cell_type": "code",
   "execution_count": 9,
   "metadata": {},
   "outputs": [],
   "source": [
    "# x_train = x_train[..., tf.newaxis].astype('float32')\n",
    "# x_test = x_test[..., tf.newaxis].astype('float32')\n",
    "# x_train /= 255\n",
    "# x_test /= 255\n",
    "# y_train = np_utils.to_categorical(y_train) \n",
    "# y_test = np_utils.to_categorical(y_test)"
   ]
  },
  {
   "cell_type": "code",
   "execution_count": 10,
   "metadata": {
    "id": "UBkFo7Xqb3L1",
    "tags": []
   },
   "outputs": [],
   "source": [
    "train_gen = ImageDataGenerator(rescale=1./255,\n",
    "                               rotation_range=15,\n",
    "                               width_shift_range=0.2,\n",
    "                               height_shift_range=0.1,\n",
    "                               zoom_range=0.1)"
   ]
  },
  {
   "cell_type": "code",
   "execution_count": 11,
   "metadata": {
    "id": "W9ivXPgab3L5",
    "tags": []
   },
   "outputs": [
    {
     "name": "stdout",
     "output_type": "stream",
     "text": [
      "Found 60000 images belonging to 10 classes.\n",
      "Found 10000 images belonging to 10 classes.\n"
     ]
    }
   ],
   "source": [
    "# training_set = train_gen.flow(x_train,y_train,batch_size=32)\n",
    "# test_set = train_gen.flow(x_test,y_test,batch_size=32)\n",
    "training_set = train_gen.flow_from_directory('/home/a/datasets/mnist_png/training',\n",
    "                                            target_size=(28,28),\n",
    "                                            color_mode='grayscale')\n",
    "\n",
    "test_set = train_gen.flow_from_directory('/home/a/datasets/mnist_png/testing',\n",
    "                                            target_size=(28,28),\n",
    "                                            color_mode='grayscale')"
   ]
  },
  {
   "cell_type": "code",
   "execution_count": 12,
   "metadata": {
    "tags": []
   },
   "outputs": [],
   "source": [
    "es_callback = tf.keras.callbacks.EarlyStopping(monitor='val_loss', # better than val_acc\n",
    "                                               patience=3, \n",
    "                                               mode='auto', # default\n",
    "                                               verbose=1)"
   ]
  },
  {
   "cell_type": "code",
   "execution_count": 13,
   "metadata": {
    "tags": []
   },
   "outputs": [
    {
     "name": "stdout",
     "output_type": "stream",
     "text": [
      "Epoch 1/30\n",
      "300/300 [==============================] - 8s 26ms/step - loss: 0.7373 - accuracy: 0.7605 - val_loss: 0.2538 - val_accuracy: 0.9206\n",
      "Epoch 2/30\n",
      "300/300 [==============================] - 8s 25ms/step - loss: 0.2460 - accuracy: 0.9251 - val_loss: 0.1691 - val_accuracy: 0.9431\n",
      "Epoch 3/30\n",
      "300/300 [==============================] - 8s 25ms/step - loss: 0.1701 - accuracy: 0.9457 - val_loss: 0.0900 - val_accuracy: 0.9706\n",
      "Epoch 4/30\n",
      "300/300 [==============================] - 8s 26ms/step - loss: 0.1343 - accuracy: 0.9618 - val_loss: 0.0819 - val_accuracy: 0.9744\n",
      "Epoch 5/30\n",
      "300/300 [==============================] - 8s 27ms/step - loss: 0.1187 - accuracy: 0.9661 - val_loss: 0.0934 - val_accuracy: 0.9725\n",
      "Epoch 6/30\n",
      "300/300 [==============================] - 9s 29ms/step - loss: 0.1100 - accuracy: 0.9664 - val_loss: 0.0832 - val_accuracy: 0.9756\n",
      "Epoch 7/30\n",
      "300/300 [==============================] - 8s 27ms/step - loss: 0.1029 - accuracy: 0.9683 - val_loss: 0.0808 - val_accuracy: 0.9737\n",
      "Epoch 8/30\n",
      "300/300 [==============================] - 8s 25ms/step - loss: 0.0872 - accuracy: 0.9744 - val_loss: 0.0985 - val_accuracy: 0.9669\n",
      "Epoch 9/30\n",
      "300/300 [==============================] - 7s 25ms/step - loss: 0.0900 - accuracy: 0.9735 - val_loss: 0.0728 - val_accuracy: 0.9737\n",
      "Epoch 10/30\n",
      "300/300 [==============================] - 7s 24ms/step - loss: 0.0891 - accuracy: 0.9732 - val_loss: 0.0549 - val_accuracy: 0.9831\n",
      "Epoch 11/30\n",
      "300/300 [==============================] - 7s 24ms/step - loss: 0.0773 - accuracy: 0.9770 - val_loss: 0.0758 - val_accuracy: 0.9744\n",
      "Epoch 12/30\n",
      "300/300 [==============================] - 7s 24ms/step - loss: 0.0850 - accuracy: 0.9741 - val_loss: 0.0641 - val_accuracy: 0.9819\n",
      "Epoch 13/30\n",
      "300/300 [==============================] - 7s 24ms/step - loss: 0.0770 - accuracy: 0.9771 - val_loss: 0.0431 - val_accuracy: 0.9869\n",
      "Epoch 14/30\n",
      "300/300 [==============================] - 7s 24ms/step - loss: 0.0735 - accuracy: 0.9772 - val_loss: 0.0551 - val_accuracy: 0.9819\n",
      "Epoch 15/30\n",
      "300/300 [==============================] - 7s 24ms/step - loss: 0.0617 - accuracy: 0.9819 - val_loss: 0.0728 - val_accuracy: 0.9819\n",
      "Epoch 16/30\n",
      "300/300 [==============================] - 7s 24ms/step - loss: 0.0651 - accuracy: 0.9797 - val_loss: 0.0649 - val_accuracy: 0.9787\n",
      "Epoch 00016: early stopping\n"
     ]
    }
   ],
   "source": [
    "# history = model.fit(training_set,\n",
    "#                          steps_per_epoch=len(x_train) // 32, # 300\n",
    "#                          validation_data=test_set,\n",
    "#                          validation_steps=len(x_test) // 32, # 50\n",
    "#                          epochs=30,\n",
    "#                          callbacks=[es_callback])\n",
    "history = model.fit(training_set,\n",
    "                         steps_per_epoch=300, # 300\n",
    "                         validation_data=test_set,\n",
    "                         validation_steps=50, # 50\n",
    "                         epochs=30,\n",
    "                         callbacks=[es_callback])"
   ]
  },
  {
   "cell_type": "code",
   "execution_count": 14,
   "metadata": {},
   "outputs": [
    {
     "data": {
      "image/png": "[encoded data removed]",
      "text/plain": [
       "<Figure size 432x288 with 1 Axes>"
      ]
     },
     "metadata": {
      "needs_background": "light"
     },
     "output_type": "display_data"
    }
   ],
   "source": [
    "plt.plot(history.history['accuracy'],\n",
    "         label='accuracy')\n",
    "plt.plot(history.history['val_accuracy'],\n",
    "         label='val_accuracy')\n",
    "plt.xlabel('epoch')\n",
    "plt.ylabel('correct responses %')\n",
    "plt.legend()\n",
    "plt.show()"
   ]
  },
  {
   "cell_type": "code",
   "execution_count": 15,
   "metadata": {},
   "outputs": [
    {
     "data": {
      "image/png": "[encoded data removed]",
      "text/plain": [
       "<Figure size 432x288 with 1 Axes>"
      ]
     },
     "metadata": {
      "needs_background": "light"
     },
     "output_type": "display_data"
    }
   ],
   "source": [
    "plt.plot(history.history['loss'],\n",
    "         label='loss')\n",
    "plt.plot(history.history['val_loss'],\n",
    "         label='val_loss')\n",
    "plt.xlabel('epoch')\n",
    "plt.ylabel('loss')\n",
    "plt.legend()\n",
    "plt.show()"
   ]
  },
  {
   "cell_type": "code",
   "execution_count": 16,
   "metadata": {},
   "outputs": [],
   "source": [
    "model.save('es_func_folder.h5')"
   ]
  },
  {
   "cell_type": "code",
   "execution_count": null,
   "metadata": {},
   "outputs": [],
   "source": []
  }
 ],
 "metadata": {
  "kernelspec": {
   "display_name": "Python 3",
   "language": "python",
   "name": "python3"
  },
  "language_info": {
   "codemirror_mode": {
    "name": "ipython",
    "version": 3
   },
   "file_extension": ".py",
   "mimetype": "text/x-python",
   "name": "python",
   "nbconvert_exporter": "python",
   "pygments_lexer": "ipython3",
   "version": "3.9.6"
  }
 },
 "nbformat": 4,
 "nbformat_minor": 4
}
