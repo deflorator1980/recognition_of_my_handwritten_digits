{
 "cells": [
  {
   "cell_type": "code",
   "execution_count": 1,
   "metadata": {},
   "outputs": [],
   "source": [
    "import cv2\n",
    "# from matplotlib import pyplot as plt\n",
    "import numpy as np\n",
    "from PIL import Image\n",
    "from tensorflow.keras.models import load_model\n",
    "from tensorflow.keras.preprocessing import image\n",
    "import os"
   ]
  },
  {
   "cell_type": "code",
   "execution_count": 2,
   "metadata": {},
   "outputs": [],
   "source": [
    "def get_files(path):\n",
    "    return [f for f in os.listdir(path) if 'png' in f]"
   ]
  },
  {
   "cell_type": "code",
   "execution_count": 3,
   "metadata": {},
   "outputs": [],
   "source": [
    "folder = 'img/'\n",
    "files = get_files(folder)"
   ]
  },
  {
   "cell_type": "code",
   "execution_count": 4,
   "metadata": {},
   "outputs": [],
   "source": [
    "def check_reverse(img):\n",
    "    dark = light = 0\n",
    "    for x in np.nditer(img):\n",
    "        if x < 127: dark += 1\n",
    "        else: light += 1\n",
    "    if dark > light: return True\n",
    "    else: return False"
   ]
  },
  {
   "cell_type": "code",
   "execution_count": 5,
   "metadata": {},
   "outputs": [],
   "source": [
    "model = load_model('straight_bs200e80vs60.h5')"
   ]
  },
  {
   "cell_type": "code",
   "execution_count": 6,
   "metadata": {},
   "outputs": [],
   "source": [
    "def predict(folder, file):\n",
    "    img = cv2.imread(folder+file, cv2.IMREAD_GRAYSCALE)  \n",
    "    if check_reverse(img): img = ~img  # ~ for inversed-img\n",
    "    img_bin = ~cv2.adaptiveThreshold(img,255,\n",
    "                                     cv2.ADAPTIVE_THRESH_GAUSSIAN_C,\n",
    "                                     cv2.THRESH_BINARY,\n",
    "#                                      99,10)\n",
    "                                     19, 10)  # only this 100%\n",
    "#                                    3,3)\n",
    "    img_ini = Image.fromarray(img_bin)\n",
    "    img28 = img_ini.resize((28,28), Image.ANTIALIAS)\n",
    "    arr28 = np.array(img28)\n",
    "    x = image.img_to_array(arr28)\n",
    "    x /= 255\n",
    "    x = np.expand_dims(x, axis=0)\n",
    "    return (np.argmax(model.predict(x)))"
   ]
  },
  {
   "cell_type": "code",
   "execution_count": 7,
   "metadata": {},
   "outputs": [
    {
     "name": "stdout",
     "output_type": "stream",
     "text": [
      "2i.png  2\n",
      "6i.png  6\n",
      "0.png  0\n",
      "5b.png  5\n",
      "four.png  4\n",
      "1i.png  1\n",
      "three.png  3\n",
      "7i.png  7\n",
      "zero.png  0\n",
      "0i.png  0\n",
      "3i.png  3\n",
      "3.png  3\n",
      "6.png  6\n",
      "eight.png  8\n",
      "one.png  1\n",
      "oneone.png  1\n",
      "1.png  1\n",
      "77.png  7\n",
      "2.png  2\n",
      "4i.png  4\n",
      "7.png  7\n",
      "nine.png  9\n",
      "five.png  5\n",
      "5i.png  5\n",
      "seven.png  7\n",
      "two.png  2\n",
      "six.png  6\n",
      "4.png  4\n",
      "8i.png  8\n",
      "8.png  8\n",
      "5.png  5\n",
      "9.png  9\n",
      "w5.png  5\n",
      "9i.png  9\n",
      "w9.png  9\n"
     ]
    }
   ],
   "source": [
    "for f in files:\n",
    "    print(f, predict(folder, f), sep='  ')"
   ]
  },
  {
   "cell_type": "code",
   "execution_count": null,
   "metadata": {},
   "outputs": [],
   "source": []
  }
 ],
 "metadata": {
  "kernelspec": {
   "display_name": "Python 3",
   "language": "python",
   "name": "python3"
  },
  "language_info": {
   "codemirror_mode": {
    "name": "ipython",
    "version": 3
   },
   "file_extension": ".py",
   "mimetype": "text/x-python",
   "name": "python",
   "nbconvert_exporter": "python",
   "pygments_lexer": "ipython3",
   "version": "3.8.2"
  }
 },
 "nbformat": 4,
 "nbformat_minor": 4
}
