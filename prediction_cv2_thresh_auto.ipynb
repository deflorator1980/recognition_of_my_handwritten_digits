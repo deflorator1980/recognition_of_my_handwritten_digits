{
 "cells": [
  {
   "cell_type": "code",
   "execution_count": 1,
   "metadata": {},
   "outputs": [],
   "source": [
    "import cv2\n",
    "import numpy as np\n",
    "from PIL import Image\n",
    "from tensorflow.keras.models import load_model\n",
    "from tensorflow.keras.preprocessing import image\n",
    "import os"
   ]
  },
  {
   "cell_type": "code",
   "execution_count": 2,
   "metadata": {},
   "outputs": [],
   "source": [
    "def get_files(path):\n",
    "    return [f for f in os.listdir(path) if 'png' in f]"
   ]
  },
  {
   "cell_type": "code",
   "execution_count": 3,
   "metadata": {},
   "outputs": [],
   "source": [
    "folder = 'img/'\n",
    "files = get_files(folder)"
   ]
  },
  {
   "cell_type": "code",
   "execution_count": 4,
   "metadata": {},
   "outputs": [],
   "source": [
    "def check_reverse(img):\n",
    "    dark = light = 0\n",
    "    for x in np.nditer(img):\n",
    "        if x < 127: dark += 1\n",
    "        else: light += 1\n",
    "    if dark > light: return True\n",
    "    else: return False"
   ]
  },
  {
   "cell_type": "code",
   "execution_count": 5,
   "metadata": {},
   "outputs": [],
   "source": [
    "# model = load_model('straight_bs200e30.h5')\n",
    "model = load_model('es.h5')"
   ]
  },
  {
   "cell_type": "code",
   "execution_count": 6,
   "metadata": {},
   "outputs": [],
   "source": [
    "def predict(folder, file):\n",
    "    img = cv2.imread(folder+file, cv2.IMREAD_GRAYSCALE)  \n",
    "    if check_reverse(img): img = ~img  # ~ for inversed-img\n",
    "    img_bin = ~cv2.adaptiveThreshold(img,255,\n",
    "                                     cv2.ADAPTIVE_THRESH_GAUSSIAN_C,\n",
    "                                     cv2.THRESH_BINARY,\n",
    "#                                      99,10)\n",
    "                                     19, 10)  # only this 100%\n",
    "#                                    3,3)\n",
    "    img_ini = Image.fromarray(img_bin)\n",
    "    img28 = img_ini.resize((28,28), Image.ANTIALIAS)\n",
    "    arr28 = np.array(img28)\n",
    "    x = image.img_to_array(arr28)\n",
    "    x /= 255\n",
    "    x = np.expand_dims(x, axis=0)\n",
    "    return (np.argmax(model.predict(x)))"
   ]
  },
  {
   "cell_type": "code",
   "execution_count": 7,
   "metadata": {
    "tags": []
   },
   "outputs": [
    {
     "output_type": "stream",
     "name": "stdout",
     "text": "2i.png  2\n6i.png  6\n0.png  0\n5b.png  5\nfour.png  4\n1i.png  1\nthree.png  3\n7i.png  7\nzero.png  0\n0i.png  0\n3i.png  3\n3.png  3\n6.png  6\neight.png  8\none.png  1\noneone.png  1\n1.png  1\n77.png  7\n2.png  2\n4i.png  4\n7.png  7\nnine.png  9\nfive.png  5\n5i.png  5\nseven.png  7\ntwo.png  2\nsix.png  6\n4.png  4\n8i.png  8\n8.png  8\n5.png  5\n9.png  9\nw5.png  5\n9i.png  9\nw9.png  9\n"
    }
   ],
   "source": [
    "for f in files:\n",
    "    print(f, predict(folder, f), sep='  ')"
   ]
  },
  {
   "cell_type": "code",
   "execution_count": null,
   "metadata": {},
   "outputs": [],
   "source": []
  }
 ],
 "metadata": {
  "kernelspec": {
   "display_name": "Python 3",
   "language": "python",
   "name": "python3"
  },
  "language_info": {
   "codemirror_mode": {
    "name": "ipython",
    "version": 3
   },
   "file_extension": ".py",
   "mimetype": "text/x-python",
   "name": "python",
   "nbconvert_exporter": "python",
   "pygments_lexer": "ipython3",
   "version": "3.8.2-final"
  }
 },
 "nbformat": 4,
 "nbformat_minor": 4
}