{
 "cells": [
  {
   "cell_type": "code",
   "execution_count": 1,
   "metadata": {},
   "outputs": [],
   "source": [
    "import cv2\n",
    "import numpy as np\n",
    "import tensorflow as tf\n",
    "from PIL import Image\n",
    "from tensorflow.keras.models import load_model\n",
    "from tensorflow.keras.preprocessing import image\n",
    "import os"
   ]
  },
  {
   "cell_type": "code",
   "execution_count": 2,
   "metadata": {},
   "outputs": [],
   "source": [
    "def get_files(path):\n",
    "    return [f for f in os.listdir(path) if 'png' in f or 'jpg' in f]"
   ]
  },
  {
   "cell_type": "code",
   "execution_count": 3,
   "metadata": {},
   "outputs": [],
   "source": [
    "folder = 'img/'\n",
    "files = get_files(folder)"
   ]
  },
  {
   "cell_type": "code",
   "execution_count": 4,
   "metadata": {},
   "outputs": [],
   "source": [
    "def check_reverse(img):\n",
    "    dark = light = 0\n",
    "    for x in np.nditer(img):\n",
    "        if x < 127: dark += 1\n",
    "        else: light += 1\n",
    "    if dark > light: return True\n",
    "    else: return False"
   ]
  },
  {
   "cell_type": "code",
   "execution_count": 5,
   "metadata": {},
   "outputs": [],
   "source": [
    "# model = load_model('straight_bs200e30.h5')\n",
    "model = load_model('es.h5')"
   ]
  },
  {
   "cell_type": "code",
   "execution_count": 6,
   "metadata": {},
   "outputs": [],
   "source": [
    "def predict(folder, file):\n",
    "    img = cv2.imread(folder+file, cv2.IMREAD_GRAYSCALE)  \n",
    "    if check_reverse(img): img = ~img  # ~ for inversed-img\n",
    "    img_bin = ~cv2.adaptiveThreshold(img,255,\n",
    "                                     cv2.ADAPTIVE_THRESH_GAUSSIAN_C,\n",
    "                                     cv2.THRESH_BINARY,\n",
    "#                                      99,10)\n",
    "                                     19, 10)  # only this 100%\n",
    "#                                    3,3)\n",
    "    img_ini = Image.fromarray(img_bin)\n",
    "    img28 = img_ini.resize((28,28), Image.ANTIALIAS)\n",
    "    arr28 = np.array(img28)\n",
    "    a = arr28.reshape(1,28,28,1)/255\n",
    "    return np.argmax(model.predict(a))"
   ]
  },
  {
   "cell_type": "code",
   "execution_count": 7,
   "metadata": {},
   "outputs": [],
   "source": [
    "count = 0\n",
    "for i in range(0, len(files)):\n",
    "    if int(files[i][0]) == predict(folder, files[i]):\n",
    "        count += 1"
   ]
  },
  {
   "cell_type": "code",
   "execution_count": 8,
   "metadata": {},
   "outputs": [
    {
     "name": "stdout",
     "output_type": "stream",
     "text": [
      "100.0 %\n"
     ]
    }
   ],
   "source": [
    "print (count / len(files) * 100, '%')"
   ]
  },
  {
   "cell_type": "code",
   "execution_count": 9,
   "metadata": {
    "tags": []
   },
   "outputs": [
    {
     "name": "stdout",
     "output_type": "stream",
     "text": [
      "0.png  0\n",
      "2i.png  2\n",
      "7seven.png  7\n",
      "3.png  3\n",
      "2two.png  2\n",
      "3i.png  3\n",
      "5w.png  5\n",
      "5five.png  5\n",
      "8.png  8\n",
      "9w.png  9\n",
      "1one.png  1\n",
      "5b.png  5\n",
      "6.png  6\n",
      "4.png  4\n",
      "2.png  2\n",
      "4i.png  4\n",
      "8eight.png  8\n",
      "1i.png  1\n",
      "6six.png  6\n",
      "9nine.png  9\n",
      "0zero.png  0\n",
      "77.png  7\n",
      "0i.png  0\n",
      "1.png  1\n",
      "5i.png  5\n",
      "9.png  9\n",
      "7i.png  7\n",
      "9i.png  9\n",
      "4four.png  4\n",
      "8i.png  8\n",
      "5.png  5\n",
      "1oneone.png  1\n",
      "7.png  7\n",
      "3three.png  3\n",
      "6i.png  6\n"
     ]
    }
   ],
   "source": [
    "for f in files:\n",
    "    print(f, predict(folder, f), sep='  ')"
   ]
  },
  {
   "cell_type": "code",
   "execution_count": null,
   "metadata": {},
   "outputs": [],
   "source": []
  }
 ],
 "metadata": {
  "kernelspec": {
   "display_name": "Python 3",
   "language": "python",
   "name": "python3"
  },
  "language_info": {
   "codemirror_mode": {
    "name": "ipython",
    "version": 3
   },
   "file_extension": ".py",
   "mimetype": "text/x-python",
   "name": "python",
   "nbconvert_exporter": "python",
   "pygments_lexer": "ipython3",
   "version": "3.9.5"
  }
 },
 "nbformat": 4,
 "nbformat_minor": 4
}
