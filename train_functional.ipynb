{
 "cells": [
  {
   "cell_type": "code",
   "execution_count": 13,
   "metadata": {
    "execution": {
     "iopub.execute_input": "2021-07-19T11:51:26.776672Z",
     "iopub.status.busy": "2021-07-19T11:51:26.776247Z",
     "iopub.status.idle": "2021-07-19T11:51:26.782236Z",
     "shell.execute_reply": "2021-07-19T11:51:26.781259Z",
     "shell.execute_reply.started": "2021-07-19T11:51:26.776633Z"
    }
   },
   "outputs": [],
   "source": [
    "import tensorflow as tf\n",
    "import numpy as np\n",
    "from keras.utils import np_utils\n",
    "from tensorflow.keras.preprocessing.image import ImageDataGenerator\n",
    "import matplotlib.pyplot as plt"
   ]
  },
  {
   "cell_type": "code",
   "execution_count": 14,
   "metadata": {
    "execution": {
     "iopub.execute_input": "2021-07-19T11:51:26.784669Z",
     "iopub.status.busy": "2021-07-19T11:51:26.784152Z",
     "iopub.status.idle": "2021-07-19T11:51:26.856498Z",
     "shell.execute_reply": "2021-07-19T11:51:26.855744Z",
     "shell.execute_reply.started": "2021-07-19T11:51:26.784627Z"
    }
   },
   "outputs": [],
   "source": [
    "inputs = tf.keras.Input(shape=(28,28,1)) \n",
    "x = tf.keras.layers.Conv2D(32, (3,3))(inputs)\n",
    "x = tf.keras.layers.Activation('relu')(x)\n",
    "x = tf.keras.layers.Conv2D(32, (3,3))(x)\n",
    "x = tf.keras.layers.Activation('relu')(x)\n",
    "x = tf.keras.layers.MaxPool2D(pool_size=(2,2))(x)\n",
    "x = tf.keras.layers.Conv2D(64, (3,3))(x)\n",
    "x = tf.keras.layers.Activation('relu')(x)\n",
    "x = tf.keras.layers.Conv2D(64, (3,3))(x)\n",
    "x = tf.keras.layers.Activation('relu')(x)\n",
    "x = tf.keras.layers.MaxPool2D(pool_size=(2,2))(x)\n",
    "x = tf.keras.layers.Flatten()(x)\n",
    "x = tf.keras.layers.Dense(512)(x)\n",
    "x = tf.keras.layers.Activation('relu')(x)\n",
    "x = tf.keras.layers.Dropout(0.2)(x)\n",
    "x = tf.keras.layers.Dense(10)(x)\n",
    "x = tf.keras.layers.Activation('softmax')(x)"
   ]
  },
  {
   "cell_type": "code",
   "execution_count": 15,
   "metadata": {
    "execution": {
     "iopub.execute_input": "2021-07-19T11:51:26.858542Z",
     "iopub.status.busy": "2021-07-19T11:51:26.858191Z",
     "iopub.status.idle": "2021-07-19T11:51:26.866319Z",
     "shell.execute_reply": "2021-07-19T11:51:26.865468Z",
     "shell.execute_reply.started": "2021-07-19T11:51:26.858508Z"
    }
   },
   "outputs": [],
   "source": [
    "model = tf.keras.Model(inputs, x)"
   ]
  },
  {
   "cell_type": "code",
   "execution_count": 16,
   "metadata": {
    "execution": {
     "iopub.execute_input": "2021-07-19T11:51:26.868293Z",
     "iopub.status.busy": "2021-07-19T11:51:26.867893Z",
     "iopub.status.idle": "2021-07-19T11:51:26.880883Z",
     "shell.execute_reply": "2021-07-19T11:51:26.880048Z",
     "shell.execute_reply.started": "2021-07-19T11:51:26.868254Z"
    }
   },
   "outputs": [],
   "source": [
    "model.compile(optimizer='adam', loss='categorical_crossentropy', metrics=['accuracy'])"
   ]
  },
  {
   "cell_type": "code",
   "execution_count": 17,
   "metadata": {
    "execution": {
     "iopub.execute_input": "2021-07-19T11:51:26.883314Z",
     "iopub.status.busy": "2021-07-19T11:51:26.882475Z",
     "iopub.status.idle": "2021-07-19T11:51:26.898786Z",
     "shell.execute_reply": "2021-07-19T11:51:26.897928Z",
     "shell.execute_reply.started": "2021-07-19T11:51:26.883288Z"
    }
   },
   "outputs": [
    {
     "name": "stdout",
     "output_type": "stream",
     "text": [
      "Model: \"model_1\"\n",
      "_________________________________________________________________\n",
      "Layer (type)                 Output Shape              Param #   \n",
      "=================================================================\n",
      "input_2 (InputLayer)         [(None, 28, 28, 1)]       0         \n",
      "_________________________________________________________________\n",
      "conv2d_4 (Conv2D)            (None, 26, 26, 32)        320       \n",
      "_________________________________________________________________\n",
      "activation_6 (Activation)    (None, 26, 26, 32)        0         \n",
      "_________________________________________________________________\n",
      "conv2d_5 (Conv2D)            (None, 24, 24, 32)        9248      \n",
      "_________________________________________________________________\n",
      "activation_7 (Activation)    (None, 24, 24, 32)        0         \n",
      "_________________________________________________________________\n",
      "max_pooling2d_2 (MaxPooling2 (None, 12, 12, 32)        0         \n",
      "_________________________________________________________________\n",
      "conv2d_6 (Conv2D)            (None, 10, 10, 64)        18496     \n",
      "_________________________________________________________________\n",
      "activation_8 (Activation)    (None, 10, 10, 64)        0         \n",
      "_________________________________________________________________\n",
      "conv2d_7 (Conv2D)            (None, 8, 8, 64)          36928     \n",
      "_________________________________________________________________\n",
      "activation_9 (Activation)    (None, 8, 8, 64)          0         \n",
      "_________________________________________________________________\n",
      "max_pooling2d_3 (MaxPooling2 (None, 4, 4, 64)          0         \n",
      "_________________________________________________________________\n",
      "flatten_1 (Flatten)          (None, 1024)              0         \n",
      "_________________________________________________________________\n",
      "dense_2 (Dense)              (None, 512)               524800    \n",
      "_________________________________________________________________\n",
      "activation_10 (Activation)   (None, 512)               0         \n",
      "_________________________________________________________________\n",
      "dropout_1 (Dropout)          (None, 512)               0         \n",
      "_________________________________________________________________\n",
      "dense_3 (Dense)              (None, 10)                5130      \n",
      "_________________________________________________________________\n",
      "activation_11 (Activation)   (None, 10)                0         \n",
      "=================================================================\n",
      "Total params: 594,922\n",
      "Trainable params: 594,922\n",
      "Non-trainable params: 0\n",
      "_________________________________________________________________\n"
     ]
    }
   ],
   "source": [
    "model.summary()"
   ]
  },
  {
   "cell_type": "code",
   "execution_count": 18,
   "metadata": {
    "execution": {
     "iopub.execute_input": "2021-07-19T11:51:26.901562Z",
     "iopub.status.busy": "2021-07-19T11:51:26.901321Z",
     "iopub.status.idle": "2021-07-19T11:51:26.908839Z",
     "shell.execute_reply": "2021-07-19T11:51:26.907749Z",
     "shell.execute_reply.started": "2021-07-19T11:51:26.901539Z"
    }
   },
   "outputs": [
    {
     "data": {
      "text/plain": [
       "{'name': 'Adam',\n",
       " 'learning_rate': 0.001,\n",
       " 'decay': 0.0,\n",
       " 'beta_1': 0.9,\n",
       " 'beta_2': 0.999,\n",
       " 'epsilon': 1e-07,\n",
       " 'amsgrad': False}"
      ]
     },
     "execution_count": 18,
     "metadata": {},
     "output_type": "execute_result"
    }
   ],
   "source": [
    "model.optimizer.get_config()"
   ]
  },
  {
   "cell_type": "code",
   "execution_count": 19,
   "metadata": {
    "execution": {
     "iopub.execute_input": "2021-07-19T11:51:26.910893Z",
     "iopub.status.busy": "2021-07-19T11:51:26.910409Z",
     "iopub.status.idle": "2021-07-19T11:51:27.187514Z",
     "shell.execute_reply": "2021-07-19T11:51:27.186495Z",
     "shell.execute_reply.started": "2021-07-19T11:51:26.910858Z"
    },
    "id": "dMyh9mByb3La"
   },
   "outputs": [],
   "source": [
    "(x_train, y_train), (x_test, y_test) = tf.keras.datasets.mnist.load_data()"
   ]
  },
  {
   "cell_type": "code",
   "execution_count": 20,
   "metadata": {
    "execution": {
     "iopub.execute_input": "2021-07-19T11:51:27.190717Z",
     "iopub.status.busy": "2021-07-19T11:51:27.190178Z",
     "iopub.status.idle": "2021-07-19T11:51:27.278475Z",
     "shell.execute_reply": "2021-07-19T11:51:27.277549Z",
     "shell.execute_reply.started": "2021-07-19T11:51:27.190672Z"
    }
   },
   "outputs": [],
   "source": [
    "x_train = x_train[..., tf.newaxis].astype('float32')\n",
    "x_test = x_test[..., tf.newaxis].astype('float32')\n",
    "x_train /= 255\n",
    "x_test /= 255\n",
    "y_train = np_utils.to_categorical(y_train) \n",
    "y_test = np_utils.to_categorical(y_test)"
   ]
  },
  {
   "cell_type": "code",
   "execution_count": 21,
   "metadata": {
    "execution": {
     "iopub.execute_input": "2021-07-19T11:51:27.280390Z",
     "iopub.status.busy": "2021-07-19T11:51:27.280028Z",
     "iopub.status.idle": "2021-07-19T11:51:27.285027Z",
     "shell.execute_reply": "2021-07-19T11:51:27.284136Z",
     "shell.execute_reply.started": "2021-07-19T11:51:27.280354Z"
    },
    "id": "UBkFo7Xqb3L1",
    "tags": []
   },
   "outputs": [],
   "source": [
    "train_gen = ImageDataGenerator(rotation_range=15,\n",
    "                               width_shift_range=0.2,\n",
    "                               height_shift_range=0.1,\n",
    "                               zoom_range=0.1)"
   ]
  },
  {
   "cell_type": "code",
   "execution_count": 22,
   "metadata": {
    "execution": {
     "iopub.execute_input": "2021-07-19T11:51:27.286913Z",
     "iopub.status.busy": "2021-07-19T11:51:27.286537Z",
     "iopub.status.idle": "2021-07-19T11:51:27.296219Z",
     "shell.execute_reply": "2021-07-19T11:51:27.295397Z",
     "shell.execute_reply.started": "2021-07-19T11:51:27.286877Z"
    },
    "id": "W9ivXPgab3L5",
    "tags": []
   },
   "outputs": [],
   "source": [
    "training_set = train_gen.flow(x_train,y_train,batch_size=32)\n",
    "test_set = train_gen.flow(x_test,y_test,batch_size=32)"
   ]
  },
  {
   "cell_type": "code",
   "execution_count": 23,
   "metadata": {
    "execution": {
     "iopub.execute_input": "2021-07-19T11:51:27.297840Z",
     "iopub.status.busy": "2021-07-19T11:51:27.297394Z",
     "iopub.status.idle": "2021-07-19T11:51:27.309423Z",
     "shell.execute_reply": "2021-07-19T11:51:27.308403Z",
     "shell.execute_reply.started": "2021-07-19T11:51:27.297806Z"
    }
   },
   "outputs": [],
   "source": [
    "es_callback = tf.keras.callbacks.EarlyStopping(monitor='val_loss', # better than val_acc\n",
    "                                               patience=3, \n",
    "                                               mode='auto', # default\n",
    "                                               verbose=1)"
   ]
  },
  {
   "cell_type": "code",
   "execution_count": 24,
   "metadata": {
    "execution": {
     "iopub.execute_input": "2021-07-19T11:51:27.312282Z",
     "iopub.status.busy": "2021-07-19T11:51:27.311722Z",
     "iopub.status.idle": "2021-07-19T11:56:06.577762Z",
     "shell.execute_reply": "2021-07-19T11:56:06.576912Z",
     "shell.execute_reply.started": "2021-07-19T11:51:27.312248Z"
    }
   },
   "outputs": [
    {
     "name": "stdout",
     "output_type": "stream",
     "text": [
      "Epoch 1/30\n",
      "1875/1875 [==============================] - 26s 14ms/step - loss: 0.5217 - accuracy: 0.8277 - val_loss: 0.0863 - val_accuracy: 0.9717\n",
      "Epoch 2/30\n",
      "1875/1875 [==============================] - 26s 14ms/step - loss: 0.0932 - accuracy: 0.9730 - val_loss: 0.0522 - val_accuracy: 0.9833\n",
      "Epoch 3/30\n",
      "1875/1875 [==============================] - 25s 14ms/step - loss: 0.0717 - accuracy: 0.9786 - val_loss: 0.0457 - val_accuracy: 0.9847\n",
      "Epoch 4/30\n",
      "1875/1875 [==============================] - 24s 13ms/step - loss: 0.0558 - accuracy: 0.9831 - val_loss: 0.0483 - val_accuracy: 0.9842\n",
      "Epoch 5/30\n",
      "1875/1875 [==============================] - 27s 14ms/step - loss: 0.0569 - accuracy: 0.9836 - val_loss: 0.0504 - val_accuracy: 0.9848\n",
      "Epoch 6/30\n",
      "1875/1875 [==============================] - 24s 13ms/step - loss: 0.0506 - accuracy: 0.9847 - val_loss: 0.0372 - val_accuracy: 0.9890\n",
      "Epoch 7/30\n",
      "1875/1875 [==============================] - 25s 14ms/step - loss: 0.0413 - accuracy: 0.9873 - val_loss: 0.0330 - val_accuracy: 0.9896\n",
      "Epoch 8/30\n",
      "1875/1875 [==============================] - 26s 14ms/step - loss: 0.0405 - accuracy: 0.9880 - val_loss: 0.0274 - val_accuracy: 0.9908\n",
      "Epoch 9/30\n",
      "1875/1875 [==============================] - 24s 13ms/step - loss: 0.0402 - accuracy: 0.9876 - val_loss: 0.0305 - val_accuracy: 0.9905\n",
      "Epoch 10/30\n",
      "1875/1875 [==============================] - 26s 14ms/step - loss: 0.0359 - accuracy: 0.9898 - val_loss: 0.0287 - val_accuracy: 0.9907\n",
      "Epoch 11/30\n",
      "1875/1875 [==============================] - 26s 14ms/step - loss: 0.0338 - accuracy: 0.9891 - val_loss: 0.0368 - val_accuracy: 0.9896\n",
      "Epoch 00011: early stopping\n"
     ]
    }
   ],
   "source": [
    "history = model.fit(training_set,\n",
    "                         steps_per_epoch=len(x_train) // 32, # 300\n",
    "                         validation_data=test_set,\n",
    "                         validation_steps=len(x_test) // 32, # 50\n",
    "                         epochs=30,\n",
    "                         callbacks=[es_callback])"
   ]
  },
  {
   "cell_type": "code",
   "execution_count": 25,
   "metadata": {
    "execution": {
     "iopub.execute_input": "2021-07-19T11:56:06.579571Z",
     "iopub.status.busy": "2021-07-19T11:56:06.579230Z",
     "iopub.status.idle": "2021-07-19T11:56:06.773380Z",
     "shell.execute_reply": "2021-07-19T11:56:06.772190Z",
     "shell.execute_reply.started": "2021-07-19T11:56:06.579535Z"
    }
   },
   "outputs": [
    {
     "data": {
      "image/png": "[encoded data removed]",
      "text/plain": [
       "<Figure size 432x288 with 1 Axes>"
      ]
     },
     "metadata": {
      "needs_background": "light"
     },
     "output_type": "display_data"
    }
   ],
   "source": [
    "plt.plot(history.history['accuracy'],\n",
    "         label='accuracy')\n",
    "plt.plot(history.history['val_accuracy'],\n",
    "         label='val_accuracy')\n",
    "plt.xlabel('epoch')\n",
    "plt.ylabel('correct responses %')\n",
    "plt.legend()\n",
    "plt.show()"
   ]
  },
  {
   "cell_type": "code",
   "execution_count": 26,
   "metadata": {
    "execution": {
     "iopub.execute_input": "2021-07-19T11:56:06.775133Z",
     "iopub.status.busy": "2021-07-19T11:56:06.774640Z",
     "iopub.status.idle": "2021-07-19T11:56:06.915914Z",
     "shell.execute_reply": "2021-07-19T11:56:06.914924Z",
     "shell.execute_reply.started": "2021-07-19T11:56:06.775095Z"
    }
   },
   "outputs": [
    {
     "data": {
      "image/png": "[encoded data removed]",
      "text/plain": [
       "<Figure size 432x288 with 1 Axes>"
      ]
     },
     "metadata": {
      "needs_background": "light"
     },
     "output_type": "display_data"
    }
   ],
   "source": [
    "plt.plot(history.history['loss'],\n",
    "         label='loss')\n",
    "plt.plot(history.history['val_loss'],\n",
    "         label='val_loss')\n",
    "plt.xlabel('epoch')\n",
    "plt.ylabel('loss')\n",
    "plt.legend()\n",
    "plt.show()"
   ]
  },
  {
   "cell_type": "code",
   "execution_count": 27,
   "metadata": {
    "execution": {
     "iopub.execute_input": "2021-07-19T11:56:06.917715Z",
     "iopub.status.busy": "2021-07-19T11:56:06.917328Z",
     "iopub.status.idle": "2021-07-19T11:56:06.975890Z",
     "shell.execute_reply": "2021-07-19T11:56:06.975143Z",
     "shell.execute_reply.started": "2021-07-19T11:56:06.917675Z"
    }
   },
   "outputs": [],
   "source": [
    "model.save('es_func.h5')"
   ]
  }
 ],
 "metadata": {
  "kernelspec": {
   "display_name": "Python 3",
   "language": "python",
   "name": "python3"
  },
  "language_info": {
   "codemirror_mode": {
    "name": "ipython",
    "version": 3
   },
   "file_extension": ".py",
   "mimetype": "text/x-python",
   "name": "python",
   "nbconvert_exporter": "python",
   "pygments_lexer": "ipython3",
   "version": "3.9.6"
  }
 },
 "nbformat": 4,
 "nbformat_minor": 4
}
