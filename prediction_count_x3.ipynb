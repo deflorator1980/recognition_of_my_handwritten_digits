{
 "cells": [
  {
   "cell_type": "code",
   "execution_count": 1,
   "id": "aa4e283a-138b-4bbf-a441-e27ac4accf06",
   "metadata": {},
   "outputs": [],
   "source": [
    "from tensorflow.keras.models import load_model\n",
    "import os\n",
    "from tensorflow.keras.preprocessing import image\n",
    "import numpy as np\n",
    "import pathlib\n",
    "import matplotlib.pyplot as plt\n",
    "import cv2\n",
    "from PIL import Image"
   ]
  },
  {
   "cell_type": "code",
   "execution_count": 2,
   "id": "84d13d18-890a-4fe9-8412-01e39db77ba2",
   "metadata": {},
   "outputs": [],
   "source": [
    "# model = load_model('es_func_folder_x3.h5')\n",
    "model = load_model('es_func_exp.h5')"
   ]
  },
  {
   "cell_type": "code",
   "execution_count": 3,
   "id": "3c7bb1f3-25e6-43ce-be29-bc23c03313a3",
   "metadata": {},
   "outputs": [],
   "source": [
    "def prediction(img_path):\n",
    "    img = Image.open(img_path).resize((28,28), Image.ANTIALIAS).convert('RGB')\n",
    "    img = np.array(img)\n",
    "    pred = model.predict(np.expand_dims(img, axis=0))\n",
    "    return np.argmax(pred)"
   ]
  },
  {
   "cell_type": "code",
   "execution_count": 4,
   "id": "d9ab966a-a4e5-4e67-b551-80b2a246cd37",
   "metadata": {},
   "outputs": [],
   "source": [
    "# folder = '/home/a/datasets/mnist_png_160x3/testing/5/' # fol-98.3% exp-99.1%\n",
    "folder = '/home/a/datasets/mnist_png/testing/9/' # fol-99.7%, exp-98.7% \n",
    "\n",
    "files = [f for f in os.listdir(folder) if 'png' in f or 'jpg' in f]"
   ]
  },
  {
   "cell_type": "code",
   "execution_count": 5,
   "id": "b0f4f1dd-73f1-472b-b5d8-fb23b9de055b",
   "metadata": {},
   "outputs": [
    {
     "name": "stdout",
     "output_type": "stream",
     "text": [
      "1232.png 4\n"
     ]
    },
    {
     "data": {
      "image/png": "[encoded data removed]",
      "text/plain": [
       "<Figure size 432x288 with 1 Axes>"
      ]
     },
     "metadata": {
      "needs_background": "light"
     },
     "output_type": "display_data"
    },
    {
     "name": "stdout",
     "output_type": "stream",
     "text": [
      "1901.png 4\n"
     ]
    },
    {
     "data": {
      "image/png": "[encoded data removed]",
      "text/plain": [
       "<Figure size 432x288 with 1 Axes>"
      ]
     },
     "metadata": {
      "needs_background": "light"
     },
     "output_type": "display_data"
    },
    {
     "name": "stdout",
     "output_type": "stream",
     "text": [
      "4761.png 4\n"
     ]
    },
    {
     "data": {
      "image/png": "[encoded data removed]",
      "text/plain": [
       "<Figure size 432x288 with 1 Axes>"
      ]
     },
     "metadata": {
      "needs_background": "light"
     },
     "output_type": "display_data"
    },
    {
     "name": "stdout",
     "output_type": "stream",
     "text": [
      "99.70267591674926 %\n",
      "(array([4, 9]), array([   3, 1006]))\n"
     ]
    }
   ],
   "source": [
    "preds = []\n",
    "count = 0\n",
    "for i in range(0, len(files)):\n",
    "    res = prediction(os.path.join(folder,files[i]))\n",
    "    preds.append(res)\n",
    "    if pathlib.PurePath(folder).name  == str(res):\n",
    "        count += 1\n",
    "    else: \n",
    "        print(files[i], res)\n",
    "        plt.imshow(cv2.imread(os.path.join(folder,files[i])))\n",
    "        plt.title(res)\n",
    "        plt.show()\n",
    "print (count / len(files) * 100, '%')   \n",
    "\n",
    "results = np.array(preds)\n",
    "print(np.unique(results, return_counts=True))"
   ]
  },
  {
   "cell_type": "code",
   "execution_count": null,
   "id": "720ee928-4753-4f8d-b0ee-49c7fd351baf",
   "metadata": {},
   "outputs": [],
   "source": []
  }
 ],
 "metadata": {
  "kernelspec": {
   "display_name": "Python 3",
   "language": "python",
   "name": "python3"
  },
  "language_info": {
   "codemirror_mode": {
    "name": "ipython",
    "version": 3
   },
   "file_extension": ".py",
   "mimetype": "text/x-python",
   "name": "python",
   "nbconvert_exporter": "python",
   "pygments_lexer": "ipython3",
   "version": "3.9.6"
  }
 },
 "nbformat": 4,
 "nbformat_minor": 5
}
